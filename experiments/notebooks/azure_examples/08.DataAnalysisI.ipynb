{
 "cells": [
  {
   "cell_type": "markdown",
   "metadata": {},
   "source": [
    "# Data Analysis I Using `pandas`"
   ]
  },
  {
   "cell_type": "markdown",
   "metadata": {},
   "source": [
    "## <img src='https://az712634.vo.msecnd.net/notebooks/python_course/v1/geekcup.png' alt=\"Smiley face\" width=\"42\" height=\"42\" align=\"left\">Learning Objectives\n",
    "---\n",
    "* See some basic options for importing data files\n",
    "* Understand how to manipulate row and column names\n",
    "* Get an idea of how to deal with missing data\n",
    "* Become familiar with slicing data\n",
    "* Become familiar with assignment\n",
    "* See how broadcasting works\n",
    "* Understand more data structure manipulation (adding and removing columns)"
   ]
  },
  {
   "cell_type": "code",
   "execution_count": 2,
   "metadata": {
    "collapsed": false
   },
   "outputs": [],
   "source": [
    "import pandas as pd\n",
    "import numpy as np"
   ]
  },
  {
   "cell_type": "markdown",
   "metadata": {},
   "source": [
    "### Data types in `pandas` - you will see through examples how these work\n",
    "* `Series`\n",
    "* `DataFrame`\n",
    "* `Panel` (not covered here)"
   ]
  },
  {
   "cell_type": "markdown",
   "metadata": {},
   "source": [
    "### Input from csv and excel files"
   ]
  },
  {
   "cell_type": "code",
   "execution_count": 7,
   "metadata": {
    "collapsed": false
   },
   "outputs": [
    {
     "name": "stdout",
     "output_type": "stream",
     "text": [
      "LICENSE.txt  conda-meta  etc\t  lib\t pkgs\tssl\n",
      "bin\t     envs\t include  lib64  share\tvar\n",
      "--2017-02-09 13:37:37--  http://*.*/\n",
      "Resolving webproxy (webproxy)... 100.105.133.11\n",
      "Connecting to webproxy (webproxy)|100.105.133.11|:3128... connected.\n",
      "Proxy request sent, awaiting response... 403 Forbidden\n",
      "2017-02-09 13:37:37 ERROR 403: Forbidden.\n",
      "\n"
     ]
    }
   ],
   "source": [
    "# Check current directory for files\n",
    "\n",
    "# Uncomment for linux or OSX\n",
    "!ls ./anaconda3_410\n",
    "#!wget *.*\n",
    "#!ls 'https://raw.githubusercontent.com/ogrisel/parallel_ml_tutorial/master/notebooks'\n",
    "# Uncomment for windows\n",
    "#!dir"
   ]
  },
  {
   "cell_type": "code",
   "execution_count": 3,
   "metadata": {
    "collapsed": false
   },
   "outputs": [],
   "source": [
    "# Reading a csv file with the read_csv function\n",
    "\n",
    "import os\n",
    "\n",
    "data = pd.read_csv('https://raw.githubusercontent.com/ogrisel/parallel_ml_tutorial/master/notebooks/titanic_train.csv', \n",
    "                    sep = ',')"
   ]
  },
  {
   "cell_type": "code",
   "execution_count": 4,
   "metadata": {
    "collapsed": false
   },
   "outputs": [
    {
     "name": "stdout",
     "output_type": "stream",
     "text": [
      "(891, 12)\n",
      "Index([u'PassengerId', u'Survived', u'Pclass', u'Name', u'Sex', u'Age', u'SibSp', u'Parch', u'Ticket', u'Fare', u'Cabin', u'Embarked'], dtype='object')\n"
     ]
    },
    {
     "data": {
      "text/html": [
       "<div style=\"max-height:1000px;max-width:1500px;overflow:auto;\">\n",
       "<table border=\"1\" class=\"dataframe\">\n",
       "  <thead>\n",
       "    <tr style=\"text-align: right;\">\n",
       "      <th></th>\n",
       "      <th>PassengerId</th>\n",
       "      <th>Survived</th>\n",
       "      <th>Pclass</th>\n",
       "      <th>Name</th>\n",
       "      <th>Sex</th>\n",
       "      <th>Age</th>\n",
       "      <th>SibSp</th>\n",
       "      <th>Parch</th>\n",
       "      <th>Ticket</th>\n",
       "      <th>Fare</th>\n",
       "      <th>Cabin</th>\n",
       "      <th>Embarked</th>\n",
       "    </tr>\n",
       "  </thead>\n",
       "  <tbody>\n",
       "    <tr>\n",
       "      <th>0</th>\n",
       "      <td> 1</td>\n",
       "      <td> 0</td>\n",
       "      <td> 3</td>\n",
       "      <td>                           Braund, Mr. Owen Harris</td>\n",
       "      <td>   male</td>\n",
       "      <td> 22</td>\n",
       "      <td> 1</td>\n",
       "      <td> 0</td>\n",
       "      <td>        A/5 21171</td>\n",
       "      <td>  7.2500</td>\n",
       "      <td>  NaN</td>\n",
       "      <td> S</td>\n",
       "    </tr>\n",
       "    <tr>\n",
       "      <th>1</th>\n",
       "      <td> 2</td>\n",
       "      <td> 1</td>\n",
       "      <td> 1</td>\n",
       "      <td> Cumings, Mrs. John Bradley (Florence Briggs Th...</td>\n",
       "      <td> female</td>\n",
       "      <td> 38</td>\n",
       "      <td> 1</td>\n",
       "      <td> 0</td>\n",
       "      <td>         PC 17599</td>\n",
       "      <td> 71.2833</td>\n",
       "      <td>  C85</td>\n",
       "      <td> C</td>\n",
       "    </tr>\n",
       "    <tr>\n",
       "      <th>2</th>\n",
       "      <td> 3</td>\n",
       "      <td> 1</td>\n",
       "      <td> 3</td>\n",
       "      <td>                            Heikkinen, Miss. Laina</td>\n",
       "      <td> female</td>\n",
       "      <td> 26</td>\n",
       "      <td> 0</td>\n",
       "      <td> 0</td>\n",
       "      <td> STON/O2. 3101282</td>\n",
       "      <td>  7.9250</td>\n",
       "      <td>  NaN</td>\n",
       "      <td> S</td>\n",
       "    </tr>\n",
       "    <tr>\n",
       "      <th>3</th>\n",
       "      <td> 4</td>\n",
       "      <td> 1</td>\n",
       "      <td> 1</td>\n",
       "      <td>      Futrelle, Mrs. Jacques Heath (Lily May Peel)</td>\n",
       "      <td> female</td>\n",
       "      <td> 35</td>\n",
       "      <td> 1</td>\n",
       "      <td> 0</td>\n",
       "      <td>           113803</td>\n",
       "      <td> 53.1000</td>\n",
       "      <td> C123</td>\n",
       "      <td> S</td>\n",
       "    </tr>\n",
       "    <tr>\n",
       "      <th>4</th>\n",
       "      <td> 5</td>\n",
       "      <td> 0</td>\n",
       "      <td> 3</td>\n",
       "      <td>                          Allen, Mr. William Henry</td>\n",
       "      <td>   male</td>\n",
       "      <td> 35</td>\n",
       "      <td> 0</td>\n",
       "      <td> 0</td>\n",
       "      <td>           373450</td>\n",
       "      <td>  8.0500</td>\n",
       "      <td>  NaN</td>\n",
       "      <td> S</td>\n",
       "    </tr>\n",
       "  </tbody>\n",
       "</table>\n",
       "</div>"
      ],
      "text/plain": [
       "   PassengerId  Survived  Pclass  \\\n",
       "0            1         0       3   \n",
       "1            2         1       1   \n",
       "2            3         1       3   \n",
       "3            4         1       1   \n",
       "4            5         0       3   \n",
       "\n",
       "                                                Name     Sex  Age  SibSp  \\\n",
       "0                            Braund, Mr. Owen Harris    male   22      1   \n",
       "1  Cumings, Mrs. John Bradley (Florence Briggs Th...  female   38      1   \n",
       "2                             Heikkinen, Miss. Laina  female   26      0   \n",
       "3       Futrelle, Mrs. Jacques Heath (Lily May Peel)  female   35      1   \n",
       "4                           Allen, Mr. William Henry    male   35      0   \n",
       "\n",
       "   Parch            Ticket     Fare Cabin Embarked  \n",
       "0      0         A/5 21171   7.2500   NaN        S  \n",
       "1      0          PC 17599  71.2833   C85        C  \n",
       "2      0  STON/O2. 3101282   7.9250   NaN        S  \n",
       "3      0            113803  53.1000  C123        S  \n",
       "4      0            373450   8.0500   NaN        S  "
      ]
     },
     "execution_count": 4,
     "metadata": {},
     "output_type": "execute_result"
    }
   ],
   "source": [
    "# What are the dimensions\n",
    "print(data.shape)\n",
    "\n",
    "# What are the column names\n",
    "print(data.columns)\n",
    "\n",
    "# What do the first few rows look like\n",
    "data.head()"
   ]
  },
  {
   "cell_type": "markdown",
   "metadata": {},
   "source": [
    "To read an excel file, ensure you have the <b>`xlrd`</b> package installed (`pandas` method `read_excel` needs it).  For Windows binaries go [here](http://www.lfd.uci.edu/~gohlke/pythonlibs/).  If you have a conda install, just `conda install xlrd`.\n",
    "\n",
    "With `pandas` and `xlrd` one can read an excel file by simply:\n",
    "\n",
    "```python\n",
    "# Reading from an excel file with read_excel\n",
    "data = pd.read_excel(os.path.join('data', 'GDS4517.xls'))\n",
    "```"
   ]
  },
  {
   "cell_type": "code",
   "execution_count": 5,
   "metadata": {
    "collapsed": false
   },
   "outputs": [
    {
     "data": {
      "text/html": [
       "<div style=\"max-height:1000px;max-width:1500px;overflow:auto;\">\n",
       "<table border=\"1\" class=\"dataframe\">\n",
       "  <thead>\n",
       "    <tr style=\"text-align: right;\">\n",
       "      <th></th>\n",
       "      <th>a</th>\n",
       "      <th>b</th>\n",
       "    </tr>\n",
       "  </thead>\n",
       "  <tbody>\n",
       "    <tr>\n",
       "      <th>0</th>\n",
       "      <td> 0</td>\n",
       "      <td> 0.000000</td>\n",
       "    </tr>\n",
       "    <tr>\n",
       "      <th>1</th>\n",
       "      <td> 1</td>\n",
       "      <td> 0.841471</td>\n",
       "    </tr>\n",
       "    <tr>\n",
       "      <th>2</th>\n",
       "      <td> 2</td>\n",
       "      <td> 0.909297</td>\n",
       "    </tr>\n",
       "    <tr>\n",
       "      <th>3</th>\n",
       "      <td> 3</td>\n",
       "      <td> 0.141120</td>\n",
       "    </tr>\n",
       "    <tr>\n",
       "      <th>4</th>\n",
       "      <td> 4</td>\n",
       "      <td>-0.756802</td>\n",
       "    </tr>\n",
       "    <tr>\n",
       "      <th>5</th>\n",
       "      <td> 5</td>\n",
       "      <td>-0.958924</td>\n",
       "    </tr>\n",
       "    <tr>\n",
       "      <th>6</th>\n",
       "      <td> 6</td>\n",
       "      <td>-0.279415</td>\n",
       "    </tr>\n",
       "    <tr>\n",
       "      <th>7</th>\n",
       "      <td> 7</td>\n",
       "      <td> 0.656987</td>\n",
       "    </tr>\n",
       "    <tr>\n",
       "      <th>8</th>\n",
       "      <td> 8</td>\n",
       "      <td> 0.989358</td>\n",
       "    </tr>\n",
       "    <tr>\n",
       "      <th>9</th>\n",
       "      <td> 9</td>\n",
       "      <td> 0.412118</td>\n",
       "    </tr>\n",
       "  </tbody>\n",
       "</table>\n",
       "</div>"
      ],
      "text/plain": [
       "   a         b\n",
       "0  0  0.000000\n",
       "1  1  0.841471\n",
       "2  2  0.909297\n",
       "3  3  0.141120\n",
       "4  4 -0.756802\n",
       "5  5 -0.958924\n",
       "6  6 -0.279415\n",
       "7  7  0.656987\n",
       "8  8  0.989358\n",
       "9  9  0.412118"
      ]
     },
     "execution_count": 5,
     "metadata": {},
     "output_type": "execute_result"
    }
   ],
   "source": [
    "# Some toy data\n",
    "a = np.arange(10)\n",
    "b = np.sin(a)\n",
    "\n",
    "# Place it into a dictionary\n",
    "array_dict = {'a': a, 'b': b}\n",
    "\n",
    "# Initialize a dataframe with toy data\n",
    "df = pd.DataFrame(array_dict)\n",
    "df"
   ]
  },
  {
   "cell_type": "markdown",
   "metadata": {},
   "source": [
    "### The idea behind `pandas`\n",
    "* The most common data structure in `pandas` is the **DataFrame** much like the analogous data.frame in R.\n",
    "\n",
    "```python\n",
    "# Some toy data\n",
    "a = np.arange(10)\n",
    "b = np.sin(a)\n",
    "\n",
    "# Place it into a dictionary\n",
    "array_dict = {'a': a, 'b': b}\n",
    "\n",
    "# Initialize a dataframe with toy data\n",
    "df = pd.DataFrame(array_dict)\n",
    "```"
   ]
  },
  {
   "cell_type": "markdown",
   "metadata": {},
   "source": [
    "* `pandas` provides higher level data manipulation tools than `numpy`, but is built on top of `numpy`.  Given the richness of capabilities with `pandas`, `pandas` operations are often slower than a similar operation with a `numpy` array.  However, it is not hard to convert from one to the other.\n",
    "* The basic unit of the DataFrame in `pandas` is of the `Series` type."
   ]
  },
  {
   "cell_type": "code",
   "execution_count": 8,
   "metadata": {
    "collapsed": false
   },
   "outputs": [
    {
     "name": "stdout",
     "output_type": "stream",
     "text": [
      "[[9 4 9 7]\n",
      " [3 3 2 2]\n",
      " [8 2 6 9]\n",
      " [3 1 5 1]]\n"
     ]
    },
    {
     "data": {
      "text/html": [
       "<div style=\"max-height:1000px;max-width:1500px;overflow:auto;\">\n",
       "<table border=\"1\" class=\"dataframe\">\n",
       "  <thead>\n",
       "    <tr style=\"text-align: right;\">\n",
       "      <th></th>\n",
       "      <th>0</th>\n",
       "      <th>1</th>\n",
       "      <th>2</th>\n",
       "      <th>3</th>\n",
       "    </tr>\n",
       "  </thead>\n",
       "  <tbody>\n",
       "    <tr>\n",
       "      <th>0</th>\n",
       "      <td> 9</td>\n",
       "      <td> 4</td>\n",
       "      <td> 9</td>\n",
       "      <td> 7</td>\n",
       "    </tr>\n",
       "    <tr>\n",
       "      <th>1</th>\n",
       "      <td> 3</td>\n",
       "      <td> 3</td>\n",
       "      <td> 2</td>\n",
       "      <td> 2</td>\n",
       "    </tr>\n",
       "    <tr>\n",
       "      <th>2</th>\n",
       "      <td> 8</td>\n",
       "      <td> 2</td>\n",
       "      <td> 6</td>\n",
       "      <td> 9</td>\n",
       "    </tr>\n",
       "    <tr>\n",
       "      <th>3</th>\n",
       "      <td> 3</td>\n",
       "      <td> 1</td>\n",
       "      <td> 5</td>\n",
       "      <td> 1</td>\n",
       "    </tr>\n",
       "  </tbody>\n",
       "</table>\n",
       "</div>"
      ],
      "text/plain": [
       "   0  1  2  3\n",
       "0  9  4  9  7\n",
       "1  3  3  2  2\n",
       "2  8  2  6  9\n",
       "3  3  1  5  1"
      ]
     },
     "execution_count": 8,
     "metadata": {},
     "output_type": "execute_result"
    }
   ],
   "source": [
    "# 2D numpy array\n",
    "np_array = np.random.randint(1, 10, size = 16).reshape(4, 4)\n",
    "print(np_array)\n",
    "# Convert to pd DataFrame\n",
    "df = pd.DataFrame(np_array)\n",
    "\n",
    "df"
   ]
  },
  {
   "cell_type": "code",
   "execution_count": 9,
   "metadata": {
    "collapsed": false
   },
   "outputs": [
    {
     "data": {
      "text/html": [
       "<div style=\"max-height:1000px;max-width:1500px;overflow:auto;\">\n",
       "<table border=\"1\" class=\"dataframe\">\n",
       "  <thead>\n",
       "    <tr style=\"text-align: right;\">\n",
       "      <th></th>\n",
       "      <th>a</th>\n",
       "      <th>b</th>\n",
       "      <th>c</th>\n",
       "      <th>d</th>\n",
       "    </tr>\n",
       "  </thead>\n",
       "  <tbody>\n",
       "    <tr>\n",
       "      <th>0</th>\n",
       "      <td> 0</td>\n",
       "      <td> 1</td>\n",
       "      <td>  2</td>\n",
       "      <td>  3</td>\n",
       "    </tr>\n",
       "    <tr>\n",
       "      <th>1</th>\n",
       "      <td> 4</td>\n",
       "      <td> 5</td>\n",
       "      <td>  6</td>\n",
       "      <td>  7</td>\n",
       "    </tr>\n",
       "    <tr>\n",
       "      <th>2</th>\n",
       "      <td> 8</td>\n",
       "      <td> 9</td>\n",
       "      <td> 10</td>\n",
       "      <td> 11</td>\n",
       "    </tr>\n",
       "  </tbody>\n",
       "</table>\n",
       "</div>"
      ],
      "text/plain": [
       "   a  b   c   d\n",
       "0  0  1   2   3\n",
       "1  4  5   6   7\n",
       "2  8  9  10  11"
      ]
     },
     "execution_count": 9,
     "metadata": {},
     "output_type": "execute_result"
    }
   ],
   "source": [
    "# pandas DataFrame\n",
    "df = pd.DataFrame(data = pd.Series(range(12)).reshape(3, 4), columns = list('abcd'))\n",
    "\n",
    "df"
   ]
  },
  {
   "cell_type": "code",
   "execution_count": 10,
   "metadata": {
    "collapsed": false
   },
   "outputs": [
    {
     "data": {
      "text/plain": [
       "array([[ 0,  1,  2,  3],\n",
       "       [ 4,  5,  6,  7],\n",
       "       [ 8,  9, 10, 11]])"
      ]
     },
     "execution_count": 10,
     "metadata": {},
     "output_type": "execute_result"
    }
   ],
   "source": [
    "# Convert to ndarray (TWO ways)\n",
    "\n",
    "# first way\n",
    "df.as_matrix() # not a matrix, however, just numpy array"
   ]
  },
  {
   "cell_type": "code",
   "execution_count": 11,
   "metadata": {
    "collapsed": false
   },
   "outputs": [
    {
     "data": {
      "text/plain": [
       "array([[ 0,  1,  2,  3],\n",
       "       [ 4,  5,  6,  7],\n",
       "       [ 8,  9, 10, 11]])"
      ]
     },
     "execution_count": 11,
     "metadata": {},
     "output_type": "execute_result"
    }
   ],
   "source": [
    "# convert to ndarray\n",
    "\n",
    "# Second way\n",
    "df.values"
   ]
  },
  {
   "cell_type": "markdown",
   "metadata": {},
   "source": [
    "Hey!  Did you notice how in the jupyter notebook the `pandas` DataFrame is rendered nicely?  That's a reason some people will convert to DataFrames in jupyter notebooks...it makes it easier to see the data."
   ]
  },
  {
   "cell_type": "markdown",
   "metadata": {},
   "source": [
    "### Renaming row and column names"
   ]
  },
  {
   "cell_type": "markdown",
   "metadata": {},
   "source": [
    "Initialize a `pandas` dataframe with toy data:"
   ]
  },
  {
   "cell_type": "code",
   "execution_count": 12,
   "metadata": {
    "collapsed": false
   },
   "outputs": [
    {
     "data": {
      "text/html": [
       "<div style=\"max-height:1000px;max-width:1500px;overflow:auto;\">\n",
       "<table border=\"1\" class=\"dataframe\">\n",
       "  <thead>\n",
       "    <tr style=\"text-align: right;\">\n",
       "      <th></th>\n",
       "      <th>data1</th>\n",
       "      <th>data2</th>\n",
       "    </tr>\n",
       "  </thead>\n",
       "  <tbody>\n",
       "    <tr>\n",
       "      <th>0</th>\n",
       "      <td> 0.018495</td>\n",
       "      <td>-0.749575</td>\n",
       "    </tr>\n",
       "    <tr>\n",
       "      <th>1</th>\n",
       "      <td>-0.980687</td>\n",
       "      <td>-0.127589</td>\n",
       "    </tr>\n",
       "    <tr>\n",
       "      <th>2</th>\n",
       "      <td>-1.321556</td>\n",
       "      <td> 2.614226</td>\n",
       "    </tr>\n",
       "    <tr>\n",
       "      <th>3</th>\n",
       "      <td>-2.531159</td>\n",
       "      <td> 0.649898</td>\n",
       "    </tr>\n",
       "    <tr>\n",
       "      <th>4</th>\n",
       "      <td> 0.506157</td>\n",
       "      <td>-1.932074</td>\n",
       "    </tr>\n",
       "  </tbody>\n",
       "</table>\n",
       "</div>"
      ],
      "text/plain": [
       "      data1     data2\n",
       "0  0.018495 -0.749575\n",
       "1 -0.980687 -0.127589\n",
       "2 -1.321556  2.614226\n",
       "3 -2.531159  0.649898\n",
       "4  0.506157 -1.932074"
      ]
     },
     "execution_count": 12,
     "metadata": {},
     "output_type": "execute_result"
    }
   ],
   "source": [
    "# Note here we are initializing a dataframe with a dict of 1D ndarrays (numpy arrays)\n",
    "df = pd.DataFrame({'data1' : np.random.randn(5),\n",
    "                   'data2' : np.random.randn(5)})\n",
    "\n",
    "df"
   ]
  },
  {
   "cell_type": "markdown",
   "metadata": {},
   "source": [
    "Rename columns (with <b>`columns`</b> keyword) and rows (with <b>`index`</b> keyword) inplace (note: we could have specified `columns` when initializing the DataFrame):"
   ]
  },
  {
   "cell_type": "code",
   "execution_count": 13,
   "metadata": {
    "collapsed": false
   },
   "outputs": [
    {
     "data": {
      "text/html": [
       "<div style=\"max-height:1000px;max-width:1500px;overflow:auto;\">\n",
       "<table border=\"1\" class=\"dataframe\">\n",
       "  <thead>\n",
       "    <tr style=\"text-align: right;\">\n",
       "      <th></th>\n",
       "      <th>one</th>\n",
       "      <th>two</th>\n",
       "    </tr>\n",
       "  </thead>\n",
       "  <tbody>\n",
       "    <tr>\n",
       "      <th>a</th>\n",
       "      <td> 0.018495</td>\n",
       "      <td>-0.749575</td>\n",
       "    </tr>\n",
       "    <tr>\n",
       "      <th>b</th>\n",
       "      <td>-0.980687</td>\n",
       "      <td>-0.127589</td>\n",
       "    </tr>\n",
       "    <tr>\n",
       "      <th>c</th>\n",
       "      <td>-1.321556</td>\n",
       "      <td> 2.614226</td>\n",
       "    </tr>\n",
       "    <tr>\n",
       "      <th>d</th>\n",
       "      <td>-2.531159</td>\n",
       "      <td> 0.649898</td>\n",
       "    </tr>\n",
       "    <tr>\n",
       "      <th>e</th>\n",
       "      <td> 0.506157</td>\n",
       "      <td>-1.932074</td>\n",
       "    </tr>\n",
       "  </tbody>\n",
       "</table>\n",
       "</div>"
      ],
      "text/plain": [
       "        one       two\n",
       "a  0.018495 -0.749575\n",
       "b -0.980687 -0.127589\n",
       "c -1.321556  2.614226\n",
       "d -2.531159  0.649898\n",
       "e  0.506157 -1.932074"
      ]
     },
     "execution_count": 13,
     "metadata": {},
     "output_type": "execute_result"
    }
   ],
   "source": [
    "df.rename(index = {0: 'a', \n",
    "                   1: 'b',\n",
    "                   2: 'c',\n",
    "                   3: 'd',\n",
    "                   4: 'e'}, \n",
    "          columns = {'data1': 'one', 'data2': 'two'}, inplace = True)\n",
    "df"
   ]
  },
  {
   "cell_type": "markdown",
   "metadata": {},
   "source": [
    "### Reordering of things"
   ]
  },
  {
   "cell_type": "markdown",
   "metadata": {},
   "source": [
    "Using the toy dataframe from above, we shall now reorder the <b>rows</b>:"
   ]
  },
  {
   "cell_type": "code",
   "execution_count": 14,
   "metadata": {
    "collapsed": false
   },
   "outputs": [
    {
     "data": {
      "text/html": [
       "<div style=\"max-height:1000px;max-width:1500px;overflow:auto;\">\n",
       "<table border=\"1\" class=\"dataframe\">\n",
       "  <thead>\n",
       "    <tr style=\"text-align: right;\">\n",
       "      <th></th>\n",
       "      <th>one</th>\n",
       "      <th>two</th>\n",
       "    </tr>\n",
       "  </thead>\n",
       "  <tbody>\n",
       "    <tr>\n",
       "      <th>b</th>\n",
       "      <td>-0.980687</td>\n",
       "      <td>-0.127589</td>\n",
       "    </tr>\n",
       "    <tr>\n",
       "      <th>c</th>\n",
       "      <td>-1.321556</td>\n",
       "      <td> 2.614226</td>\n",
       "    </tr>\n",
       "    <tr>\n",
       "      <th>d</th>\n",
       "      <td>-2.531159</td>\n",
       "      <td> 0.649898</td>\n",
       "    </tr>\n",
       "    <tr>\n",
       "      <th>a</th>\n",
       "      <td> 0.018495</td>\n",
       "      <td>-0.749575</td>\n",
       "    </tr>\n",
       "    <tr>\n",
       "      <th>e</th>\n",
       "      <td> 0.506157</td>\n",
       "      <td>-1.932074</td>\n",
       "    </tr>\n",
       "  </tbody>\n",
       "</table>\n",
       "</div>"
      ],
      "text/plain": [
       "        one       two\n",
       "b -0.980687 -0.127589\n",
       "c -1.321556  2.614226\n",
       "d -2.531159  0.649898\n",
       "a  0.018495 -0.749575\n",
       "e  0.506157 -1.932074"
      ]
     },
     "execution_count": 14,
     "metadata": {},
     "output_type": "execute_result"
    }
   ],
   "source": [
    "df2 = pd.DataFrame(df, index = ['b', 'c', 'd', 'a', 'e'])\n",
    "df2"
   ]
  },
  {
   "cell_type": "code",
   "execution_count": 15,
   "metadata": {
    "collapsed": false
   },
   "outputs": [
    {
     "data": {
      "text/html": [
       "<div style=\"max-height:1000px;max-width:1500px;overflow:auto;\">\n",
       "<table border=\"1\" class=\"dataframe\">\n",
       "  <thead>\n",
       "    <tr style=\"text-align: right;\">\n",
       "      <th></th>\n",
       "      <th>one</th>\n",
       "      <th>two</th>\n",
       "    </tr>\n",
       "  </thead>\n",
       "  <tbody>\n",
       "    <tr>\n",
       "      <th>b</th>\n",
       "      <td>-0.980687</td>\n",
       "      <td>-0.127589</td>\n",
       "    </tr>\n",
       "    <tr>\n",
       "      <th>c</th>\n",
       "      <td>-1.321556</td>\n",
       "      <td> 2.614226</td>\n",
       "    </tr>\n",
       "    <tr>\n",
       "      <th>d</th>\n",
       "      <td>-2.531159</td>\n",
       "      <td> 0.649898</td>\n",
       "    </tr>\n",
       "    <tr>\n",
       "      <th>a</th>\n",
       "      <td> 0.018495</td>\n",
       "      <td>-0.749575</td>\n",
       "    </tr>\n",
       "  </tbody>\n",
       "</table>\n",
       "</div>"
      ],
      "text/plain": [
       "        one       two\n",
       "b -0.980687 -0.127589\n",
       "c -1.321556  2.614226\n",
       "d -2.531159  0.649898\n",
       "a  0.018495 -0.749575"
      ]
     },
     "execution_count": 15,
     "metadata": {},
     "output_type": "execute_result"
    }
   ],
   "source": [
    "# How would you modify the above cell to do the same reordering,\n",
    "#   but at the same time, remove one, say the one labeled 'e'\n",
    "\n",
    "# Write your code here...\n",
    "\n",
    "df3 = pd.DataFrame(df, index = ['b', 'c', 'd', 'a'])\n",
    "df3"
   ]
  },
  {
   "cell_type": "markdown",
   "metadata": {},
   "source": [
    "There's another way (same result, but does not modify object, `df`, inplace):"
   ]
  },
  {
   "cell_type": "code",
   "execution_count": 16,
   "metadata": {
    "collapsed": false
   },
   "outputs": [
    {
     "data": {
      "text/html": [
       "<div style=\"max-height:1000px;max-width:1500px;overflow:auto;\">\n",
       "<table border=\"1\" class=\"dataframe\">\n",
       "  <thead>\n",
       "    <tr style=\"text-align: right;\">\n",
       "      <th></th>\n",
       "      <th>one</th>\n",
       "      <th>two</th>\n",
       "    </tr>\n",
       "  </thead>\n",
       "  <tbody>\n",
       "    <tr>\n",
       "      <th>b</th>\n",
       "      <td>-0.980687</td>\n",
       "      <td>-0.127589</td>\n",
       "    </tr>\n",
       "    <tr>\n",
       "      <th>c</th>\n",
       "      <td>-1.321556</td>\n",
       "      <td> 2.614226</td>\n",
       "    </tr>\n",
       "    <tr>\n",
       "      <th>d</th>\n",
       "      <td>-2.531159</td>\n",
       "      <td> 0.649898</td>\n",
       "    </tr>\n",
       "    <tr>\n",
       "      <th>a</th>\n",
       "      <td> 0.018495</td>\n",
       "      <td>-0.749575</td>\n",
       "    </tr>\n",
       "    <tr>\n",
       "      <th>e</th>\n",
       "      <td> 0.506157</td>\n",
       "      <td>-1.932074</td>\n",
       "    </tr>\n",
       "  </tbody>\n",
       "</table>\n",
       "</div>"
      ],
      "text/plain": [
       "        one       two\n",
       "b -0.980687 -0.127589\n",
       "c -1.321556  2.614226\n",
       "d -2.531159  0.649898\n",
       "a  0.018495 -0.749575\n",
       "e  0.506157 -1.932074"
      ]
     },
     "execution_count": 16,
     "metadata": {},
     "output_type": "execute_result"
    }
   ],
   "source": [
    "# This does NOT change df\n",
    "\n",
    "df.reindex(['b', 'c', 'd', 'a', 'e']) # compare to df2 above"
   ]
  },
  {
   "cell_type": "code",
   "execution_count": null,
   "metadata": {
    "collapsed": true
   },
   "outputs": [],
   "source": [
    "# How would you modify the above cell (using reindex still) \n",
    "#   to not only reorder rows, but remove one from the view, \n",
    "#   say the one labeled 'e'\n",
    "\n",
    "# Write your code here...\n"
   ]
  },
  {
   "cell_type": "markdown",
   "metadata": {},
   "source": [
    "A quick trick to switch around columns"
   ]
  },
  {
   "cell_type": "code",
   "execution_count": 17,
   "metadata": {
    "collapsed": false
   },
   "outputs": [
    {
     "data": {
      "text/html": [
       "<div style=\"max-height:1000px;max-width:1500px;overflow:auto;\">\n",
       "<table border=\"1\" class=\"dataframe\">\n",
       "  <thead>\n",
       "    <tr style=\"text-align: right;\">\n",
       "      <th></th>\n",
       "      <th>one</th>\n",
       "      <th>two</th>\n",
       "    </tr>\n",
       "  </thead>\n",
       "  <tbody>\n",
       "    <tr>\n",
       "      <th>a</th>\n",
       "      <td>-0.749575</td>\n",
       "      <td> 0.018495</td>\n",
       "    </tr>\n",
       "    <tr>\n",
       "      <th>b</th>\n",
       "      <td>-0.127589</td>\n",
       "      <td>-0.980687</td>\n",
       "    </tr>\n",
       "    <tr>\n",
       "      <th>c</th>\n",
       "      <td> 2.614226</td>\n",
       "      <td>-1.321556</td>\n",
       "    </tr>\n",
       "    <tr>\n",
       "      <th>d</th>\n",
       "      <td> 0.649898</td>\n",
       "      <td>-2.531159</td>\n",
       "    </tr>\n",
       "    <tr>\n",
       "      <th>e</th>\n",
       "      <td>-1.932074</td>\n",
       "      <td> 0.506157</td>\n",
       "    </tr>\n",
       "  </tbody>\n",
       "</table>\n",
       "</div>"
      ],
      "text/plain": [
       "        one       two\n",
       "a -0.749575  0.018495\n",
       "b -0.127589 -0.980687\n",
       "c  2.614226 -1.321556\n",
       "d  0.649898 -2.531159\n",
       "e -1.932074  0.506157"
      ]
     },
     "execution_count": 17,
     "metadata": {},
     "output_type": "execute_result"
    }
   ],
   "source": [
    "# Quick inplace transformation\n",
    "df[['one', 'two']] = df[['two', 'one']]\n",
    "df"
   ]
  },
  {
   "cell_type": "markdown",
   "metadata": {},
   "source": [
    "### Introducing the `Series` object\n",
    "\n",
    "<b>Properties of the `Series` object</b>\n",
    "* alignment of data and label are intrinsic\n",
    "* is a 1D array (actually just a `numpy` array with and index)\n",
    "* slicing also slices the index\n",
    "* can be initialized with a scalar, a dict or an ndarray (aka numpy array)\n",
    "* if initialized with numpy array and an index is given, length must match data\n",
    "* numpy functions can take a Series as input\n",
    "\n",
    "<b>Examples of initializing a `Series`:</b>"
   ]
  },
  {
   "cell_type": "code",
   "execution_count": 21,
   "metadata": {
    "collapsed": false
   },
   "outputs": [
    {
     "name": "stdout",
     "output_type": "stream",
     "text": [
      "('a:\\n', 0    5\n",
      "dtype: int64)\n",
      "('b:\\n', Z    5\n",
      "dtype: int64)\n",
      "('c:\\n', X    5\n",
      "Y    5\n",
      "Z    5\n",
      "dtype: int64)\n",
      "('d:\\n', A    1\n",
      "B    2\n",
      "dtype: int64)\n",
      "('e:\\n', A     1\n",
      "B     2\n",
      "C   NaN\n",
      "dtype: float64)\n",
      "('f:\\n', 0    1.078626\n",
      "1   -0.137018\n",
      "2    3.329960\n",
      "3   -1.011534\n",
      "4    2.037318\n",
      "dtype: float64)\n",
      "('g:\\n', M    0.863232\n",
      "N   -0.969351\n",
      "O    0.036484\n",
      "P    1.352242\n",
      "Q    0.015220\n",
      "dtype: float64)\n"
     ]
    }
   ],
   "source": [
    "# With a scalar only\n",
    "a = pd.Series(5)\n",
    "print('a:\\n', a)\n",
    "#print(a)\n",
    "\n",
    "# With a scalar and index\n",
    "b = pd.Series(5, index = ['Z'])\n",
    "print('b:\\n', b)\n",
    "\n",
    "# With a scalar and index\n",
    "c = pd.Series(5, index = ['X', 'Y', 'Z'])\n",
    "print('c:\\n', c)\n",
    "\n",
    "# With a dict\n",
    "d = pd.Series({'A': 1, 'B': 2})\n",
    "print('d:\\n', d)\n",
    "\n",
    "# dict.  if index given, labels must match, but can add more\n",
    "e = pd.Series({'A': 1, 'B': 2}, index = ['A', 'B', 'C'])\n",
    "print('e:\\n', e)\n",
    "\n",
    "# With an ndarray\n",
    "f = pd.Series(np.random.randn(5))\n",
    "print('f:\\n', f)\n",
    "\n",
    "# With an ndarray and index (lengths must match)\n",
    "g = pd.Series(np.random.randn(5), index = ['M', 'N', 'O', 'P', 'Q'])\n",
    "print('g:\\n', g)"
   ]
  },
  {
   "cell_type": "markdown",
   "metadata": {
    "collapsed": true
   },
   "source": [
    "### Missing data"
   ]
  },
  {
   "cell_type": "markdown",
   "metadata": {},
   "source": [
    "Initialize `pandas` dataframe with some <b>`Series`</b> objects:"
   ]
  },
  {
   "cell_type": "code",
   "execution_count": 22,
   "metadata": {
    "collapsed": false
   },
   "outputs": [
    {
     "data": {
      "text/html": [
       "<div style=\"max-height:1000px;max-width:1500px;overflow:auto;\">\n",
       "<table border=\"1\" class=\"dataframe\">\n",
       "  <thead>\n",
       "    <tr style=\"text-align: right;\">\n",
       "      <th></th>\n",
       "      <th>one</th>\n",
       "      <th>three</th>\n",
       "      <th>two</th>\n",
       "    </tr>\n",
       "  </thead>\n",
       "  <tbody>\n",
       "    <tr>\n",
       "      <th>a</th>\n",
       "      <td> 0.355765</td>\n",
       "      <td>      NaN</td>\n",
       "      <td>-0.355987</td>\n",
       "    </tr>\n",
       "    <tr>\n",
       "      <th>b</th>\n",
       "      <td>-0.304327</td>\n",
       "      <td> 1.312259</td>\n",
       "      <td>-0.635785</td>\n",
       "    </tr>\n",
       "    <tr>\n",
       "      <th>c</th>\n",
       "      <td>-0.891402</td>\n",
       "      <td>-0.144047</td>\n",
       "      <td> 0.525341</td>\n",
       "    </tr>\n",
       "    <tr>\n",
       "      <th>d</th>\n",
       "      <td>      NaN</td>\n",
       "      <td> 0.542831</td>\n",
       "      <td> 0.642723</td>\n",
       "    </tr>\n",
       "  </tbody>\n",
       "</table>\n",
       "</div>"
      ],
      "text/plain": [
       "        one     three       two\n",
       "a  0.355765       NaN -0.355987\n",
       "b -0.304327  1.312259 -0.635785\n",
       "c -0.891402 -0.144047  0.525341\n",
       "d       NaN  0.542831  0.642723"
      ]
     },
     "execution_count": 22,
     "metadata": {},
     "output_type": "execute_result"
    }
   ],
   "source": [
    "# Initialize a dataframe with a dict of pandas Series\n",
    "\n",
    "df = pd.DataFrame({'one' : pd.Series(np.random.randn(3), index=['a', 'b', 'c']),\n",
    "    'two' : pd.Series(np.random.randn(4), index=['a', 'b', 'c', 'd']),\n",
    "    'three' : pd.Series(np.random.randn(3), index=['b', 'c', 'd'])})\n",
    "\n",
    "# Notice the introduction of NaNs (why did this happen?)\n",
    "\n",
    "df"
   ]
  },
  {
   "cell_type": "code",
   "execution_count": 23,
   "metadata": {
    "collapsed": false
   },
   "outputs": [
    {
     "data": {
      "text/html": [
       "<div style=\"max-height:1000px;max-width:1500px;overflow:auto;\">\n",
       "<table border=\"1\" class=\"dataframe\">\n",
       "  <thead>\n",
       "    <tr style=\"text-align: right;\">\n",
       "      <th></th>\n",
       "      <th>one</th>\n",
       "      <th>three</th>\n",
       "      <th>two</th>\n",
       "    </tr>\n",
       "  </thead>\n",
       "  <tbody>\n",
       "    <tr>\n",
       "      <th>a</th>\n",
       "      <td> False</td>\n",
       "      <td>  True</td>\n",
       "      <td> False</td>\n",
       "    </tr>\n",
       "    <tr>\n",
       "      <th>b</th>\n",
       "      <td> False</td>\n",
       "      <td> False</td>\n",
       "      <td> False</td>\n",
       "    </tr>\n",
       "    <tr>\n",
       "      <th>c</th>\n",
       "      <td> False</td>\n",
       "      <td> False</td>\n",
       "      <td> False</td>\n",
       "    </tr>\n",
       "    <tr>\n",
       "      <th>d</th>\n",
       "      <td>  True</td>\n",
       "      <td> False</td>\n",
       "      <td> False</td>\n",
       "    </tr>\n",
       "  </tbody>\n",
       "</table>\n",
       "</div>"
      ],
      "text/plain": [
       "     one  three    two\n",
       "a  False   True  False\n",
       "b  False  False  False\n",
       "c  False  False  False\n",
       "d   True  False  False"
      ]
     },
     "execution_count": 23,
     "metadata": {},
     "output_type": "execute_result"
    }
   ],
   "source": [
    "# Where are the NaNs?\n",
    "pd.isnull(df)"
   ]
  },
  {
   "cell_type": "code",
   "execution_count": 24,
   "metadata": {
    "collapsed": false
   },
   "outputs": [
    {
     "data": {
      "text/html": [
       "<div style=\"max-height:1000px;max-width:1500px;overflow:auto;\">\n",
       "<table border=\"1\" class=\"dataframe\">\n",
       "  <thead>\n",
       "    <tr style=\"text-align: right;\">\n",
       "      <th></th>\n",
       "      <th>one</th>\n",
       "      <th>three</th>\n",
       "      <th>two</th>\n",
       "    </tr>\n",
       "  </thead>\n",
       "  <tbody>\n",
       "    <tr>\n",
       "      <th>a</th>\n",
       "      <td> 0.355765</td>\n",
       "      <td> 0.000000</td>\n",
       "      <td>-0.355987</td>\n",
       "    </tr>\n",
       "    <tr>\n",
       "      <th>b</th>\n",
       "      <td>-0.304327</td>\n",
       "      <td> 1.312259</td>\n",
       "      <td>-0.635785</td>\n",
       "    </tr>\n",
       "    <tr>\n",
       "      <th>c</th>\n",
       "      <td>-0.891402</td>\n",
       "      <td>-0.144047</td>\n",
       "      <td> 0.525341</td>\n",
       "    </tr>\n",
       "    <tr>\n",
       "      <th>d</th>\n",
       "      <td> 0.000000</td>\n",
       "      <td> 0.542831</td>\n",
       "      <td> 0.642723</td>\n",
       "    </tr>\n",
       "  </tbody>\n",
       "</table>\n",
       "</div>"
      ],
      "text/plain": [
       "        one     three       two\n",
       "a  0.355765  0.000000 -0.355987\n",
       "b -0.304327  1.312259 -0.635785\n",
       "c -0.891402 -0.144047  0.525341\n",
       "d  0.000000  0.542831  0.642723"
      ]
     },
     "execution_count": 24,
     "metadata": {},
     "output_type": "execute_result"
    }
   ],
   "source": [
    "# Replace NaN with a scalar\n",
    "df2 = df.fillna(0)\n",
    "df2"
   ]
  },
  {
   "cell_type": "code",
   "execution_count": 25,
   "metadata": {
    "collapsed": false
   },
   "outputs": [
    {
     "data": {
      "text/html": [
       "<div style=\"max-height:1000px;max-width:1500px;overflow:auto;\">\n",
       "<table border=\"1\" class=\"dataframe\">\n",
       "  <thead>\n",
       "    <tr style=\"text-align: right;\">\n",
       "      <th></th>\n",
       "      <th>one</th>\n",
       "      <th>three</th>\n",
       "      <th>two</th>\n",
       "    </tr>\n",
       "  </thead>\n",
       "  <tbody>\n",
       "    <tr>\n",
       "      <th>b</th>\n",
       "      <td>-0.304327</td>\n",
       "      <td> 1.312259</td>\n",
       "      <td>-0.635785</td>\n",
       "    </tr>\n",
       "    <tr>\n",
       "      <th>c</th>\n",
       "      <td>-0.891402</td>\n",
       "      <td>-0.144047</td>\n",
       "      <td> 0.525341</td>\n",
       "    </tr>\n",
       "  </tbody>\n",
       "</table>\n",
       "</div>"
      ],
      "text/plain": [
       "        one     three       two\n",
       "b -0.304327  1.312259 -0.635785\n",
       "c -0.891402 -0.144047  0.525341"
      ]
     },
     "execution_count": 25,
     "metadata": {},
     "output_type": "execute_result"
    }
   ],
   "source": [
    "# Drop any row with NA/NaN\n",
    "# how = 'all' will drop only rows with ALL nan\n",
    "df2 = df.dropna(how = 'any')\n",
    "df2"
   ]
  },
  {
   "cell_type": "code",
   "execution_count": 26,
   "metadata": {
    "collapsed": false
   },
   "outputs": [
    {
     "data": {
      "text/html": [
       "<div style=\"max-height:1000px;max-width:1500px;overflow:auto;\">\n",
       "<table border=\"1\" class=\"dataframe\">\n",
       "  <thead>\n",
       "    <tr style=\"text-align: right;\">\n",
       "      <th></th>\n",
       "      <th>one</th>\n",
       "      <th>three</th>\n",
       "      <th>two</th>\n",
       "    </tr>\n",
       "  </thead>\n",
       "  <tbody>\n",
       "    <tr>\n",
       "      <th>a</th>\n",
       "      <td> 0.355765</td>\n",
       "      <td>      NaN</td>\n",
       "      <td>-0.355987</td>\n",
       "    </tr>\n",
       "    <tr>\n",
       "      <th>b</th>\n",
       "      <td>-0.304327</td>\n",
       "      <td> 1.312259</td>\n",
       "      <td>-0.635785</td>\n",
       "    </tr>\n",
       "    <tr>\n",
       "      <th>c</th>\n",
       "      <td>-0.891402</td>\n",
       "      <td>-0.144047</td>\n",
       "      <td> 0.525341</td>\n",
       "    </tr>\n",
       "  </tbody>\n",
       "</table>\n",
       "</div>"
      ],
      "text/plain": [
       "        one     three       two\n",
       "a  0.355765       NaN -0.355987\n",
       "b -0.304327  1.312259 -0.635785\n",
       "c -0.891402 -0.144047  0.525341"
      ]
     },
     "execution_count": 26,
     "metadata": {},
     "output_type": "execute_result"
    }
   ],
   "source": [
    "# Only look in column 'one' for NaNs and drop a row if any\n",
    "df2 = df.dropna(subset = ['one'])\n",
    "df2"
   ]
  },
  {
   "cell_type": "markdown",
   "metadata": {},
   "source": [
    "EXERCISE 1:  \n",
    "```python \n",
    "alldates = pd.date_range('09-01-2013', '09-10-2013')\n",
    "\n",
    "s = pd.Series({'09-02-2013': 2,\n",
    "               '09-03-2013': 10,\n",
    "               '09-06-2013': 5,\n",
    "               '09-07-2013': 1})\n",
    "```\n",
    "\n",
    "* expand to include \"missing dates\" in `alldates` but not `s`\n",
    "* set missing dates to 0"
   ]
  },
  {
   "cell_type": "code",
   "execution_count": 45,
   "metadata": {
    "collapsed": false
   },
   "outputs": [
    {
     "name": "stdout",
     "output_type": "stream",
     "text": [
      "<class 'pandas.tseries.index.DatetimeIndex'>\n",
      "[2013-09-01, ..., 2013-09-10]\n",
      "Length: 10, Freq: D, Timezone: None\n",
      "2013-09-01   NaN\n",
      "2013-09-02   NaN\n",
      "2013-09-03   NaN\n",
      "2013-09-04   NaN\n",
      "2013-09-05   NaN\n",
      "2013-09-06   NaN\n",
      "2013-09-07   NaN\n",
      "2013-09-08   NaN\n",
      "2013-09-09   NaN\n",
      "2013-09-10   NaN\n",
      "Freq: D, dtype: float64\n",
      "2013-09-01    0\n",
      "2013-09-02    0\n",
      "2013-09-03    0\n",
      "2013-09-04    0\n",
      "2013-09-05    0\n",
      "2013-09-06    0\n",
      "2013-09-07    0\n",
      "2013-09-08    0\n",
      "2013-09-09    0\n",
      "2013-09-10    0\n",
      "Freq: D, dtype: float64\n"
     ]
    }
   ],
   "source": [
    "alldates = pd.date_range('09-01-2013', '09-10-2013')\n",
    "\n",
    "s = pd.Series({'09-02-2013': 2,\n",
    "               '09-03-2013': 10,\n",
    "               '09-06-2013': 5,\n",
    "               '09-07-2013': 1})\n",
    "\n",
    "print(alldates)\n",
    "#print(s)\n",
    "\n",
    "s2 = pd.Series(s, index = alldates)\n",
    "print(s2)\n",
    "\n",
    "s3 = s2.fillna(0)\n",
    "print(s3)"
   ]
  },
  {
   "cell_type": "markdown",
   "metadata": {},
   "source": [
    "### Slicing"
   ]
  },
  {
   "cell_type": "code",
   "execution_count": 46,
   "metadata": {
    "collapsed": false
   },
   "outputs": [
    {
     "data": {
      "text/html": [
       "<div style=\"max-height:1000px;max-width:1500px;overflow:auto;\">\n",
       "<table border=\"1\" class=\"dataframe\">\n",
       "  <thead>\n",
       "    <tr style=\"text-align: right;\">\n",
       "      <th></th>\n",
       "      <th>A</th>\n",
       "      <th>B</th>\n",
       "      <th>C</th>\n",
       "      <th>D</th>\n",
       "    </tr>\n",
       "  </thead>\n",
       "  <tbody>\n",
       "    <tr>\n",
       "      <th>1974-01-01</th>\n",
       "      <td>-0.472620</td>\n",
       "      <td>-0.033557</td>\n",
       "      <td> 0.532828</td>\n",
       "      <td> 0.144537</td>\n",
       "    </tr>\n",
       "    <tr>\n",
       "      <th>1974-01-02</th>\n",
       "      <td>-0.035638</td>\n",
       "      <td> 0.223567</td>\n",
       "      <td>-0.509015</td>\n",
       "      <td> 0.569364</td>\n",
       "    </tr>\n",
       "    <tr>\n",
       "      <th>1974-01-03</th>\n",
       "      <td> 0.931459</td>\n",
       "      <td>-1.551312</td>\n",
       "      <td> 0.452477</td>\n",
       "      <td> 0.768549</td>\n",
       "    </tr>\n",
       "    <tr>\n",
       "      <th>1974-01-04</th>\n",
       "      <td>-1.831280</td>\n",
       "      <td>-1.137377</td>\n",
       "      <td> 0.814599</td>\n",
       "      <td>-0.765874</td>\n",
       "    </tr>\n",
       "    <tr>\n",
       "      <th>1974-01-05</th>\n",
       "      <td> 0.629646</td>\n",
       "      <td> 1.653523</td>\n",
       "      <td> 1.190127</td>\n",
       "      <td> 2.455193</td>\n",
       "    </tr>\n",
       "    <tr>\n",
       "      <th>1974-01-06</th>\n",
       "      <td>-2.187781</td>\n",
       "      <td> 0.617605</td>\n",
       "      <td>-0.163634</td>\n",
       "      <td>-1.045497</td>\n",
       "    </tr>\n",
       "  </tbody>\n",
       "</table>\n",
       "</div>"
      ],
      "text/plain": [
       "                   A         B         C         D\n",
       "1974-01-01 -0.472620 -0.033557  0.532828  0.144537\n",
       "1974-01-02 -0.035638  0.223567 -0.509015  0.569364\n",
       "1974-01-03  0.931459 -1.551312  0.452477  0.768549\n",
       "1974-01-04 -1.831280 -1.137377  0.814599 -0.765874\n",
       "1974-01-05  0.629646  1.653523  1.190127  2.455193\n",
       "1974-01-06 -2.187781  0.617605 -0.163634 -1.045497"
      ]
     },
     "execution_count": 46,
     "metadata": {},
     "output_type": "execute_result"
    }
   ],
   "source": [
    "# Use pandas to create a range of dates\n",
    "dates = pd.date_range('19740101', periods=6)\n",
    "df = pd.DataFrame(np.random.randn(6, 4), index = dates, columns = list('ABCD'))\n",
    "df"
   ]
  },
  {
   "cell_type": "code",
   "execution_count": 47,
   "metadata": {
    "collapsed": false
   },
   "outputs": [
    {
     "data": {
      "text/html": [
       "<div style=\"max-height:1000px;max-width:1500px;overflow:auto;\">\n",
       "<table border=\"1\" class=\"dataframe\">\n",
       "  <thead>\n",
       "    <tr style=\"text-align: right;\">\n",
       "      <th></th>\n",
       "      <th>A</th>\n",
       "      <th>B</th>\n",
       "      <th>C</th>\n",
       "      <th>D</th>\n",
       "    </tr>\n",
       "  </thead>\n",
       "  <tbody>\n",
       "    <tr>\n",
       "      <th>1974-01-02</th>\n",
       "      <td>-0.035638</td>\n",
       "      <td> 0.223567</td>\n",
       "      <td>-0.509015</td>\n",
       "      <td> 0.569364</td>\n",
       "    </tr>\n",
       "    <tr>\n",
       "      <th>1974-01-03</th>\n",
       "      <td> 0.931459</td>\n",
       "      <td>-1.551312</td>\n",
       "      <td> 0.452477</td>\n",
       "      <td> 0.768549</td>\n",
       "    </tr>\n",
       "    <tr>\n",
       "      <th>1974-01-04</th>\n",
       "      <td>-1.831280</td>\n",
       "      <td>-1.137377</td>\n",
       "      <td> 0.814599</td>\n",
       "      <td>-0.765874</td>\n",
       "    </tr>\n",
       "  </tbody>\n",
       "</table>\n",
       "</div>"
      ],
      "text/plain": [
       "                   A         B         C         D\n",
       "1974-01-02 -0.035638  0.223567 -0.509015  0.569364\n",
       "1974-01-03  0.931459 -1.551312  0.452477  0.768549\n",
       "1974-01-04 -1.831280 -1.137377  0.814599 -0.765874"
      ]
     },
     "execution_count": 47,
     "metadata": {},
     "output_type": "execute_result"
    }
   ],
   "source": [
    "# Slice out rows 2-4\n",
    "df[1:4]"
   ]
  },
  {
   "cell_type": "code",
   "execution_count": 37,
   "metadata": {
    "collapsed": false
   },
   "outputs": [
    {
     "data": {
      "text/html": [
       "<div style=\"max-height:1000px;max-width:1500px;overflow:auto;\">\n",
       "<table border=\"1\" class=\"dataframe\">\n",
       "  <thead>\n",
       "    <tr style=\"text-align: right;\">\n",
       "      <th></th>\n",
       "      <th>A</th>\n",
       "      <th>B</th>\n",
       "      <th>C</th>\n",
       "      <th>D</th>\n",
       "    </tr>\n",
       "  </thead>\n",
       "  <tbody>\n",
       "    <tr>\n",
       "      <th>1974-01-02</th>\n",
       "      <td> 0.120676</td>\n",
       "      <td>-1.135891</td>\n",
       "      <td>-1.334192</td>\n",
       "      <td> 0.335737</td>\n",
       "    </tr>\n",
       "    <tr>\n",
       "      <th>1974-01-03</th>\n",
       "      <td> 0.663491</td>\n",
       "      <td>-0.227691</td>\n",
       "      <td>-0.270027</td>\n",
       "      <td>-1.027227</td>\n",
       "    </tr>\n",
       "    <tr>\n",
       "      <th>1974-01-04</th>\n",
       "      <td> 0.700266</td>\n",
       "      <td>-1.269358</td>\n",
       "      <td> 0.455615</td>\n",
       "      <td>-1.796695</td>\n",
       "    </tr>\n",
       "  </tbody>\n",
       "</table>\n",
       "</div>"
      ],
      "text/plain": [
       "                   A         B         C         D\n",
       "1974-01-02  0.120676 -1.135891 -1.334192  0.335737\n",
       "1974-01-03  0.663491 -0.227691 -0.270027 -1.027227\n",
       "1974-01-04  0.700266 -1.269358  0.455615 -1.796695"
      ]
     },
     "execution_count": 37,
     "metadata": {},
     "output_type": "execute_result"
    }
   ],
   "source": [
    "# Slice using index range (aka labels)\n",
    "df['19740102':'19740104']"
   ]
  },
  {
   "cell_type": "code",
   "execution_count": 48,
   "metadata": {
    "collapsed": false
   },
   "outputs": [
    {
     "data": {
      "text/html": [
       "<div style=\"max-height:1000px;max-width:1500px;overflow:auto;\">\n",
       "<table border=\"1\" class=\"dataframe\">\n",
       "  <thead>\n",
       "    <tr style=\"text-align: right;\">\n",
       "      <th></th>\n",
       "      <th>B</th>\n",
       "      <th>D</th>\n",
       "    </tr>\n",
       "  </thead>\n",
       "  <tbody>\n",
       "    <tr>\n",
       "      <th>1974-01-01</th>\n",
       "      <td>-0.033557</td>\n",
       "      <td> 0.144537</td>\n",
       "    </tr>\n",
       "    <tr>\n",
       "      <th>1974-01-02</th>\n",
       "      <td> 0.223567</td>\n",
       "      <td> 0.569364</td>\n",
       "    </tr>\n",
       "    <tr>\n",
       "      <th>1974-01-03</th>\n",
       "      <td>-1.551312</td>\n",
       "      <td> 0.768549</td>\n",
       "    </tr>\n",
       "    <tr>\n",
       "      <th>1974-01-04</th>\n",
       "      <td>-1.137377</td>\n",
       "      <td>-0.765874</td>\n",
       "    </tr>\n",
       "    <tr>\n",
       "      <th>1974-01-05</th>\n",
       "      <td> 1.653523</td>\n",
       "      <td> 2.455193</td>\n",
       "    </tr>\n",
       "    <tr>\n",
       "      <th>1974-01-06</th>\n",
       "      <td> 0.617605</td>\n",
       "      <td>-1.045497</td>\n",
       "    </tr>\n",
       "  </tbody>\n",
       "</table>\n",
       "</div>"
      ],
      "text/plain": [
       "                   B         D\n",
       "1974-01-01 -0.033557  0.144537\n",
       "1974-01-02  0.223567  0.569364\n",
       "1974-01-03 -1.551312  0.768549\n",
       "1974-01-04 -1.137377 -0.765874\n",
       "1974-01-05  1.653523  2.455193\n",
       "1974-01-06  0.617605 -1.045497"
      ]
     },
     "execution_count": 48,
     "metadata": {},
     "output_type": "execute_result"
    }
   ],
   "source": [
    "# Slice with names using loc\n",
    "df.loc[:, ['B', 'D']] # notice lack of parentheses here!"
   ]
  },
  {
   "cell_type": "code",
   "execution_count": 49,
   "metadata": {
    "collapsed": false
   },
   "outputs": [
    {
     "data": {
      "text/plain": [
       "A   -1.831280\n",
       "B   -1.137377\n",
       "C    0.814599\n",
       "D   -0.765874\n",
       "Name: 1974-01-04 00:00:00, dtype: float64"
      ]
     },
     "execution_count": 49,
     "metadata": {},
     "output_type": "execute_result"
    }
   ],
   "source": [
    "# Slice with index using iloc\n",
    "df.iloc[3,] # is this a row or column?"
   ]
  },
  {
   "cell_type": "code",
   "execution_count": 52,
   "metadata": {
    "collapsed": false
   },
   "outputs": [],
   "source": [
    "# Slice out specific rows and/or columns with iloc\n",
    "d4 = df.iloc[[0, 3], [1, 2]]"
   ]
  },
  {
   "cell_type": "code",
   "execution_count": 55,
   "metadata": {
    "collapsed": false
   },
   "outputs": [
    {
     "data": {
      "text/html": [
       "<div style=\"max-height:1000px;max-width:1500px;overflow:auto;\">\n",
       "<table border=\"1\" class=\"dataframe\">\n",
       "  <thead>\n",
       "    <tr style=\"text-align: right;\">\n",
       "      <th></th>\n",
       "      <th>B</th>\n",
       "      <th>C</th>\n",
       "    </tr>\n",
       "  </thead>\n",
       "  <tbody>\n",
       "    <tr>\n",
       "      <th>count</th>\n",
       "      <td> 2.000000</td>\n",
       "      <td> 2.000000</td>\n",
       "    </tr>\n",
       "    <tr>\n",
       "      <th>mean</th>\n",
       "      <td>-0.585467</td>\n",
       "      <td> 0.673714</td>\n",
       "    </tr>\n",
       "    <tr>\n",
       "      <th>std</th>\n",
       "      <td> 0.780519</td>\n",
       "      <td> 0.199242</td>\n",
       "    </tr>\n",
       "    <tr>\n",
       "      <th>min</th>\n",
       "      <td>-1.137377</td>\n",
       "      <td> 0.532828</td>\n",
       "    </tr>\n",
       "    <tr>\n",
       "      <th>25%</th>\n",
       "      <td>-0.861422</td>\n",
       "      <td> 0.603271</td>\n",
       "    </tr>\n",
       "    <tr>\n",
       "      <th>50%</th>\n",
       "      <td>-0.585467</td>\n",
       "      <td> 0.673714</td>\n",
       "    </tr>\n",
       "    <tr>\n",
       "      <th>75%</th>\n",
       "      <td>-0.309512</td>\n",
       "      <td> 0.744157</td>\n",
       "    </tr>\n",
       "    <tr>\n",
       "      <th>max</th>\n",
       "      <td>-0.033557</td>\n",
       "      <td> 0.814599</td>\n",
       "    </tr>\n",
       "  </tbody>\n",
       "</table>\n",
       "</div>"
      ],
      "text/plain": [
       "              B         C\n",
       "count  2.000000  2.000000\n",
       "mean  -0.585467  0.673714\n",
       "std    0.780519  0.199242\n",
       "min   -1.137377  0.532828\n",
       "25%   -0.861422  0.603271\n",
       "50%   -0.585467  0.673714\n",
       "75%   -0.309512  0.744157\n",
       "max   -0.033557  0.814599"
      ]
     },
     "execution_count": 55,
     "metadata": {},
     "output_type": "execute_result"
    }
   ],
   "source": []
  },
  {
   "cell_type": "code",
   "execution_count": 41,
   "metadata": {
    "collapsed": false
   },
   "outputs": [],
   "source": [
    "# Return types...\n",
    "\n",
    "df = pd.DataFrame(np.random.randn(3, 4))\n",
    "\n",
    "# What type is returned from loc and iloc - check here...\n"
   ]
  },
  {
   "cell_type": "markdown",
   "metadata": {},
   "source": [
    "EXERCISE 2:  Slicing rows and columns by index<br>\n",
    "Using this dataframe, \n",
    "```python\n",
    "dates = pd.date_range('19740101', periods=6)\n",
    "df = pd.DataFrame(np.random.randn(6, 4), index = dates, columns = list('ABCD'))\n",
    "```\n",
    "Do the following:<br>\n",
    "1.  Slice out the first row by index\n",
    "*  Slice out the first column by index\n",
    "*  Slice out the first and last row, first and last column, by index"
   ]
  },
  {
   "cell_type": "code",
   "execution_count": 83,
   "metadata": {
    "collapsed": false
   },
   "outputs": [
    {
     "name": "stdout",
     "output_type": "stream",
     "text": [
      "                   A         B         C         D\n",
      "1974-01-01  1.088854 -0.060348 -1.702012  0.949595\n",
      "1974-01-02 -1.137522  0.102697 -1.581060 -0.438360\n",
      "1974-01-03  0.235176 -1.305368  0.116977  0.306957\n",
      "1974-01-04  1.776084 -0.372009 -0.244790  0.900835\n",
      "1974-01-05  0.088288  1.149497 -1.510497 -0.181049\n",
      "1974-01-06 -0.130298  2.471069 -0.256185  2.118328\n",
      "A   -1.447313\n",
      "B    0.914352\n",
      "C    0.992185\n",
      "D   -1.452973\n",
      "Name: 1974-01-01 00:00:00, dtype: float64\n",
      "                   A         D\n",
      "1974-01-01  1.088854  0.949595\n",
      "1974-01-06 -0.130298  2.118328\n"
     ]
    }
   ],
   "source": [
    "dates = pd.date_range('19740101', periods=6)\n",
    "df = pd.DataFrame(np.random.randn(6, 4), index = dates, columns = list('ABCD'))\n",
    "print(df)\n",
    "\n",
    "#get first row\n",
    "#df2 = df.iloc[0,:]\n",
    "print(df2)\n",
    "\n",
    "#get first col by index\n",
    "df3 = df.iloc[:,0]\n",
    "#print(df3)\n",
    "\n",
    "#get first & last col by index\n",
    "df4 = df.iloc[[0,5],[0,3] ]\n",
    "print(df4)\n"
   ]
  },
  {
   "cell_type": "markdown",
   "metadata": {},
   "source": [
    "<b>Just like with numpy arrays, slicing `pandas` dataframes produces a <i>view</i></b>.  Remember that when you modify a view, you will also modify the original since it is not a copy."
   ]
  },
  {
   "cell_type": "markdown",
   "metadata": {},
   "source": [
    "EXERCISE 3:  Slicing and views\n",
    "* Write some code here to prove that dataframe slicing produces views...(might produce a warning which is very nice of the interpreter)"
   ]
  },
  {
   "cell_type": "code",
   "execution_count": 90,
   "metadata": {
    "collapsed": false
   },
   "outputs": [
    {
     "name": "stdout",
     "output_type": "stream",
     "text": [
      "('original n:',           0         1         2         3\n",
      "0  0.170749  0.426795  1.043635 -0.406827\n",
      "1 -0.556874  0.399512  0.820149  1.781749\n",
      "2  0.378850 -1.543736 -1.050161 -0.919281)\n",
      "('\\nview:',           0         1         2         3\n",
      "0  0.170749  0.426795  1.043635 -0.406827)\n",
      "('\\nmodified view:',    0         1         2         3\n",
      "0  0  0.426795  1.043635 -0.406827)\n",
      "('\\nn',           0         1         2         3\n",
      "0  0.000000  0.426795  1.043635 -0.406827\n",
      "1 -0.556874  0.399512  0.820149  1.781749\n",
      "2  0.378850 -1.543736 -1.050161 -0.919281)\n"
     ]
    },
    {
     "name": "stderr",
     "output_type": "stream",
     "text": [
      "/Library/Python/2.7/site-packages/pandas/core/indexing.py:121: SettingWithCopyWarning: \n",
      "A value is trying to be set on a copy of a slice from a DataFrame\n",
      "\n",
      "See the the caveats in the documentation: http://pandas.pydata.org/pandas-docs/stable/indexing.html#indexing-view-versus-copy\n",
      "  self._setitem_with_indexer(indexer, value)\n",
      "/Library/Python/2.7/site-packages/ipykernel/__main__.py:15: SettingWithCopyWarning: \n",
      "A value is trying to be set on a copy of a slice from a DataFrame\n",
      "\n",
      "See the the caveats in the documentation: http://pandas.pydata.org/pandas-docs/stable/indexing.html#indexing-view-versus-copy\n"
     ]
    }
   ],
   "source": [
    "# Code up your solution/proof here...\n",
    "# Solution to showing that slicing a dataframe produces a view, not a copy\n",
    "\n",
    "# This will likely produce a warning...\n",
    "\n",
    "# Data\n",
    "n = pd.DataFrame(np.random.randn(12).reshape(3, 4))\n",
    "print('original n:', n)#, sep ='\\n')\n",
    "\n",
    "# Slice n\n",
    "view = n[0:1]\n",
    "print('\\nview:', view)#, sep = '\\n')\n",
    "\n",
    "# Set first element (0,0) to 0\n",
    "view.iloc[0, 0] = 0\n",
    "print('\\nmodified view:', view)#, sep = '\\n')\n",
    "\n",
    "# Look for 0,0 being 0 when printed below\n",
    "print('\\nn', n)#, sep = '\\n')"
   ]
  },
  {
   "cell_type": "markdown",
   "metadata": {},
   "source": [
    "### Boolean indexing\n",
    "<table style=\"width:50%\" align=\"left\">\n",
    "  <tr>\n",
    "    <td><b>Operator/Method</b></td>\n",
    "    <td><b>Meaning</b></td>\t\t\n",
    "  </tr>\n",
    "    <tr>\n",
    "    <td>`isnull`</td>\n",
    "    <td>Returns a df of boolean values representing if the value is null</td>\t\t\n",
    "  </tr>\n",
    "    <tr>\n",
    "    <td>`isin`</td>\n",
    "    <td>Returns rows where value is in a certain column</td>\t\t\n",
    "  </tr>\n",
    "  <tr>\n",
    "    <td>`|`</td>\n",
    "    <td>or</td>\t\t\n",
    "  </tr>\n",
    "  <tr>\n",
    "    <td>`&`</td>\n",
    "    <td>and</td>\t\t\n",
    "  </tr>\n",
    "  <tr>\n",
    "    <td>`~`</td>\n",
    "    <td>not</td>\t\t\n",
    "  </tr>\n",
    "</table>"
   ]
  },
  {
   "cell_type": "code",
   "execution_count": 95,
   "metadata": {
    "collapsed": false
   },
   "outputs": [
    {
     "data": {
      "text/html": [
       "<div style=\"max-height:1000px;max-width:1500px;overflow:auto;\">\n",
       "<table border=\"1\" class=\"dataframe\">\n",
       "  <thead>\n",
       "    <tr style=\"text-align: right;\">\n",
       "      <th></th>\n",
       "      <th>one</th>\n",
       "      <th>three</th>\n",
       "      <th>two</th>\n",
       "    </tr>\n",
       "  </thead>\n",
       "  <tbody>\n",
       "    <tr>\n",
       "      <th>a</th>\n",
       "      <td>-0.265620</td>\n",
       "      <td>      NaN</td>\n",
       "      <td>-1.333952</td>\n",
       "    </tr>\n",
       "    <tr>\n",
       "      <th>b</th>\n",
       "      <td> 0.258648</td>\n",
       "      <td>-0.524998</td>\n",
       "      <td> 0.838746</td>\n",
       "    </tr>\n",
       "    <tr>\n",
       "      <th>c</th>\n",
       "      <td>-0.220483</td>\n",
       "      <td> 0.478359</td>\n",
       "      <td>      NaN</td>\n",
       "    </tr>\n",
       "    <tr>\n",
       "      <th>d</th>\n",
       "      <td>      NaN</td>\n",
       "      <td> 1.211835</td>\n",
       "      <td> 0.905704</td>\n",
       "    </tr>\n",
       "  </tbody>\n",
       "</table>\n",
       "</div>"
      ],
      "text/plain": [
       "        one     three       two\n",
       "a -0.265620       NaN -1.333952\n",
       "b  0.258648 -0.524998  0.838746\n",
       "c -0.220483  0.478359       NaN\n",
       "d       NaN  1.211835  0.905704"
      ]
     },
     "execution_count": 95,
     "metadata": {},
     "output_type": "execute_result"
    }
   ],
   "source": [
    "# Initialize a dataframe with a dict of pandas Series and introduce NaNs\n",
    "df = pd.DataFrame({'one' : pd.Series(np.random.randn(3), index=['a', 'b', 'c']),\n",
    "    'two' : pd.Series(np.random.randn(3), index=['a', 'b', 'd']),\n",
    "    'three' : pd.Series(np.random.randn(3), index=['b', 'c', 'd'])})\n",
    "df"
   ]
  },
  {
   "cell_type": "code",
   "execution_count": 98,
   "metadata": {
    "collapsed": false
   },
   "outputs": [
    {
     "name": "stdout",
     "output_type": "stream",
     "text": [
      "        one     three       two\n",
      "a -0.265620  0.777000 -1.333952\n",
      "b  0.258648 -0.524998  0.838746\n",
      "c -0.220483  0.478359  0.777000\n",
      "d  0.777000  1.211835  0.905704\n",
      "        one     three       two\n",
      "a -0.265620  0.777000 -1.333952\n",
      "b  0.258648 -0.524998  0.838746\n",
      "c -0.220483  0.478359  0.777000\n",
      "d  0.777000  1.211835  0.905704\n"
     ]
    }
   ],
   "source": [
    "print(df)\n",
    "\n",
    "df[pd.isnull(df)] = 0.777\n",
    "\n",
    "print(df)\n",
    "\n",
    "\n",
    "# Take note of where the NaNs appear"
   ]
  },
  {
   "cell_type": "markdown",
   "metadata": {},
   "source": [
    "EXERCISE 4:  Replace NaNs with scalar inplace<br><br>\n",
    "Using the dataframe above, replace all NaNs with a scalar using a criterion (`pd.isnull()`) and inplace (`df[*criterion*]`)."
   ]
  },
  {
   "cell_type": "code",
   "execution_count": null,
   "metadata": {
    "collapsed": true
   },
   "outputs": [],
   "source": [
    "# Code up your solution here...df[df > 0]\n",
    "df6 = df[df > 0]"
   ]
  },
  {
   "cell_type": "markdown",
   "metadata": {},
   "source": [
    "### Assignment"
   ]
  },
  {
   "cell_type": "code",
   "execution_count": 99,
   "metadata": {
    "collapsed": false
   },
   "outputs": [
    {
     "data": {
      "text/html": [
       "<div style=\"max-height:1000px;max-width:1500px;overflow:auto;\">\n",
       "<table border=\"1\" class=\"dataframe\">\n",
       "  <thead>\n",
       "    <tr style=\"text-align: right;\">\n",
       "      <th></th>\n",
       "      <th>one</th>\n",
       "      <th>three</th>\n",
       "      <th>two</th>\n",
       "    </tr>\n",
       "  </thead>\n",
       "  <tbody>\n",
       "    <tr>\n",
       "      <th>a</th>\n",
       "      <td>-0.296609</td>\n",
       "      <td>      NaN</td>\n",
       "      <td> 1.782546</td>\n",
       "    </tr>\n",
       "    <tr>\n",
       "      <th>b</th>\n",
       "      <td> 0.942898</td>\n",
       "      <td>-1.553640</td>\n",
       "      <td> 0.549673</td>\n",
       "    </tr>\n",
       "    <tr>\n",
       "      <th>c</th>\n",
       "      <td>-1.399370</td>\n",
       "      <td>-0.515617</td>\n",
       "      <td> 0.222548</td>\n",
       "    </tr>\n",
       "    <tr>\n",
       "      <th>d</th>\n",
       "      <td>      NaN</td>\n",
       "      <td>-1.575710</td>\n",
       "      <td> 0.038742</td>\n",
       "    </tr>\n",
       "  </tbody>\n",
       "</table>\n",
       "</div>"
      ],
      "text/plain": [
       "        one     three       two\n",
       "a -0.296609       NaN  1.782546\n",
       "b  0.942898 -1.553640  0.549673\n",
       "c -1.399370 -0.515617  0.222548\n",
       "d       NaN -1.575710  0.038742"
      ]
     },
     "execution_count": 99,
     "metadata": {},
     "output_type": "execute_result"
    }
   ],
   "source": [
    "# Initialize a dataframe with a dict of pandas Series and introduce NaNs\n",
    "df = pd.DataFrame({'one' : pd.Series(np.random.randn(3), index=['a', 'b', 'c']),\n",
    "    'two' : pd.Series(np.random.randn(4), index=['a', 'b', 'c', 'd']),\n",
    "    'three' : pd.Series(np.random.randn(3), index=['b', 'c', 'd'])})\n",
    "df"
   ]
  },
  {
   "cell_type": "code",
   "execution_count": 100,
   "metadata": {
    "collapsed": false
   },
   "outputs": [
    {
     "data": {
      "text/html": [
       "<div style=\"max-height:1000px;max-width:1500px;overflow:auto;\">\n",
       "<table border=\"1\" class=\"dataframe\">\n",
       "  <thead>\n",
       "    <tr style=\"text-align: right;\">\n",
       "      <th></th>\n",
       "      <th>one</th>\n",
       "      <th>three</th>\n",
       "      <th>two</th>\n",
       "    </tr>\n",
       "  </thead>\n",
       "  <tbody>\n",
       "    <tr>\n",
       "      <th>a</th>\n",
       "      <td>-0.296609</td>\n",
       "      <td>      NaN</td>\n",
       "      <td> 1.782546</td>\n",
       "    </tr>\n",
       "    <tr>\n",
       "      <th>b</th>\n",
       "      <td> 0.942898</td>\n",
       "      <td>-1.553640</td>\n",
       "      <td> 0.549673</td>\n",
       "    </tr>\n",
       "    <tr>\n",
       "      <th>c</th>\n",
       "      <td>-1.399370</td>\n",
       "      <td>-0.515617</td>\n",
       "      <td> 0.222548</td>\n",
       "    </tr>\n",
       "    <tr>\n",
       "      <th>d</th>\n",
       "      <td> 0.000000</td>\n",
       "      <td> 0.000000</td>\n",
       "      <td> 0.000000</td>\n",
       "    </tr>\n",
       "  </tbody>\n",
       "</table>\n",
       "</div>"
      ],
      "text/plain": [
       "        one     three       two\n",
       "a -0.296609       NaN  1.782546\n",
       "b  0.942898 -1.553640  0.549673\n",
       "c -1.399370 -0.515617  0.222548\n",
       "d  0.000000  0.000000  0.000000"
      ]
     },
     "execution_count": 100,
     "metadata": {},
     "output_type": "execute_result"
    }
   ],
   "source": [
    "# Assign a whole row\n",
    "df2 = df.copy()\n",
    "df2.iloc[3] = 0\n",
    "df2"
   ]
  },
  {
   "cell_type": "code",
   "execution_count": 101,
   "metadata": {
    "collapsed": false
   },
   "outputs": [
    {
     "data": {
      "text/html": [
       "<div style=\"max-height:1000px;max-width:1500px;overflow:auto;\">\n",
       "<table border=\"1\" class=\"dataframe\">\n",
       "  <thead>\n",
       "    <tr style=\"text-align: right;\">\n",
       "      <th></th>\n",
       "      <th>one</th>\n",
       "      <th>three</th>\n",
       "      <th>two</th>\n",
       "    </tr>\n",
       "  </thead>\n",
       "  <tbody>\n",
       "    <tr>\n",
       "      <th>a</th>\n",
       "      <td> 0</td>\n",
       "      <td>      NaN</td>\n",
       "      <td> 1.782546</td>\n",
       "    </tr>\n",
       "    <tr>\n",
       "      <th>b</th>\n",
       "      <td> 0</td>\n",
       "      <td>-1.553640</td>\n",
       "      <td> 0.549673</td>\n",
       "    </tr>\n",
       "    <tr>\n",
       "      <th>c</th>\n",
       "      <td> 0</td>\n",
       "      <td>-0.515617</td>\n",
       "      <td> 0.222548</td>\n",
       "    </tr>\n",
       "    <tr>\n",
       "      <th>d</th>\n",
       "      <td> 0</td>\n",
       "      <td>-1.575710</td>\n",
       "      <td> 0.038742</td>\n",
       "    </tr>\n",
       "  </tbody>\n",
       "</table>\n",
       "</div>"
      ],
      "text/plain": [
       "   one     three       two\n",
       "a    0       NaN  1.782546\n",
       "b    0 -1.553640  0.549673\n",
       "c    0 -0.515617  0.222548\n",
       "d    0 -1.575710  0.038742"
      ]
     },
     "execution_count": 101,
     "metadata": {},
     "output_type": "execute_result"
    }
   ],
   "source": [
    "# Assign a whole column\n",
    "df2 = df.copy()\n",
    "df2['one'] = 0\n",
    "df2"
   ]
  },
  {
   "cell_type": "code",
   "execution_count": 102,
   "metadata": {
    "collapsed": false
   },
   "outputs": [
    {
     "data": {
      "text/html": [
       "<div style=\"max-height:1000px;max-width:1500px;overflow:auto;\">\n",
       "<table border=\"1\" class=\"dataframe\">\n",
       "  <thead>\n",
       "    <tr style=\"text-align: right;\">\n",
       "      <th></th>\n",
       "      <th>one</th>\n",
       "      <th>three</th>\n",
       "      <th>two</th>\n",
       "    </tr>\n",
       "  </thead>\n",
       "  <tbody>\n",
       "    <tr>\n",
       "      <th>a</th>\n",
       "      <td>-0.296609</td>\n",
       "      <td> 0.000000</td>\n",
       "      <td> 1.782546</td>\n",
       "    </tr>\n",
       "    <tr>\n",
       "      <th>b</th>\n",
       "      <td> 0.942898</td>\n",
       "      <td>-1.553640</td>\n",
       "      <td> 0.549673</td>\n",
       "    </tr>\n",
       "    <tr>\n",
       "      <th>c</th>\n",
       "      <td>-1.399370</td>\n",
       "      <td>-0.515617</td>\n",
       "      <td> 0.222548</td>\n",
       "    </tr>\n",
       "    <tr>\n",
       "      <th>d</th>\n",
       "      <td> 0.000000</td>\n",
       "      <td>-1.575710</td>\n",
       "      <td> 0.038742</td>\n",
       "    </tr>\n",
       "  </tbody>\n",
       "</table>\n",
       "</div>"
      ],
      "text/plain": [
       "        one     three       two\n",
       "a -0.296609  0.000000  1.782546\n",
       "b  0.942898 -1.553640  0.549673\n",
       "c -1.399370 -0.515617  0.222548\n",
       "d  0.000000 -1.575710  0.038742"
      ]
     },
     "execution_count": 102,
     "metadata": {},
     "output_type": "execute_result"
    }
   ],
   "source": [
    "# Using a criterion to fill in missing values by assignment\n",
    "df2 = df.copy()\n",
    "df2[df2.isnull()] = 0\n",
    "df2"
   ]
  },
  {
   "cell_type": "markdown",
   "metadata": {},
   "source": [
    "EXERCISE 5:  Setting rows of an empty dataframe\n",
    "<br>Using the following syntax create an empty 100x10 dataframe and assign each row to the same array of numbers\n",
    "```python\n",
    "pd.DataFrame(index = range(nrows), columns = range(ncols))\n",
    "```"
   ]
  },
  {
   "cell_type": "code",
   "execution_count": 125,
   "metadata": {
    "collapsed": false
   },
   "outputs": [
    {
     "data": {
      "text/html": [
       "<div style=\"max-height:1000px;max-width:1500px;overflow:auto;\">\n",
       "<table border=\"1\" class=\"dataframe\">\n",
       "  <thead>\n",
       "    <tr style=\"text-align: right;\">\n",
       "      <th></th>\n",
       "      <th>0</th>\n",
       "      <th>1</th>\n",
       "      <th>2</th>\n",
       "      <th>3</th>\n",
       "      <th>4</th>\n",
       "      <th>5</th>\n",
       "      <th>6</th>\n",
       "      <th>7</th>\n",
       "      <th>8</th>\n",
       "      <th>9</th>\n",
       "    </tr>\n",
       "  </thead>\n",
       "  <tbody>\n",
       "    <tr>\n",
       "      <th>0 </th>\n",
       "      <td> 0.09812588</td>\n",
       "      <td> 1.091615</td>\n",
       "      <td>-0.1451485</td>\n",
       "      <td>-0.3398887</td>\n",
       "      <td> 0.475404</td>\n",
       "      <td>-1.058019</td>\n",
       "      <td> 0.4484893</td>\n",
       "      <td> 0.03245215</td>\n",
       "      <td> 0.7060423</td>\n",
       "      <td>-1.048482</td>\n",
       "    </tr>\n",
       "    <tr>\n",
       "      <th>1 </th>\n",
       "      <td> 0.09812588</td>\n",
       "      <td> 1.091615</td>\n",
       "      <td>-0.1451485</td>\n",
       "      <td>-0.3398887</td>\n",
       "      <td> 0.475404</td>\n",
       "      <td>-1.058019</td>\n",
       "      <td> 0.4484893</td>\n",
       "      <td> 0.03245215</td>\n",
       "      <td> 0.7060423</td>\n",
       "      <td>-1.048482</td>\n",
       "    </tr>\n",
       "    <tr>\n",
       "      <th>2 </th>\n",
       "      <td> 0.09812588</td>\n",
       "      <td> 1.091615</td>\n",
       "      <td>-0.1451485</td>\n",
       "      <td>-0.3398887</td>\n",
       "      <td> 0.475404</td>\n",
       "      <td>-1.058019</td>\n",
       "      <td> 0.4484893</td>\n",
       "      <td> 0.03245215</td>\n",
       "      <td> 0.7060423</td>\n",
       "      <td>-1.048482</td>\n",
       "    </tr>\n",
       "    <tr>\n",
       "      <th>3 </th>\n",
       "      <td> 0.09812588</td>\n",
       "      <td> 1.091615</td>\n",
       "      <td>-0.1451485</td>\n",
       "      <td>-0.3398887</td>\n",
       "      <td> 0.475404</td>\n",
       "      <td>-1.058019</td>\n",
       "      <td> 0.4484893</td>\n",
       "      <td> 0.03245215</td>\n",
       "      <td> 0.7060423</td>\n",
       "      <td>-1.048482</td>\n",
       "    </tr>\n",
       "    <tr>\n",
       "      <th>4 </th>\n",
       "      <td> 0.09812588</td>\n",
       "      <td> 1.091615</td>\n",
       "      <td>-0.1451485</td>\n",
       "      <td>-0.3398887</td>\n",
       "      <td> 0.475404</td>\n",
       "      <td>-1.058019</td>\n",
       "      <td> 0.4484893</td>\n",
       "      <td> 0.03245215</td>\n",
       "      <td> 0.7060423</td>\n",
       "      <td>-1.048482</td>\n",
       "    </tr>\n",
       "    <tr>\n",
       "      <th>5 </th>\n",
       "      <td> 0.09812588</td>\n",
       "      <td> 1.091615</td>\n",
       "      <td>-0.1451485</td>\n",
       "      <td>-0.3398887</td>\n",
       "      <td> 0.475404</td>\n",
       "      <td>-1.058019</td>\n",
       "      <td> 0.4484893</td>\n",
       "      <td> 0.03245215</td>\n",
       "      <td> 0.7060423</td>\n",
       "      <td>-1.048482</td>\n",
       "    </tr>\n",
       "    <tr>\n",
       "      <th>6 </th>\n",
       "      <td> 0.09812588</td>\n",
       "      <td> 1.091615</td>\n",
       "      <td>-0.1451485</td>\n",
       "      <td>-0.3398887</td>\n",
       "      <td> 0.475404</td>\n",
       "      <td>-1.058019</td>\n",
       "      <td> 0.4484893</td>\n",
       "      <td> 0.03245215</td>\n",
       "      <td> 0.7060423</td>\n",
       "      <td>-1.048482</td>\n",
       "    </tr>\n",
       "    <tr>\n",
       "      <th>7 </th>\n",
       "      <td> 0.09812588</td>\n",
       "      <td> 1.091615</td>\n",
       "      <td>-0.1451485</td>\n",
       "      <td>-0.3398887</td>\n",
       "      <td> 0.475404</td>\n",
       "      <td>-1.058019</td>\n",
       "      <td> 0.4484893</td>\n",
       "      <td> 0.03245215</td>\n",
       "      <td> 0.7060423</td>\n",
       "      <td>-1.048482</td>\n",
       "    </tr>\n",
       "    <tr>\n",
       "      <th>8 </th>\n",
       "      <td> 0.09812588</td>\n",
       "      <td> 1.091615</td>\n",
       "      <td>-0.1451485</td>\n",
       "      <td>-0.3398887</td>\n",
       "      <td> 0.475404</td>\n",
       "      <td>-1.058019</td>\n",
       "      <td> 0.4484893</td>\n",
       "      <td> 0.03245215</td>\n",
       "      <td> 0.7060423</td>\n",
       "      <td>-1.048482</td>\n",
       "    </tr>\n",
       "    <tr>\n",
       "      <th>9 </th>\n",
       "      <td> 0.09812588</td>\n",
       "      <td> 1.091615</td>\n",
       "      <td>-0.1451485</td>\n",
       "      <td>-0.3398887</td>\n",
       "      <td> 0.475404</td>\n",
       "      <td>-1.058019</td>\n",
       "      <td> 0.4484893</td>\n",
       "      <td> 0.03245215</td>\n",
       "      <td> 0.7060423</td>\n",
       "      <td>-1.048482</td>\n",
       "    </tr>\n",
       "    <tr>\n",
       "      <th>10</th>\n",
       "      <td> 0.09812588</td>\n",
       "      <td> 1.091615</td>\n",
       "      <td>-0.1451485</td>\n",
       "      <td>-0.3398887</td>\n",
       "      <td> 0.475404</td>\n",
       "      <td>-1.058019</td>\n",
       "      <td> 0.4484893</td>\n",
       "      <td> 0.03245215</td>\n",
       "      <td> 0.7060423</td>\n",
       "      <td>-1.048482</td>\n",
       "    </tr>\n",
       "    <tr>\n",
       "      <th>11</th>\n",
       "      <td> 0.09812588</td>\n",
       "      <td> 1.091615</td>\n",
       "      <td>-0.1451485</td>\n",
       "      <td>-0.3398887</td>\n",
       "      <td> 0.475404</td>\n",
       "      <td>-1.058019</td>\n",
       "      <td> 0.4484893</td>\n",
       "      <td> 0.03245215</td>\n",
       "      <td> 0.7060423</td>\n",
       "      <td>-1.048482</td>\n",
       "    </tr>\n",
       "    <tr>\n",
       "      <th>12</th>\n",
       "      <td> 0.09812588</td>\n",
       "      <td> 1.091615</td>\n",
       "      <td>-0.1451485</td>\n",
       "      <td>-0.3398887</td>\n",
       "      <td> 0.475404</td>\n",
       "      <td>-1.058019</td>\n",
       "      <td> 0.4484893</td>\n",
       "      <td> 0.03245215</td>\n",
       "      <td> 0.7060423</td>\n",
       "      <td>-1.048482</td>\n",
       "    </tr>\n",
       "    <tr>\n",
       "      <th>13</th>\n",
       "      <td> 0.09812588</td>\n",
       "      <td> 1.091615</td>\n",
       "      <td>-0.1451485</td>\n",
       "      <td>-0.3398887</td>\n",
       "      <td> 0.475404</td>\n",
       "      <td>-1.058019</td>\n",
       "      <td> 0.4484893</td>\n",
       "      <td> 0.03245215</td>\n",
       "      <td> 0.7060423</td>\n",
       "      <td>-1.048482</td>\n",
       "    </tr>\n",
       "    <tr>\n",
       "      <th>14</th>\n",
       "      <td> 0.09812588</td>\n",
       "      <td> 1.091615</td>\n",
       "      <td>-0.1451485</td>\n",
       "      <td>-0.3398887</td>\n",
       "      <td> 0.475404</td>\n",
       "      <td>-1.058019</td>\n",
       "      <td> 0.4484893</td>\n",
       "      <td> 0.03245215</td>\n",
       "      <td> 0.7060423</td>\n",
       "      <td>-1.048482</td>\n",
       "    </tr>\n",
       "    <tr>\n",
       "      <th>15</th>\n",
       "      <td> 0.09812588</td>\n",
       "      <td> 1.091615</td>\n",
       "      <td>-0.1451485</td>\n",
       "      <td>-0.3398887</td>\n",
       "      <td> 0.475404</td>\n",
       "      <td>-1.058019</td>\n",
       "      <td> 0.4484893</td>\n",
       "      <td> 0.03245215</td>\n",
       "      <td> 0.7060423</td>\n",
       "      <td>-1.048482</td>\n",
       "    </tr>\n",
       "    <tr>\n",
       "      <th>16</th>\n",
       "      <td> 0.09812588</td>\n",
       "      <td> 1.091615</td>\n",
       "      <td>-0.1451485</td>\n",
       "      <td>-0.3398887</td>\n",
       "      <td> 0.475404</td>\n",
       "      <td>-1.058019</td>\n",
       "      <td> 0.4484893</td>\n",
       "      <td> 0.03245215</td>\n",
       "      <td> 0.7060423</td>\n",
       "      <td>-1.048482</td>\n",
       "    </tr>\n",
       "    <tr>\n",
       "      <th>17</th>\n",
       "      <td> 0.09812588</td>\n",
       "      <td> 1.091615</td>\n",
       "      <td>-0.1451485</td>\n",
       "      <td>-0.3398887</td>\n",
       "      <td> 0.475404</td>\n",
       "      <td>-1.058019</td>\n",
       "      <td> 0.4484893</td>\n",
       "      <td> 0.03245215</td>\n",
       "      <td> 0.7060423</td>\n",
       "      <td>-1.048482</td>\n",
       "    </tr>\n",
       "    <tr>\n",
       "      <th>18</th>\n",
       "      <td> 0.09812588</td>\n",
       "      <td> 1.091615</td>\n",
       "      <td>-0.1451485</td>\n",
       "      <td>-0.3398887</td>\n",
       "      <td> 0.475404</td>\n",
       "      <td>-1.058019</td>\n",
       "      <td> 0.4484893</td>\n",
       "      <td> 0.03245215</td>\n",
       "      <td> 0.7060423</td>\n",
       "      <td>-1.048482</td>\n",
       "    </tr>\n",
       "    <tr>\n",
       "      <th>19</th>\n",
       "      <td> 0.09812588</td>\n",
       "      <td> 1.091615</td>\n",
       "      <td>-0.1451485</td>\n",
       "      <td>-0.3398887</td>\n",
       "      <td> 0.475404</td>\n",
       "      <td>-1.058019</td>\n",
       "      <td> 0.4484893</td>\n",
       "      <td> 0.03245215</td>\n",
       "      <td> 0.7060423</td>\n",
       "      <td>-1.048482</td>\n",
       "    </tr>\n",
       "    <tr>\n",
       "      <th>20</th>\n",
       "      <td> 0.09812588</td>\n",
       "      <td> 1.091615</td>\n",
       "      <td>-0.1451485</td>\n",
       "      <td>-0.3398887</td>\n",
       "      <td> 0.475404</td>\n",
       "      <td>-1.058019</td>\n",
       "      <td> 0.4484893</td>\n",
       "      <td> 0.03245215</td>\n",
       "      <td> 0.7060423</td>\n",
       "      <td>-1.048482</td>\n",
       "    </tr>\n",
       "    <tr>\n",
       "      <th>21</th>\n",
       "      <td> 0.09812588</td>\n",
       "      <td> 1.091615</td>\n",
       "      <td>-0.1451485</td>\n",
       "      <td>-0.3398887</td>\n",
       "      <td> 0.475404</td>\n",
       "      <td>-1.058019</td>\n",
       "      <td> 0.4484893</td>\n",
       "      <td> 0.03245215</td>\n",
       "      <td> 0.7060423</td>\n",
       "      <td>-1.048482</td>\n",
       "    </tr>\n",
       "    <tr>\n",
       "      <th>22</th>\n",
       "      <td> 0.09812588</td>\n",
       "      <td> 1.091615</td>\n",
       "      <td>-0.1451485</td>\n",
       "      <td>-0.3398887</td>\n",
       "      <td> 0.475404</td>\n",
       "      <td>-1.058019</td>\n",
       "      <td> 0.4484893</td>\n",
       "      <td> 0.03245215</td>\n",
       "      <td> 0.7060423</td>\n",
       "      <td>-1.048482</td>\n",
       "    </tr>\n",
       "    <tr>\n",
       "      <th>23</th>\n",
       "      <td> 0.09812588</td>\n",
       "      <td> 1.091615</td>\n",
       "      <td>-0.1451485</td>\n",
       "      <td>-0.3398887</td>\n",
       "      <td> 0.475404</td>\n",
       "      <td>-1.058019</td>\n",
       "      <td> 0.4484893</td>\n",
       "      <td> 0.03245215</td>\n",
       "      <td> 0.7060423</td>\n",
       "      <td>-1.048482</td>\n",
       "    </tr>\n",
       "    <tr>\n",
       "      <th>24</th>\n",
       "      <td> 0.09812588</td>\n",
       "      <td> 1.091615</td>\n",
       "      <td>-0.1451485</td>\n",
       "      <td>-0.3398887</td>\n",
       "      <td> 0.475404</td>\n",
       "      <td>-1.058019</td>\n",
       "      <td> 0.4484893</td>\n",
       "      <td> 0.03245215</td>\n",
       "      <td> 0.7060423</td>\n",
       "      <td>-1.048482</td>\n",
       "    </tr>\n",
       "    <tr>\n",
       "      <th>25</th>\n",
       "      <td> 0.09812588</td>\n",
       "      <td> 1.091615</td>\n",
       "      <td>-0.1451485</td>\n",
       "      <td>-0.3398887</td>\n",
       "      <td> 0.475404</td>\n",
       "      <td>-1.058019</td>\n",
       "      <td> 0.4484893</td>\n",
       "      <td> 0.03245215</td>\n",
       "      <td> 0.7060423</td>\n",
       "      <td>-1.048482</td>\n",
       "    </tr>\n",
       "    <tr>\n",
       "      <th>26</th>\n",
       "      <td> 0.09812588</td>\n",
       "      <td> 1.091615</td>\n",
       "      <td>-0.1451485</td>\n",
       "      <td>-0.3398887</td>\n",
       "      <td> 0.475404</td>\n",
       "      <td>-1.058019</td>\n",
       "      <td> 0.4484893</td>\n",
       "      <td> 0.03245215</td>\n",
       "      <td> 0.7060423</td>\n",
       "      <td>-1.048482</td>\n",
       "    </tr>\n",
       "    <tr>\n",
       "      <th>27</th>\n",
       "      <td> 0.09812588</td>\n",
       "      <td> 1.091615</td>\n",
       "      <td>-0.1451485</td>\n",
       "      <td>-0.3398887</td>\n",
       "      <td> 0.475404</td>\n",
       "      <td>-1.058019</td>\n",
       "      <td> 0.4484893</td>\n",
       "      <td> 0.03245215</td>\n",
       "      <td> 0.7060423</td>\n",
       "      <td>-1.048482</td>\n",
       "    </tr>\n",
       "    <tr>\n",
       "      <th>28</th>\n",
       "      <td> 0.09812588</td>\n",
       "      <td> 1.091615</td>\n",
       "      <td>-0.1451485</td>\n",
       "      <td>-0.3398887</td>\n",
       "      <td> 0.475404</td>\n",
       "      <td>-1.058019</td>\n",
       "      <td> 0.4484893</td>\n",
       "      <td> 0.03245215</td>\n",
       "      <td> 0.7060423</td>\n",
       "      <td>-1.048482</td>\n",
       "    </tr>\n",
       "    <tr>\n",
       "      <th>29</th>\n",
       "      <td> 0.09812588</td>\n",
       "      <td> 1.091615</td>\n",
       "      <td>-0.1451485</td>\n",
       "      <td>-0.3398887</td>\n",
       "      <td> 0.475404</td>\n",
       "      <td>-1.058019</td>\n",
       "      <td> 0.4484893</td>\n",
       "      <td> 0.03245215</td>\n",
       "      <td> 0.7060423</td>\n",
       "      <td>-1.048482</td>\n",
       "    </tr>\n",
       "    <tr>\n",
       "      <th>...</th>\n",
       "      <td>...</td>\n",
       "      <td>...</td>\n",
       "      <td>...</td>\n",
       "      <td>...</td>\n",
       "      <td>...</td>\n",
       "      <td>...</td>\n",
       "      <td>...</td>\n",
       "      <td>...</td>\n",
       "      <td>...</td>\n",
       "      <td>...</td>\n",
       "    </tr>\n",
       "    <tr>\n",
       "      <th>70</th>\n",
       "      <td> 0.09812588</td>\n",
       "      <td> 1.091615</td>\n",
       "      <td>-0.1451485</td>\n",
       "      <td>-0.3398887</td>\n",
       "      <td> 0.475404</td>\n",
       "      <td>-1.058019</td>\n",
       "      <td> 0.4484893</td>\n",
       "      <td> 0.03245215</td>\n",
       "      <td> 0.7060423</td>\n",
       "      <td>-1.048482</td>\n",
       "    </tr>\n",
       "    <tr>\n",
       "      <th>71</th>\n",
       "      <td> 0.09812588</td>\n",
       "      <td> 1.091615</td>\n",
       "      <td>-0.1451485</td>\n",
       "      <td>-0.3398887</td>\n",
       "      <td> 0.475404</td>\n",
       "      <td>-1.058019</td>\n",
       "      <td> 0.4484893</td>\n",
       "      <td> 0.03245215</td>\n",
       "      <td> 0.7060423</td>\n",
       "      <td>-1.048482</td>\n",
       "    </tr>\n",
       "    <tr>\n",
       "      <th>72</th>\n",
       "      <td> 0.09812588</td>\n",
       "      <td> 1.091615</td>\n",
       "      <td>-0.1451485</td>\n",
       "      <td>-0.3398887</td>\n",
       "      <td> 0.475404</td>\n",
       "      <td>-1.058019</td>\n",
       "      <td> 0.4484893</td>\n",
       "      <td> 0.03245215</td>\n",
       "      <td> 0.7060423</td>\n",
       "      <td>-1.048482</td>\n",
       "    </tr>\n",
       "    <tr>\n",
       "      <th>73</th>\n",
       "      <td> 0.09812588</td>\n",
       "      <td> 1.091615</td>\n",
       "      <td>-0.1451485</td>\n",
       "      <td>-0.3398887</td>\n",
       "      <td> 0.475404</td>\n",
       "      <td>-1.058019</td>\n",
       "      <td> 0.4484893</td>\n",
       "      <td> 0.03245215</td>\n",
       "      <td> 0.7060423</td>\n",
       "      <td>-1.048482</td>\n",
       "    </tr>\n",
       "    <tr>\n",
       "      <th>74</th>\n",
       "      <td> 0.09812588</td>\n",
       "      <td> 1.091615</td>\n",
       "      <td>-0.1451485</td>\n",
       "      <td>-0.3398887</td>\n",
       "      <td> 0.475404</td>\n",
       "      <td>-1.058019</td>\n",
       "      <td> 0.4484893</td>\n",
       "      <td> 0.03245215</td>\n",
       "      <td> 0.7060423</td>\n",
       "      <td>-1.048482</td>\n",
       "    </tr>\n",
       "    <tr>\n",
       "      <th>75</th>\n",
       "      <td> 0.09812588</td>\n",
       "      <td> 1.091615</td>\n",
       "      <td>-0.1451485</td>\n",
       "      <td>-0.3398887</td>\n",
       "      <td> 0.475404</td>\n",
       "      <td>-1.058019</td>\n",
       "      <td> 0.4484893</td>\n",
       "      <td> 0.03245215</td>\n",
       "      <td> 0.7060423</td>\n",
       "      <td>-1.048482</td>\n",
       "    </tr>\n",
       "    <tr>\n",
       "      <th>76</th>\n",
       "      <td> 0.09812588</td>\n",
       "      <td> 1.091615</td>\n",
       "      <td>-0.1451485</td>\n",
       "      <td>-0.3398887</td>\n",
       "      <td> 0.475404</td>\n",
       "      <td>-1.058019</td>\n",
       "      <td> 0.4484893</td>\n",
       "      <td> 0.03245215</td>\n",
       "      <td> 0.7060423</td>\n",
       "      <td>-1.048482</td>\n",
       "    </tr>\n",
       "    <tr>\n",
       "      <th>77</th>\n",
       "      <td> 0.09812588</td>\n",
       "      <td> 1.091615</td>\n",
       "      <td>-0.1451485</td>\n",
       "      <td>-0.3398887</td>\n",
       "      <td> 0.475404</td>\n",
       "      <td>-1.058019</td>\n",
       "      <td> 0.4484893</td>\n",
       "      <td> 0.03245215</td>\n",
       "      <td> 0.7060423</td>\n",
       "      <td>-1.048482</td>\n",
       "    </tr>\n",
       "    <tr>\n",
       "      <th>78</th>\n",
       "      <td> 0.09812588</td>\n",
       "      <td> 1.091615</td>\n",
       "      <td>-0.1451485</td>\n",
       "      <td>-0.3398887</td>\n",
       "      <td> 0.475404</td>\n",
       "      <td>-1.058019</td>\n",
       "      <td> 0.4484893</td>\n",
       "      <td> 0.03245215</td>\n",
       "      <td> 0.7060423</td>\n",
       "      <td>-1.048482</td>\n",
       "    </tr>\n",
       "    <tr>\n",
       "      <th>79</th>\n",
       "      <td> 0.09812588</td>\n",
       "      <td> 1.091615</td>\n",
       "      <td>-0.1451485</td>\n",
       "      <td>-0.3398887</td>\n",
       "      <td> 0.475404</td>\n",
       "      <td>-1.058019</td>\n",
       "      <td> 0.4484893</td>\n",
       "      <td> 0.03245215</td>\n",
       "      <td> 0.7060423</td>\n",
       "      <td>-1.048482</td>\n",
       "    </tr>\n",
       "    <tr>\n",
       "      <th>80</th>\n",
       "      <td> 0.09812588</td>\n",
       "      <td> 1.091615</td>\n",
       "      <td>-0.1451485</td>\n",
       "      <td>-0.3398887</td>\n",
       "      <td> 0.475404</td>\n",
       "      <td>-1.058019</td>\n",
       "      <td> 0.4484893</td>\n",
       "      <td> 0.03245215</td>\n",
       "      <td> 0.7060423</td>\n",
       "      <td>-1.048482</td>\n",
       "    </tr>\n",
       "    <tr>\n",
       "      <th>81</th>\n",
       "      <td> 0.09812588</td>\n",
       "      <td> 1.091615</td>\n",
       "      <td>-0.1451485</td>\n",
       "      <td>-0.3398887</td>\n",
       "      <td> 0.475404</td>\n",
       "      <td>-1.058019</td>\n",
       "      <td> 0.4484893</td>\n",
       "      <td> 0.03245215</td>\n",
       "      <td> 0.7060423</td>\n",
       "      <td>-1.048482</td>\n",
       "    </tr>\n",
       "    <tr>\n",
       "      <th>82</th>\n",
       "      <td> 0.09812588</td>\n",
       "      <td> 1.091615</td>\n",
       "      <td>-0.1451485</td>\n",
       "      <td>-0.3398887</td>\n",
       "      <td> 0.475404</td>\n",
       "      <td>-1.058019</td>\n",
       "      <td> 0.4484893</td>\n",
       "      <td> 0.03245215</td>\n",
       "      <td> 0.7060423</td>\n",
       "      <td>-1.048482</td>\n",
       "    </tr>\n",
       "    <tr>\n",
       "      <th>83</th>\n",
       "      <td> 0.09812588</td>\n",
       "      <td> 1.091615</td>\n",
       "      <td>-0.1451485</td>\n",
       "      <td>-0.3398887</td>\n",
       "      <td> 0.475404</td>\n",
       "      <td>-1.058019</td>\n",
       "      <td> 0.4484893</td>\n",
       "      <td> 0.03245215</td>\n",
       "      <td> 0.7060423</td>\n",
       "      <td>-1.048482</td>\n",
       "    </tr>\n",
       "    <tr>\n",
       "      <th>84</th>\n",
       "      <td> 0.09812588</td>\n",
       "      <td> 1.091615</td>\n",
       "      <td>-0.1451485</td>\n",
       "      <td>-0.3398887</td>\n",
       "      <td> 0.475404</td>\n",
       "      <td>-1.058019</td>\n",
       "      <td> 0.4484893</td>\n",
       "      <td> 0.03245215</td>\n",
       "      <td> 0.7060423</td>\n",
       "      <td>-1.048482</td>\n",
       "    </tr>\n",
       "    <tr>\n",
       "      <th>85</th>\n",
       "      <td> 0.09812588</td>\n",
       "      <td> 1.091615</td>\n",
       "      <td>-0.1451485</td>\n",
       "      <td>-0.3398887</td>\n",
       "      <td> 0.475404</td>\n",
       "      <td>-1.058019</td>\n",
       "      <td> 0.4484893</td>\n",
       "      <td> 0.03245215</td>\n",
       "      <td> 0.7060423</td>\n",
       "      <td>-1.048482</td>\n",
       "    </tr>\n",
       "    <tr>\n",
       "      <th>86</th>\n",
       "      <td> 0.09812588</td>\n",
       "      <td> 1.091615</td>\n",
       "      <td>-0.1451485</td>\n",
       "      <td>-0.3398887</td>\n",
       "      <td> 0.475404</td>\n",
       "      <td>-1.058019</td>\n",
       "      <td> 0.4484893</td>\n",
       "      <td> 0.03245215</td>\n",
       "      <td> 0.7060423</td>\n",
       "      <td>-1.048482</td>\n",
       "    </tr>\n",
       "    <tr>\n",
       "      <th>87</th>\n",
       "      <td> 0.09812588</td>\n",
       "      <td> 1.091615</td>\n",
       "      <td>-0.1451485</td>\n",
       "      <td>-0.3398887</td>\n",
       "      <td> 0.475404</td>\n",
       "      <td>-1.058019</td>\n",
       "      <td> 0.4484893</td>\n",
       "      <td> 0.03245215</td>\n",
       "      <td> 0.7060423</td>\n",
       "      <td>-1.048482</td>\n",
       "    </tr>\n",
       "    <tr>\n",
       "      <th>88</th>\n",
       "      <td> 0.09812588</td>\n",
       "      <td> 1.091615</td>\n",
       "      <td>-0.1451485</td>\n",
       "      <td>-0.3398887</td>\n",
       "      <td> 0.475404</td>\n",
       "      <td>-1.058019</td>\n",
       "      <td> 0.4484893</td>\n",
       "      <td> 0.03245215</td>\n",
       "      <td> 0.7060423</td>\n",
       "      <td>-1.048482</td>\n",
       "    </tr>\n",
       "    <tr>\n",
       "      <th>89</th>\n",
       "      <td> 0.09812588</td>\n",
       "      <td> 1.091615</td>\n",
       "      <td>-0.1451485</td>\n",
       "      <td>-0.3398887</td>\n",
       "      <td> 0.475404</td>\n",
       "      <td>-1.058019</td>\n",
       "      <td> 0.4484893</td>\n",
       "      <td> 0.03245215</td>\n",
       "      <td> 0.7060423</td>\n",
       "      <td>-1.048482</td>\n",
       "    </tr>\n",
       "    <tr>\n",
       "      <th>90</th>\n",
       "      <td> 0.09812588</td>\n",
       "      <td> 1.091615</td>\n",
       "      <td>-0.1451485</td>\n",
       "      <td>-0.3398887</td>\n",
       "      <td> 0.475404</td>\n",
       "      <td>-1.058019</td>\n",
       "      <td> 0.4484893</td>\n",
       "      <td> 0.03245215</td>\n",
       "      <td> 0.7060423</td>\n",
       "      <td>-1.048482</td>\n",
       "    </tr>\n",
       "    <tr>\n",
       "      <th>91</th>\n",
       "      <td> 0.09812588</td>\n",
       "      <td> 1.091615</td>\n",
       "      <td>-0.1451485</td>\n",
       "      <td>-0.3398887</td>\n",
       "      <td> 0.475404</td>\n",
       "      <td>-1.058019</td>\n",
       "      <td> 0.4484893</td>\n",
       "      <td> 0.03245215</td>\n",
       "      <td> 0.7060423</td>\n",
       "      <td>-1.048482</td>\n",
       "    </tr>\n",
       "    <tr>\n",
       "      <th>92</th>\n",
       "      <td> 0.09812588</td>\n",
       "      <td> 1.091615</td>\n",
       "      <td>-0.1451485</td>\n",
       "      <td>-0.3398887</td>\n",
       "      <td> 0.475404</td>\n",
       "      <td>-1.058019</td>\n",
       "      <td> 0.4484893</td>\n",
       "      <td> 0.03245215</td>\n",
       "      <td> 0.7060423</td>\n",
       "      <td>-1.048482</td>\n",
       "    </tr>\n",
       "    <tr>\n",
       "      <th>93</th>\n",
       "      <td> 0.09812588</td>\n",
       "      <td> 1.091615</td>\n",
       "      <td>-0.1451485</td>\n",
       "      <td>-0.3398887</td>\n",
       "      <td> 0.475404</td>\n",
       "      <td>-1.058019</td>\n",
       "      <td> 0.4484893</td>\n",
       "      <td> 0.03245215</td>\n",
       "      <td> 0.7060423</td>\n",
       "      <td>-1.048482</td>\n",
       "    </tr>\n",
       "    <tr>\n",
       "      <th>94</th>\n",
       "      <td> 0.09812588</td>\n",
       "      <td> 1.091615</td>\n",
       "      <td>-0.1451485</td>\n",
       "      <td>-0.3398887</td>\n",
       "      <td> 0.475404</td>\n",
       "      <td>-1.058019</td>\n",
       "      <td> 0.4484893</td>\n",
       "      <td> 0.03245215</td>\n",
       "      <td> 0.7060423</td>\n",
       "      <td>-1.048482</td>\n",
       "    </tr>\n",
       "    <tr>\n",
       "      <th>95</th>\n",
       "      <td> 0.09812588</td>\n",
       "      <td> 1.091615</td>\n",
       "      <td>-0.1451485</td>\n",
       "      <td>-0.3398887</td>\n",
       "      <td> 0.475404</td>\n",
       "      <td>-1.058019</td>\n",
       "      <td> 0.4484893</td>\n",
       "      <td> 0.03245215</td>\n",
       "      <td> 0.7060423</td>\n",
       "      <td>-1.048482</td>\n",
       "    </tr>\n",
       "    <tr>\n",
       "      <th>96</th>\n",
       "      <td> 0.09812588</td>\n",
       "      <td> 1.091615</td>\n",
       "      <td>-0.1451485</td>\n",
       "      <td>-0.3398887</td>\n",
       "      <td> 0.475404</td>\n",
       "      <td>-1.058019</td>\n",
       "      <td> 0.4484893</td>\n",
       "      <td> 0.03245215</td>\n",
       "      <td> 0.7060423</td>\n",
       "      <td>-1.048482</td>\n",
       "    </tr>\n",
       "    <tr>\n",
       "      <th>97</th>\n",
       "      <td> 0.09812588</td>\n",
       "      <td> 1.091615</td>\n",
       "      <td>-0.1451485</td>\n",
       "      <td>-0.3398887</td>\n",
       "      <td> 0.475404</td>\n",
       "      <td>-1.058019</td>\n",
       "      <td> 0.4484893</td>\n",
       "      <td> 0.03245215</td>\n",
       "      <td> 0.7060423</td>\n",
       "      <td>-1.048482</td>\n",
       "    </tr>\n",
       "    <tr>\n",
       "      <th>98</th>\n",
       "      <td> 0.09812588</td>\n",
       "      <td> 1.091615</td>\n",
       "      <td>-0.1451485</td>\n",
       "      <td>-0.3398887</td>\n",
       "      <td> 0.475404</td>\n",
       "      <td>-1.058019</td>\n",
       "      <td> 0.4484893</td>\n",
       "      <td> 0.03245215</td>\n",
       "      <td> 0.7060423</td>\n",
       "      <td>-1.048482</td>\n",
       "    </tr>\n",
       "    <tr>\n",
       "      <th>99</th>\n",
       "      <td> 0.09812588</td>\n",
       "      <td> 1.091615</td>\n",
       "      <td>-0.1451485</td>\n",
       "      <td>-0.3398887</td>\n",
       "      <td> 0.475404</td>\n",
       "      <td>-1.058019</td>\n",
       "      <td> 0.4484893</td>\n",
       "      <td> 0.03245215</td>\n",
       "      <td> 0.7060423</td>\n",
       "      <td>-1.048482</td>\n",
       "    </tr>\n",
       "  </tbody>\n",
       "</table>\n",
       "<p>100 rows × 10 columns</p>\n",
       "</div>"
      ],
      "text/plain": [
       "             0         1          2          3         4         5          6  \\\n",
       "0   0.09812588  1.091615 -0.1451485 -0.3398887  0.475404 -1.058019  0.4484893   \n",
       "1   0.09812588  1.091615 -0.1451485 -0.3398887  0.475404 -1.058019  0.4484893   \n",
       "2   0.09812588  1.091615 -0.1451485 -0.3398887  0.475404 -1.058019  0.4484893   \n",
       "3   0.09812588  1.091615 -0.1451485 -0.3398887  0.475404 -1.058019  0.4484893   \n",
       "4   0.09812588  1.091615 -0.1451485 -0.3398887  0.475404 -1.058019  0.4484893   \n",
       "5   0.09812588  1.091615 -0.1451485 -0.3398887  0.475404 -1.058019  0.4484893   \n",
       "6   0.09812588  1.091615 -0.1451485 -0.3398887  0.475404 -1.058019  0.4484893   \n",
       "7   0.09812588  1.091615 -0.1451485 -0.3398887  0.475404 -1.058019  0.4484893   \n",
       "8   0.09812588  1.091615 -0.1451485 -0.3398887  0.475404 -1.058019  0.4484893   \n",
       "9   0.09812588  1.091615 -0.1451485 -0.3398887  0.475404 -1.058019  0.4484893   \n",
       "10  0.09812588  1.091615 -0.1451485 -0.3398887  0.475404 -1.058019  0.4484893   \n",
       "11  0.09812588  1.091615 -0.1451485 -0.3398887  0.475404 -1.058019  0.4484893   \n",
       "12  0.09812588  1.091615 -0.1451485 -0.3398887  0.475404 -1.058019  0.4484893   \n",
       "13  0.09812588  1.091615 -0.1451485 -0.3398887  0.475404 -1.058019  0.4484893   \n",
       "14  0.09812588  1.091615 -0.1451485 -0.3398887  0.475404 -1.058019  0.4484893   \n",
       "15  0.09812588  1.091615 -0.1451485 -0.3398887  0.475404 -1.058019  0.4484893   \n",
       "16  0.09812588  1.091615 -0.1451485 -0.3398887  0.475404 -1.058019  0.4484893   \n",
       "17  0.09812588  1.091615 -0.1451485 -0.3398887  0.475404 -1.058019  0.4484893   \n",
       "18  0.09812588  1.091615 -0.1451485 -0.3398887  0.475404 -1.058019  0.4484893   \n",
       "19  0.09812588  1.091615 -0.1451485 -0.3398887  0.475404 -1.058019  0.4484893   \n",
       "20  0.09812588  1.091615 -0.1451485 -0.3398887  0.475404 -1.058019  0.4484893   \n",
       "21  0.09812588  1.091615 -0.1451485 -0.3398887  0.475404 -1.058019  0.4484893   \n",
       "22  0.09812588  1.091615 -0.1451485 -0.3398887  0.475404 -1.058019  0.4484893   \n",
       "23  0.09812588  1.091615 -0.1451485 -0.3398887  0.475404 -1.058019  0.4484893   \n",
       "24  0.09812588  1.091615 -0.1451485 -0.3398887  0.475404 -1.058019  0.4484893   \n",
       "25  0.09812588  1.091615 -0.1451485 -0.3398887  0.475404 -1.058019  0.4484893   \n",
       "26  0.09812588  1.091615 -0.1451485 -0.3398887  0.475404 -1.058019  0.4484893   \n",
       "27  0.09812588  1.091615 -0.1451485 -0.3398887  0.475404 -1.058019  0.4484893   \n",
       "28  0.09812588  1.091615 -0.1451485 -0.3398887  0.475404 -1.058019  0.4484893   \n",
       "29  0.09812588  1.091615 -0.1451485 -0.3398887  0.475404 -1.058019  0.4484893   \n",
       "..         ...       ...        ...        ...       ...       ...        ...   \n",
       "70  0.09812588  1.091615 -0.1451485 -0.3398887  0.475404 -1.058019  0.4484893   \n",
       "71  0.09812588  1.091615 -0.1451485 -0.3398887  0.475404 -1.058019  0.4484893   \n",
       "72  0.09812588  1.091615 -0.1451485 -0.3398887  0.475404 -1.058019  0.4484893   \n",
       "73  0.09812588  1.091615 -0.1451485 -0.3398887  0.475404 -1.058019  0.4484893   \n",
       "74  0.09812588  1.091615 -0.1451485 -0.3398887  0.475404 -1.058019  0.4484893   \n",
       "75  0.09812588  1.091615 -0.1451485 -0.3398887  0.475404 -1.058019  0.4484893   \n",
       "76  0.09812588  1.091615 -0.1451485 -0.3398887  0.475404 -1.058019  0.4484893   \n",
       "77  0.09812588  1.091615 -0.1451485 -0.3398887  0.475404 -1.058019  0.4484893   \n",
       "78  0.09812588  1.091615 -0.1451485 -0.3398887  0.475404 -1.058019  0.4484893   \n",
       "79  0.09812588  1.091615 -0.1451485 -0.3398887  0.475404 -1.058019  0.4484893   \n",
       "80  0.09812588  1.091615 -0.1451485 -0.3398887  0.475404 -1.058019  0.4484893   \n",
       "81  0.09812588  1.091615 -0.1451485 -0.3398887  0.475404 -1.058019  0.4484893   \n",
       "82  0.09812588  1.091615 -0.1451485 -0.3398887  0.475404 -1.058019  0.4484893   \n",
       "83  0.09812588  1.091615 -0.1451485 -0.3398887  0.475404 -1.058019  0.4484893   \n",
       "84  0.09812588  1.091615 -0.1451485 -0.3398887  0.475404 -1.058019  0.4484893   \n",
       "85  0.09812588  1.091615 -0.1451485 -0.3398887  0.475404 -1.058019  0.4484893   \n",
       "86  0.09812588  1.091615 -0.1451485 -0.3398887  0.475404 -1.058019  0.4484893   \n",
       "87  0.09812588  1.091615 -0.1451485 -0.3398887  0.475404 -1.058019  0.4484893   \n",
       "88  0.09812588  1.091615 -0.1451485 -0.3398887  0.475404 -1.058019  0.4484893   \n",
       "89  0.09812588  1.091615 -0.1451485 -0.3398887  0.475404 -1.058019  0.4484893   \n",
       "90  0.09812588  1.091615 -0.1451485 -0.3398887  0.475404 -1.058019  0.4484893   \n",
       "91  0.09812588  1.091615 -0.1451485 -0.3398887  0.475404 -1.058019  0.4484893   \n",
       "92  0.09812588  1.091615 -0.1451485 -0.3398887  0.475404 -1.058019  0.4484893   \n",
       "93  0.09812588  1.091615 -0.1451485 -0.3398887  0.475404 -1.058019  0.4484893   \n",
       "94  0.09812588  1.091615 -0.1451485 -0.3398887  0.475404 -1.058019  0.4484893   \n",
       "95  0.09812588  1.091615 -0.1451485 -0.3398887  0.475404 -1.058019  0.4484893   \n",
       "96  0.09812588  1.091615 -0.1451485 -0.3398887  0.475404 -1.058019  0.4484893   \n",
       "97  0.09812588  1.091615 -0.1451485 -0.3398887  0.475404 -1.058019  0.4484893   \n",
       "98  0.09812588  1.091615 -0.1451485 -0.3398887  0.475404 -1.058019  0.4484893   \n",
       "99  0.09812588  1.091615 -0.1451485 -0.3398887  0.475404 -1.058019  0.4484893   \n",
       "\n",
       "             7          8         9  \n",
       "0   0.03245215  0.7060423 -1.048482  \n",
       "1   0.03245215  0.7060423 -1.048482  \n",
       "2   0.03245215  0.7060423 -1.048482  \n",
       "3   0.03245215  0.7060423 -1.048482  \n",
       "4   0.03245215  0.7060423 -1.048482  \n",
       "5   0.03245215  0.7060423 -1.048482  \n",
       "6   0.03245215  0.7060423 -1.048482  \n",
       "7   0.03245215  0.7060423 -1.048482  \n",
       "8   0.03245215  0.7060423 -1.048482  \n",
       "9   0.03245215  0.7060423 -1.048482  \n",
       "10  0.03245215  0.7060423 -1.048482  \n",
       "11  0.03245215  0.7060423 -1.048482  \n",
       "12  0.03245215  0.7060423 -1.048482  \n",
       "13  0.03245215  0.7060423 -1.048482  \n",
       "14  0.03245215  0.7060423 -1.048482  \n",
       "15  0.03245215  0.7060423 -1.048482  \n",
       "16  0.03245215  0.7060423 -1.048482  \n",
       "17  0.03245215  0.7060423 -1.048482  \n",
       "18  0.03245215  0.7060423 -1.048482  \n",
       "19  0.03245215  0.7060423 -1.048482  \n",
       "20  0.03245215  0.7060423 -1.048482  \n",
       "21  0.03245215  0.7060423 -1.048482  \n",
       "22  0.03245215  0.7060423 -1.048482  \n",
       "23  0.03245215  0.7060423 -1.048482  \n",
       "24  0.03245215  0.7060423 -1.048482  \n",
       "25  0.03245215  0.7060423 -1.048482  \n",
       "26  0.03245215  0.7060423 -1.048482  \n",
       "27  0.03245215  0.7060423 -1.048482  \n",
       "28  0.03245215  0.7060423 -1.048482  \n",
       "29  0.03245215  0.7060423 -1.048482  \n",
       "..         ...        ...       ...  \n",
       "70  0.03245215  0.7060423 -1.048482  \n",
       "71  0.03245215  0.7060423 -1.048482  \n",
       "72  0.03245215  0.7060423 -1.048482  \n",
       "73  0.03245215  0.7060423 -1.048482  \n",
       "74  0.03245215  0.7060423 -1.048482  \n",
       "75  0.03245215  0.7060423 -1.048482  \n",
       "76  0.03245215  0.7060423 -1.048482  \n",
       "77  0.03245215  0.7060423 -1.048482  \n",
       "78  0.03245215  0.7060423 -1.048482  \n",
       "79  0.03245215  0.7060423 -1.048482  \n",
       "80  0.03245215  0.7060423 -1.048482  \n",
       "81  0.03245215  0.7060423 -1.048482  \n",
       "82  0.03245215  0.7060423 -1.048482  \n",
       "83  0.03245215  0.7060423 -1.048482  \n",
       "84  0.03245215  0.7060423 -1.048482  \n",
       "85  0.03245215  0.7060423 -1.048482  \n",
       "86  0.03245215  0.7060423 -1.048482  \n",
       "87  0.03245215  0.7060423 -1.048482  \n",
       "88  0.03245215  0.7060423 -1.048482  \n",
       "89  0.03245215  0.7060423 -1.048482  \n",
       "90  0.03245215  0.7060423 -1.048482  \n",
       "91  0.03245215  0.7060423 -1.048482  \n",
       "92  0.03245215  0.7060423 -1.048482  \n",
       "93  0.03245215  0.7060423 -1.048482  \n",
       "94  0.03245215  0.7060423 -1.048482  \n",
       "95  0.03245215  0.7060423 -1.048482  \n",
       "96  0.03245215  0.7060423 -1.048482  \n",
       "97  0.03245215  0.7060423 -1.048482  \n",
       "98  0.03245215  0.7060423 -1.048482  \n",
       "99  0.03245215  0.7060423 -1.048482  \n",
       "\n",
       "[100 rows x 10 columns]"
      ]
     },
     "execution_count": 125,
     "metadata": {},
     "output_type": "execute_result"
    }
   ],
   "source": [
    "# Code up your solution here...\n",
    "#np.range()\n",
    "x = np.random.randn(10)\n",
    "df9 = pd.DataFrame(index = range(100), columns = range(10))\n",
    "\n",
    "for i in range(df9.shape[0]):\n",
    "    df9.iloc[i] = x\n",
    "    \n",
    "df9"
   ]
  },
  {
   "cell_type": "markdown",
   "metadata": {},
   "source": [
    "### Broadcasting\n",
    "* Broadcasting is essentially vectorizing array operations, usually arithmetic.  The term comes from the `numpy` package.  Here, it is applied to `pandas` dataframes."
   ]
  },
  {
   "cell_type": "code",
   "execution_count": 128,
   "metadata": {
    "collapsed": false
   },
   "outputs": [
    {
     "data": {
      "text/html": [
       "<div style=\"max-height:1000px;max-width:1500px;overflow:auto;\">\n",
       "<table border=\"1\" class=\"dataframe\">\n",
       "  <thead>\n",
       "    <tr style=\"text-align: right;\">\n",
       "      <th></th>\n",
       "      <th>a</th>\n",
       "      <th>b</th>\n",
       "      <th>c</th>\n",
       "    </tr>\n",
       "  </thead>\n",
       "  <tbody>\n",
       "    <tr>\n",
       "      <th>0</th>\n",
       "      <td> 0</td>\n",
       "      <td>  1</td>\n",
       "      <td>  2</td>\n",
       "    </tr>\n",
       "    <tr>\n",
       "      <th>1</th>\n",
       "      <td> 3</td>\n",
       "      <td>  4</td>\n",
       "      <td>  5</td>\n",
       "    </tr>\n",
       "    <tr>\n",
       "      <th>2</th>\n",
       "      <td> 6</td>\n",
       "      <td>  7</td>\n",
       "      <td>  8</td>\n",
       "    </tr>\n",
       "    <tr>\n",
       "      <th>3</th>\n",
       "      <td> 9</td>\n",
       "      <td> 10</td>\n",
       "      <td> 11</td>\n",
       "    </tr>\n",
       "  </tbody>\n",
       "</table>\n",
       "</div>"
      ],
      "text/plain": [
       "   a   b   c\n",
       "0  0   1   2\n",
       "1  3   4   5\n",
       "2  6   7   8\n",
       "3  9  10  11"
      ]
     },
     "execution_count": 128,
     "metadata": {},
     "output_type": "execute_result"
    }
   ],
   "source": [
    "# Let's create a simple dataframe from a range of numbers with column names\n",
    "df = pd.DataFrame(np.arange(12).reshape(4, 3), columns = ['a', 'b', 'c'])\n",
    "df"
   ]
  },
  {
   "cell_type": "markdown",
   "metadata": {},
   "source": [
    "<b>Scalar value broadcasting</b>"
   ]
  },
  {
   "cell_type": "code",
   "execution_count": 132,
   "metadata": {
    "collapsed": false
   },
   "outputs": [
    {
     "data": {
      "text/html": [
       "<div style=\"max-height:1000px;max-width:1500px;overflow:auto;\">\n",
       "<table border=\"1\" class=\"dataframe\">\n",
       "  <thead>\n",
       "    <tr style=\"text-align: right;\">\n",
       "      <th></th>\n",
       "      <th>a</th>\n",
       "      <th>b</th>\n",
       "      <th>c</th>\n",
       "    </tr>\n",
       "  </thead>\n",
       "  <tbody>\n",
       "    <tr>\n",
       "      <th>0</th>\n",
       "      <td> 202</td>\n",
       "      <td> 203</td>\n",
       "      <td> 204</td>\n",
       "    </tr>\n",
       "    <tr>\n",
       "      <th>1</th>\n",
       "      <td> 205</td>\n",
       "      <td> 206</td>\n",
       "      <td> 207</td>\n",
       "    </tr>\n",
       "    <tr>\n",
       "      <th>2</th>\n",
       "      <td> 208</td>\n",
       "      <td> 209</td>\n",
       "      <td> 210</td>\n",
       "    </tr>\n",
       "    <tr>\n",
       "      <th>3</th>\n",
       "      <td> 211</td>\n",
       "      <td> 212</td>\n",
       "      <td> 213</td>\n",
       "    </tr>\n",
       "  </tbody>\n",
       "</table>\n",
       "</div>"
      ],
      "text/plain": [
       "     a    b    c\n",
       "0  202  203  204\n",
       "1  205  206  207\n",
       "2  208  209  210\n",
       "3  211  212  213"
      ]
     },
     "execution_count": 132,
     "metadata": {},
     "output_type": "execute_result"
    }
   ],
   "source": [
    "# Addition\n",
    "df =df + 101\n",
    "df\n",
    "\n",
    "# Try subtraction, multiplication and division on your own\n"
   ]
  },
  {
   "cell_type": "markdown",
   "metadata": {},
   "source": [
    "<b>Array broadcasting</b>"
   ]
  },
  {
   "cell_type": "code",
   "execution_count": 133,
   "metadata": {
    "collapsed": false
   },
   "outputs": [
    {
     "data": {
      "text/html": [
       "<div style=\"max-height:1000px;max-width:1500px;overflow:auto;\">\n",
       "<table border=\"1\" class=\"dataframe\">\n",
       "  <thead>\n",
       "    <tr style=\"text-align: right;\">\n",
       "      <th></th>\n",
       "      <th>a</th>\n",
       "      <th>b</th>\n",
       "      <th>c</th>\n",
       "    </tr>\n",
       "  </thead>\n",
       "  <tbody>\n",
       "    <tr>\n",
       "      <th>0</th>\n",
       "      <td> 202</td>\n",
       "      <td> 406</td>\n",
       "      <td> 612</td>\n",
       "    </tr>\n",
       "    <tr>\n",
       "      <th>1</th>\n",
       "      <td> 205</td>\n",
       "      <td> 412</td>\n",
       "      <td> 621</td>\n",
       "    </tr>\n",
       "    <tr>\n",
       "      <th>2</th>\n",
       "      <td> 208</td>\n",
       "      <td> 418</td>\n",
       "      <td> 630</td>\n",
       "    </tr>\n",
       "    <tr>\n",
       "      <th>3</th>\n",
       "      <td> 211</td>\n",
       "      <td> 424</td>\n",
       "      <td> 639</td>\n",
       "    </tr>\n",
       "  </tbody>\n",
       "</table>\n",
       "</div>"
      ],
      "text/plain": [
       "     a    b    c\n",
       "0  202  406  612\n",
       "1  205  412  621\n",
       "2  208  418  630\n",
       "3  211  424  639"
      ]
     },
     "execution_count": 133,
     "metadata": {},
     "output_type": "execute_result"
    }
   ],
   "source": [
    "d = [1, 2, 3]\n",
    "\n",
    "df * d\n",
    "\n",
    "# Is the broadcast happening row-wise or column-wise?\n",
    "\n",
    "# The array 'd' could also be numpy array or pandas series...try these\n"
   ]
  },
  {
   "cell_type": "markdown",
   "metadata": {
    "collapsed": true
   },
   "source": [
    "### Adding and removing columns"
   ]
  },
  {
   "cell_type": "code",
   "execution_count": 134,
   "metadata": {
    "collapsed": false
   },
   "outputs": [
    {
     "data": {
      "text/html": [
       "<div style=\"max-height:1000px;max-width:1500px;overflow:auto;\">\n",
       "<table border=\"1\" class=\"dataframe\">\n",
       "  <thead>\n",
       "    <tr style=\"text-align: right;\">\n",
       "      <th></th>\n",
       "      <th>one</th>\n",
       "      <th>three</th>\n",
       "      <th>two</th>\n",
       "    </tr>\n",
       "  </thead>\n",
       "  <tbody>\n",
       "    <tr>\n",
       "      <th>a</th>\n",
       "      <td> 0.396797</td>\n",
       "      <td>      NaN</td>\n",
       "      <td> 0.438713</td>\n",
       "    </tr>\n",
       "    <tr>\n",
       "      <th>b</th>\n",
       "      <td>-1.328575</td>\n",
       "      <td> 1.794350</td>\n",
       "      <td> 0.318041</td>\n",
       "    </tr>\n",
       "    <tr>\n",
       "      <th>c</th>\n",
       "      <td> 0.826842</td>\n",
       "      <td>-0.819218</td>\n",
       "      <td> 0.058470</td>\n",
       "    </tr>\n",
       "    <tr>\n",
       "      <th>d</th>\n",
       "      <td>      NaN</td>\n",
       "      <td> 0.399921</td>\n",
       "      <td> 1.375172</td>\n",
       "    </tr>\n",
       "  </tbody>\n",
       "</table>\n",
       "</div>"
      ],
      "text/plain": [
       "        one     three       two\n",
       "a  0.396797       NaN  0.438713\n",
       "b -1.328575  1.794350  0.318041\n",
       "c  0.826842 -0.819218  0.058470\n",
       "d       NaN  0.399921  1.375172"
      ]
     },
     "execution_count": 134,
     "metadata": {},
     "output_type": "execute_result"
    }
   ],
   "source": [
    "# Our familiar pandas dataframe\n",
    "df = pd.DataFrame({'one' : pd.Series(np.random.randn(3), index=['a', 'b', 'c']),\n",
    "    'two' : pd.Series(np.random.randn(4), index=['a', 'b', 'c', 'd']),\n",
    "    'three' : pd.Series(np.random.randn(3), index=['b', 'c', 'd'])})\n",
    "df"
   ]
  },
  {
   "cell_type": "code",
   "execution_count": 135,
   "metadata": {
    "collapsed": false
   },
   "outputs": [
    {
     "data": {
      "text/html": [
       "<div style=\"max-height:1000px;max-width:1500px;overflow:auto;\">\n",
       "<table border=\"1\" class=\"dataframe\">\n",
       "  <thead>\n",
       "    <tr style=\"text-align: right;\">\n",
       "      <th></th>\n",
       "      <th>one</th>\n",
       "      <th>three</th>\n",
       "      <th>two</th>\n",
       "      <th>four</th>\n",
       "    </tr>\n",
       "  </thead>\n",
       "  <tbody>\n",
       "    <tr>\n",
       "      <th>a</th>\n",
       "      <td> 0.396797</td>\n",
       "      <td>      NaN</td>\n",
       "      <td> 0.438713</td>\n",
       "      <td> 0.835510</td>\n",
       "    </tr>\n",
       "    <tr>\n",
       "      <th>b</th>\n",
       "      <td>-1.328575</td>\n",
       "      <td> 1.794350</td>\n",
       "      <td> 0.318041</td>\n",
       "      <td>-1.010534</td>\n",
       "    </tr>\n",
       "    <tr>\n",
       "      <th>c</th>\n",
       "      <td> 0.826842</td>\n",
       "      <td>-0.819218</td>\n",
       "      <td> 0.058470</td>\n",
       "      <td> 0.885312</td>\n",
       "    </tr>\n",
       "    <tr>\n",
       "      <th>d</th>\n",
       "      <td>      NaN</td>\n",
       "      <td> 0.399921</td>\n",
       "      <td> 1.375172</td>\n",
       "      <td>      NaN</td>\n",
       "    </tr>\n",
       "  </tbody>\n",
       "</table>\n",
       "</div>"
      ],
      "text/plain": [
       "        one     three       two      four\n",
       "a  0.396797       NaN  0.438713  0.835510\n",
       "b -1.328575  1.794350  0.318041 -1.010534\n",
       "c  0.826842 -0.819218  0.058470  0.885312\n",
       "d       NaN  0.399921  1.375172       NaN"
      ]
     },
     "execution_count": 135,
     "metadata": {},
     "output_type": "execute_result"
    }
   ],
   "source": [
    "# Create a new column and add it to dataframe\n",
    "df['four'] = df['one'] + df['two']\n",
    "df"
   ]
  },
  {
   "cell_type": "code",
   "execution_count": 136,
   "metadata": {
    "collapsed": false
   },
   "outputs": [
    {
     "data": {
      "text/html": [
       "<div style=\"max-height:1000px;max-width:1500px;overflow:auto;\">\n",
       "<table border=\"1\" class=\"dataframe\">\n",
       "  <thead>\n",
       "    <tr style=\"text-align: right;\">\n",
       "      <th></th>\n",
       "      <th>one</th>\n",
       "      <th>three</th>\n",
       "      <th>two</th>\n",
       "      <th>four</th>\n",
       "    </tr>\n",
       "  </thead>\n",
       "  <tbody>\n",
       "    <tr>\n",
       "      <th>a</th>\n",
       "      <td> 0.396797</td>\n",
       "      <td>      NaN</td>\n",
       "      <td> 0.438713</td>\n",
       "      <td> 0.835510</td>\n",
       "    </tr>\n",
       "    <tr>\n",
       "      <th>b</th>\n",
       "      <td>-1.328575</td>\n",
       "      <td> 1.794350</td>\n",
       "      <td> 0.318041</td>\n",
       "      <td>-1.010534</td>\n",
       "    </tr>\n",
       "    <tr>\n",
       "      <th>c</th>\n",
       "      <td> 0.826842</td>\n",
       "      <td>-0.819218</td>\n",
       "      <td> 0.058470</td>\n",
       "      <td> 0.885312</td>\n",
       "    </tr>\n",
       "    <tr>\n",
       "      <th>d</th>\n",
       "      <td>      NaN</td>\n",
       "      <td> 0.399921</td>\n",
       "      <td> 1.375172</td>\n",
       "      <td>      NaN</td>\n",
       "    </tr>\n",
       "  </tbody>\n",
       "</table>\n",
       "</div>"
      ],
      "text/plain": [
       "        one     three       two      four\n",
       "a  0.396797       NaN  0.438713  0.835510\n",
       "b -1.328575  1.794350  0.318041 -1.010534\n",
       "c  0.826842 -0.819218  0.058470  0.885312\n",
       "d       NaN  0.399921  1.375172       NaN"
      ]
     },
     "execution_count": 136,
     "metadata": {},
     "output_type": "execute_result"
    }
   ],
   "source": [
    "# Remove a column by label\n",
    "df.drop('four', axis = 'columns')\n",
    "\n",
    "# Check to see if df was modified (if not how would we modify it inplace?)\n",
    "df"
   ]
  },
  {
   "cell_type": "markdown",
   "metadata": {},
   "source": [
    "### References\n",
    "[The basics from pandas documentation]: http://pandas.pydata.org/pandas-docs/version/0.16.2/basics.html\n",
    "[Pandas cheatsheet from Notebook Gallery]: http://nbviewer.ipython.org/github/pybokeh/jupyter_notebooks/blob/master/pandas/PandasCheatSheet.ipynb\n",
    "1. [The basics from pandas documentation]\n",
    "* [Pandas cheatsheet from Notebook Gallery]"
   ]
  },
  {
   "cell_type": "markdown",
   "metadata": {
    "collapsed": true
   },
   "source": [
    "Created by a Microsoft Employee.\n",
    "\t\n",
    "The MIT License (MIT)<br>\n",
    "Copyright (c) 2016"
   ]
  },
  {
   "cell_type": "code",
   "execution_count": null,
   "metadata": {
    "collapsed": true
   },
   "outputs": [],
   "source": []
  }
 ],
 "metadata": {
  "kernelspec": {
   "display_name": "Python 2",
   "language": "python",
   "name": "python2"
  },
  "language_info": {
   "codemirror_mode": {
    "name": "ipython",
    "version": 2
   },
   "file_extension": ".py",
   "mimetype": "text/x-python",
   "name": "python",
   "nbconvert_exporter": "python",
   "pygments_lexer": "ipython2",
   "version": "2.7.10"
  }
 },
 "nbformat": 4,
 "nbformat_minor": 0
}
