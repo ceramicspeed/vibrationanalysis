{
 "cells": [
  {
   "cell_type": "markdown",
   "metadata": {},
   "source": [
    "# Utility conversion"
   ]
  },
  {
   "cell_type": "markdown",
   "metadata": {},
   "source": [
    "Theis script aims to read a text file from the NASA datasetm and comvert it to a dataset, compatible with Tom Irvine's vibration ananlysys toolbox - wich by the way is excellent, get it here\n",
    "\n",
    "For the data to read, following is known:\n",
    "\n",
    "Three (3) data sets are included in the data packet (IMS-Rexnord Bearing Data.zip). \n",
    "Each data set describes a test-to-failure experiment. Each data set consists of individual files that are 1-second vibration signal snapshots recorded at specific intervals. \n",
    "\n",
    "Each file consists of 20,480 points with the sampling rate set at 20 kHz. The file name indicates when the data was collected. \n",
    "\n",
    "Each record (row) in the data file is a data point. Data collection was facilitated by NI DAQ Card 6062E. Larger intervals of time stamps (showed in file names) indicate resumption of the experiment in the next working day."
   ]
  },
  {
   "cell_type": "code",
   "execution_count": 8,
   "metadata": {
    "collapsed": false
   },
   "outputs": [
    {
     "name": "stdout",
     "output_type": "stream",
     "text": [
      "Bearingdata2 - NASA dataset.ipynb\n",
      "Bearingdata3 - NASA dataset.ipynb\n",
      "Bearingdata4 - NASA dataset.ipynb\n",
      "Chapter 2 - Selecting data & finding the most common complaint type.ipynb\n",
      "Convert NASA dat to Vibrationdata.py toolbox.ipynb\n",
      "RemoteSystemsTempFiles\n",
      "Sandbox\n",
      "basic python.ipynb\n",
      "bearing_IMS\n",
      "data\n",
      "helloWorld\n",
      "out1.csv\n",
      "panda walkthrough.ipynb\n",
      "pandas.ipynb\n",
      "pandas1-bearingdata1.ipynb\n",
      "pandas1.ipynb\n",
      "plotly_fft\n",
      "plotly_fft2\n"
     ]
    }
   ],
   "source": [
    "%%bash\n",
    "\n",
    "ls"
   ]
  },
  {
   "cell_type": "code",
   "execution_count": 31,
   "metadata": {
    "collapsed": false
   },
   "outputs": [
    {
     "name": "stdout",
     "output_type": "stream",
     "text": [
      "4.8828125e-05\n"
     ]
    }
   ],
   "source": [
    "import numpy as np\n",
    "from itertools import repeat\n",
    "import csv\n",
    "\n",
    "Fs = 20000\n",
    "Nsamples = 20480\n",
    "Duration = 1.0\n",
    "dt = Duration/Nsamples #delta time between each sample\n",
    "\n",
    "col = 1 #read from this row\n",
    "\n",
    "#File = \n",
    "#Path = \n",
    "print dt\n",
    "\n",
    "with open('./bearing_IMS/1st_test/2003.10.22.12.06.24','rb') as tsvin, open('out1.csv', 'wb') as csvout:\n",
    "    tsvin = csv.reader(tsvin, delimiter='\\t')\n",
    "    csvout = csv.writer(csvout,delimiter=' ')\n",
    "    time = 0.0\n",
    "    for row in tsvin:\n",
    "        time += dt\n",
    "        val = row[col]\n",
    "        csvout.writerow([time,val])\n",
    "    #csvout.writerow(['Spam'] * 5 + ['Baked Beans'])"
   ]
  },
  {
   "cell_type": "code",
   "execution_count": null,
   "metadata": {
    "collapsed": true
   },
   "outputs": [],
   "source": [
    " time = 0.0;\n",
    "    for row in tsvin:\n",
    "        count = int(row[Col])\n",
    "        time += dt\n",
    "        if count > 0:\n",
    "            #csvout.writerows(time)\n",
    "            #(row[0],time)\n",
    "            #csvout.writerows(count)\n",
    "            csvout.writerows(repeat(row[2:4], count))\n",
    "\n"
   ]
  }
 ],
 "metadata": {
  "kernelspec": {
   "display_name": "Python 2",
   "language": "python",
   "name": "python2"
  },
  "language_info": {
   "codemirror_mode": {
    "name": "ipython",
    "version": 2
   },
   "file_extension": ".py",
   "mimetype": "text/x-python",
   "name": "python",
   "nbconvert_exporter": "python",
   "pygments_lexer": "ipython2",
   "version": "2.7.10"
  }
 },
 "nbformat": 4,
 "nbformat_minor": 0
}
