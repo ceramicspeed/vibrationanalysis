{
 "cells": [
  {
   "cell_type": "markdown",
   "metadata": {},
   "source": [
    "# Bearing calcluator"
   ]
  },
  {
   "cell_type": "markdown",
   "metadata": {},
   "source": [
    "About the testrig \n",
    "- Recording Duration: October 22, 2003 12:06:24 to November 25, 2003 23:39:56\n",
    "- No. of Files: 2,156\n",
    "- No. of Channels: 8\n",
    "- Channel Arrangement: \n",
    " - Bearing 1 – Ch 1&2; \n",
    " - Bearing 2 – Ch 3&4;\n",
    " - Bearing 3 – Ch 5&6; \n",
    " - Bearing 4 – Ch 7&8.\n",
    " \n",
    "- File Recording Interval: Every 10 minutes (except the first 43 files were taken every 5 minutes)\n",
    "- File Format: ASCII\n",
    "- Description: At the end of the test-to-failure experiment, inner race defect occurred in bearing 3 and roller element defect in bearing 4.\n",
    "- Each data set consists of individual files that are 1-second vibration signal snapshots recorded at specific intervals. Each file consists of 20,480 points with the sampling rate set at 20 kHz\n",
    "\n",
    "Bearings are spun at **2000RPM**\n",
    "All bearing are applied a radial load of **6000lbs** "
   ]
  },
  {
   "cell_type": "markdown",
   "metadata": {},
   "source": [
    "## Bearing data"
   ]
  },
  {
   "cell_type": "markdown",
   "metadata": {},
   "source": [
    "The bearing datasheet is for a bearing of double row type bearing\n",
    "ZA2115 Spherical Roller Bearings\n",
    "\n",
    "http://www.rexnord.com/Products-Services/Process-Motion-Control/Bearings/Spherical-roller-bearings/2000-Series/ZA2000/ZA2115\n",
    "\n",
    "https://www.researchgate.net/figure/277926559_fig3_Figure-3-Scheme-of-the-proposed-SVD-based-TFD-image-dimensionality-reduction-method\n",
    "\n",
    "The geo- metric parameters of the four experiment bearings and the bearing characteristic frequencies such as \n",
    "- outer race fault frequency ( f O ), \n",
    "- inner race fault frequency ( f I ), \n",
    "- the cage fault frequency ( f c ), \n",
    "- and ball fault frequency ( f b ) \n",
    "\n",
    "are listed below:\n",
    "\n",
    "\n",
    "**Data**\n",
    "\n",
    " - Bearing type ZA-2155 of Rexnord\n",
    " - Ball numbers : 16\n",
    " - Groove section size: 0.331(in)\n",
    " - Contact abgle: 2.815\n",
    " - fI (Hz): 296.9\n",
    " - fO (Hz): 236.4\n",
    " - fb (Hz): 139.9\n",
    " - fc (Hz): 29.55\n",
    "\n"
   ]
  }
 ],
 "metadata": {
  "kernelspec": {
   "display_name": "Python 2",
   "language": "python",
   "name": "python2"
  },
  "language_info": {
   "codemirror_mode": {
    "name": "ipython",
    "version": 2
   },
   "file_extension": ".py",
   "mimetype": "text/x-python",
   "name": "python",
   "nbconvert_exporter": "python",
   "pygments_lexer": "ipython2",
   "version": "2.7.10"
  }
 },
 "nbformat": 4,
 "nbformat_minor": 0
}
