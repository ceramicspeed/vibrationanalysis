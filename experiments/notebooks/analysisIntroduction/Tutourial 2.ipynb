{
 "cells": [
  {
   "cell_type": "markdown",
   "metadata": {},
   "source": [
    "# Jupyter notebook tutourial part 2"
   ]
  },
  {
   "cell_type": "markdown",
   "metadata": {},
   "source": [
    "This notebook is a copy of part 1, here we read in the NASA bearing dataset instead \n",
    "\n",
    "[https://www.analyticsvidhya.com/blog/2016/01/complete-tutorial-learn-data-science-python-scratch-2/]"
   ]
  },
  {
   "cell_type": "markdown",
   "metadata": {},
   "source": [
    "In this notebook, we look at some basic statistics and plotting functions"
   ]
  },
  {
   "cell_type": "code",
   "execution_count": null,
   "metadata": {
    "collapsed": false
   },
   "outputs": [],
   "source": []
  },
  {
   "cell_type": "markdown",
   "metadata": {},
   "source": [
    "# Going further and using libaries"
   ]
  },
  {
   "cell_type": "markdown",
   "metadata": {},
   "source": [
    "Now that you are familiar with Python fundamentals, let’s take a step further. What if you have to perform the following tasks:\n",
    "\n",
    " - Multiply 2 matrices\n",
    " - Find the root of a quadratic equation\n",
    " - Plot bar charts and histograms\n",
    " - Make statistical models\n",
    " - Access web-pages"
   ]
  },
  {
   "cell_type": "markdown",
   "metadata": {},
   "source": [
    "## Python Libraries\n",
    "\n"
   ]
  },
  {
   "cell_type": "markdown",
   "metadata": {},
   "source": [
    "Lets take one step ahead in our journey to learn Python by getting acquainted with some useful libraries.\n",
    "\n",
    "The first step is obviously to learn to import them into our environment. \n",
    "\n",
    "There are several ways of doing so in Python:\n",
    "\n",
    "    import math as m\n",
    "    \n",
    "or\n",
    "\n",
    "    from math import *  \n",
    "    \n",
    "In the first manner, we have defined an alias m to library math. We can now use various functions from math library (e.g. factorial) by referencing it using the alias \n",
    "    \n",
    "    m.factorial().\n",
    "\n",
    "In the second manner, you have imported the entire name space in math i.e. you can directly use factorial() without referring to math.\n"
   ]
  },
  {
   "cell_type": "code",
   "execution_count": null,
   "metadata": {
    "collapsed": false
   },
   "outputs": [],
   "source": [
    "import math as m\n",
    "\n",
    "m.sqrt(64)"
   ]
  },
  {
   "cell_type": "markdown",
   "metadata": {},
   "source": [
    "## Introduction to Series and Dataframes"
   ]
  },
  {
   "cell_type": "markdown",
   "metadata": {},
   "source": [
    "Series can be understood as a 1 dimensional labelled / indexed array. You can access individual elements of this series through these labels.\n",
    "\n",
    "A dataframe is similar to Excel workbook – you have column names referring to columns and you have rows, which can be accessed with use of row numbers. The essential difference being that column names and row numbers are known as column and row index, in case of dataframes.\n",
    "\n",
    "Series and dataframes form the core data model for Pandas in Python. The data sets are first read into these dataframes and then various operations (e.g. group by, aggregation etc.) can be applied very easily to its columns.\n",
    "\n",
    "Consider spending 10+ minuttes on this [http://pandas.pydata.org/pandas-docs/stable/10min.html]"
   ]
  },
  {
   "cell_type": "markdown",
   "metadata": {},
   "source": [
    "### The loan dataset, obtained from kaggle.com"
   ]
  },
  {
   "cell_type": "markdown",
   "metadata": {},
   "source": [
    "Create an acount and get the datasets **train.csv** and **test.csv** here [https://www.kaggle.com/c/loan-default-prediction/data?train_v2.csv.zip]"
   ]
  },
  {
   "cell_type": "code",
   "execution_count": 29,
   "metadata": {
    "collapsed": false
   },
   "outputs": [],
   "source": [
    "# keep stuff inside the notebook, for UI\n",
    "#%pylab inline\n",
    "%matplotlib inline   \n",
    "\n"
   ]
  },
  {
   "cell_type": "code",
   "execution_count": 44,
   "metadata": {
    "collapsed": false
   },
   "outputs": [],
   "source": [
    "import pandas as pd\n",
    "import numpy as np\n",
    "#import matplotlib as plt\n",
    "import matplotlib.pyplot as plt\n",
    "\n",
    "\n",
    "df= pd.read_table('../bearing_IMS/1st_test/2003.10.22.12.06.24',\n",
    "                          sep='\\t',\n",
    "                          names = [\"Bearing 1.1\", \"Bearing 1.2\", \"Bearing 2.1\", \"Bearing 2.2\", \"Bearing 3.1\", \"Bearing 3.2\", \n",
    "                                 \"Bearing 4.1\", \"Bearing 4.2\"])\n",
    "\n",
    "\n",
    "#df2 is the end of data, dataset\n",
    "df2= pd.read_table('../bearing_IMS/1st_test/2003.11.14.15.22.17',\n",
    "                          sep='\\t',\n",
    "                          names = [\"Bearing 1.1\", \"Bearing 1.2\", \"Bearing 2.1\", \"Bearing 2.2\", \"Bearing 3.1\", \"Bearing 3.2\", \n",
    "                                 \"Bearing 4.1\", \"Bearing 4.2\"])\n",
    "                         #,usecols = [\"Bearing 3.1\"])"
   ]
  },
  {
   "cell_type": "code",
   "execution_count": 31,
   "metadata": {
    "collapsed": false
   },
   "outputs": [
    {
     "data": {
      "text/html": [
       "<div style=\"max-height:1000px;max-width:1500px;overflow:auto;\">\n",
       "<table border=\"1\" class=\"dataframe\">\n",
       "  <thead>\n",
       "    <tr style=\"text-align: right;\">\n",
       "      <th></th>\n",
       "      <th>Bearing 1.1</th>\n",
       "      <th>Bearing 1.2</th>\n",
       "      <th>Bearing 2.1</th>\n",
       "      <th>Bearing 2.2</th>\n",
       "      <th>Bearing 3.1</th>\n",
       "      <th>Bearing 3.2</th>\n",
       "      <th>Bearing 4.1</th>\n",
       "      <th>Bearing 4.2</th>\n",
       "    </tr>\n",
       "  </thead>\n",
       "  <tbody>\n",
       "    <tr>\n",
       "      <th>0</th>\n",
       "      <td>-0.022</td>\n",
       "      <td>-0.039</td>\n",
       "      <td>-0.183</td>\n",
       "      <td>-0.054</td>\n",
       "      <td>-0.105</td>\n",
       "      <td>-0.134</td>\n",
       "      <td>-0.129</td>\n",
       "      <td>-0.142</td>\n",
       "    </tr>\n",
       "    <tr>\n",
       "      <th>1</th>\n",
       "      <td>-0.105</td>\n",
       "      <td>-0.017</td>\n",
       "      <td>-0.164</td>\n",
       "      <td>-0.183</td>\n",
       "      <td>-0.049</td>\n",
       "      <td> 0.029</td>\n",
       "      <td>-0.115</td>\n",
       "      <td>-0.122</td>\n",
       "    </tr>\n",
       "    <tr>\n",
       "      <th>2</th>\n",
       "      <td>-0.183</td>\n",
       "      <td>-0.098</td>\n",
       "      <td>-0.195</td>\n",
       "      <td>-0.125</td>\n",
       "      <td>-0.005</td>\n",
       "      <td>-0.007</td>\n",
       "      <td>-0.171</td>\n",
       "      <td>-0.071</td>\n",
       "    </tr>\n",
       "    <tr>\n",
       "      <th>3</th>\n",
       "      <td>-0.178</td>\n",
       "      <td>-0.161</td>\n",
       "      <td>-0.159</td>\n",
       "      <td>-0.178</td>\n",
       "      <td>-0.100</td>\n",
       "      <td>-0.115</td>\n",
       "      <td>-0.112</td>\n",
       "      <td>-0.078</td>\n",
       "    </tr>\n",
       "    <tr>\n",
       "      <th>4</th>\n",
       "      <td>-0.208</td>\n",
       "      <td>-0.129</td>\n",
       "      <td>-0.261</td>\n",
       "      <td>-0.098</td>\n",
       "      <td>-0.151</td>\n",
       "      <td>-0.205</td>\n",
       "      <td>-0.063</td>\n",
       "      <td>-0.066</td>\n",
       "    </tr>\n",
       "  </tbody>\n",
       "</table>\n",
       "</div>"
      ],
      "text/plain": [
       "   Bearing 1.1  Bearing 1.2  Bearing 2.1  Bearing 2.2  Bearing 3.1  \\\n",
       "0       -0.022       -0.039       -0.183       -0.054       -0.105   \n",
       "1       -0.105       -0.017       -0.164       -0.183       -0.049   \n",
       "2       -0.183       -0.098       -0.195       -0.125       -0.005   \n",
       "3       -0.178       -0.161       -0.159       -0.178       -0.100   \n",
       "4       -0.208       -0.129       -0.261       -0.098       -0.151   \n",
       "\n",
       "   Bearing 3.2  Bearing 4.1  Bearing 4.2  \n",
       "0       -0.134       -0.129       -0.142  \n",
       "1        0.029       -0.115       -0.122  \n",
       "2       -0.007       -0.171       -0.071  \n",
       "3       -0.115       -0.112       -0.078  \n",
       "4       -0.205       -0.063       -0.066  "
      ]
     },
     "execution_count": 31,
     "metadata": {},
     "output_type": "execute_result"
    }
   ],
   "source": [
    "# a quick look at the data\n",
    "df.head()"
   ]
  },
  {
   "cell_type": "code",
   "execution_count": 32,
   "metadata": {
    "collapsed": false
   },
   "outputs": [
    {
     "data": {
      "text/html": [
       "<div style=\"max-height:1000px;max-width:1500px;overflow:auto;\">\n",
       "<table border=\"1\" class=\"dataframe\">\n",
       "  <thead>\n",
       "    <tr style=\"text-align: right;\">\n",
       "      <th></th>\n",
       "      <th>Bearing 1.1</th>\n",
       "      <th>Bearing 1.2</th>\n",
       "      <th>Bearing 2.1</th>\n",
       "      <th>Bearing 2.2</th>\n",
       "      <th>Bearing 3.1</th>\n",
       "      <th>Bearing 3.2</th>\n",
       "      <th>Bearing 4.1</th>\n",
       "      <th>Bearing 4.2</th>\n",
       "    </tr>\n",
       "  </thead>\n",
       "  <tbody>\n",
       "    <tr>\n",
       "      <th>count</th>\n",
       "      <td> 20480.000000</td>\n",
       "      <td> 20480.00000</td>\n",
       "      <td> 20480.000000</td>\n",
       "      <td> 20480.000000</td>\n",
       "      <td> 20480.000000</td>\n",
       "      <td> 20480.000000</td>\n",
       "      <td> 20480.000000</td>\n",
       "      <td> 20480.000000</td>\n",
       "    </tr>\n",
       "    <tr>\n",
       "      <th>mean</th>\n",
       "      <td>    -0.094593</td>\n",
       "      <td>    -0.09388</td>\n",
       "      <td>    -0.093817</td>\n",
       "      <td>    -0.093752</td>\n",
       "      <td>    -0.090812</td>\n",
       "      <td>    -0.090881</td>\n",
       "      <td>    -0.090969</td>\n",
       "      <td>    -0.094235</td>\n",
       "    </tr>\n",
       "    <tr>\n",
       "      <th>std</th>\n",
       "      <td>     0.081124</td>\n",
       "      <td>     0.07065</td>\n",
       "      <td>     0.090650</td>\n",
       "      <td>     0.077510</td>\n",
       "      <td>     0.091463</td>\n",
       "      <td>     0.095488</td>\n",
       "      <td>     0.060086</td>\n",
       "      <td>     0.066382</td>\n",
       "    </tr>\n",
       "    <tr>\n",
       "      <th>min</th>\n",
       "      <td>    -0.720000</td>\n",
       "      <td>    -0.56400</td>\n",
       "      <td>    -0.674000</td>\n",
       "      <td>    -0.530000</td>\n",
       "      <td>    -0.496000</td>\n",
       "      <td>    -0.784000</td>\n",
       "      <td>    -0.413000</td>\n",
       "      <td>    -0.471000</td>\n",
       "    </tr>\n",
       "    <tr>\n",
       "      <th>25%</th>\n",
       "      <td>    -0.146000</td>\n",
       "      <td>    -0.13900</td>\n",
       "      <td>    -0.156000</td>\n",
       "      <td>    -0.146000</td>\n",
       "      <td>    -0.151000</td>\n",
       "      <td>    -0.154000</td>\n",
       "      <td>    -0.129000</td>\n",
       "      <td>    -0.134000</td>\n",
       "    </tr>\n",
       "    <tr>\n",
       "      <th>50%</th>\n",
       "      <td>    -0.095000</td>\n",
       "      <td>    -0.09300</td>\n",
       "      <td>    -0.093000</td>\n",
       "      <td>    -0.093000</td>\n",
       "      <td>    -0.090000</td>\n",
       "      <td>    -0.090000</td>\n",
       "      <td>    -0.090000</td>\n",
       "      <td>    -0.095000</td>\n",
       "    </tr>\n",
       "    <tr>\n",
       "      <th>75%</th>\n",
       "      <td>    -0.042000</td>\n",
       "      <td>    -0.04900</td>\n",
       "      <td>    -0.032000</td>\n",
       "      <td>    -0.042000</td>\n",
       "      <td>    -0.029000</td>\n",
       "      <td>    -0.029000</td>\n",
       "      <td>    -0.054000</td>\n",
       "      <td>    -0.054000</td>\n",
       "    </tr>\n",
       "    <tr>\n",
       "      <th>max</th>\n",
       "      <td>     0.388000</td>\n",
       "      <td>     0.70100</td>\n",
       "      <td>     0.359000</td>\n",
       "      <td>     0.256000</td>\n",
       "      <td>     0.400000</td>\n",
       "      <td>     0.415000</td>\n",
       "      <td>     0.249000</td>\n",
       "      <td>     0.374000</td>\n",
       "    </tr>\n",
       "  </tbody>\n",
       "</table>\n",
       "</div>"
      ],
      "text/plain": [
       "        Bearing 1.1  Bearing 1.2   Bearing 2.1   Bearing 2.2   Bearing 3.1  \\\n",
       "count  20480.000000  20480.00000  20480.000000  20480.000000  20480.000000   \n",
       "mean      -0.094593     -0.09388     -0.093817     -0.093752     -0.090812   \n",
       "std        0.081124      0.07065      0.090650      0.077510      0.091463   \n",
       "min       -0.720000     -0.56400     -0.674000     -0.530000     -0.496000   \n",
       "25%       -0.146000     -0.13900     -0.156000     -0.146000     -0.151000   \n",
       "50%       -0.095000     -0.09300     -0.093000     -0.093000     -0.090000   \n",
       "75%       -0.042000     -0.04900     -0.032000     -0.042000     -0.029000   \n",
       "max        0.388000      0.70100      0.359000      0.256000      0.400000   \n",
       "\n",
       "        Bearing 3.2   Bearing 4.1   Bearing 4.2  \n",
       "count  20480.000000  20480.000000  20480.000000  \n",
       "mean      -0.090881     -0.090969     -0.094235  \n",
       "std        0.095488      0.060086      0.066382  \n",
       "min       -0.784000     -0.413000     -0.471000  \n",
       "25%       -0.154000     -0.129000     -0.134000  \n",
       "50%       -0.090000     -0.090000     -0.095000  \n",
       "75%       -0.029000     -0.054000     -0.054000  \n",
       "max        0.415000      0.249000      0.374000  "
      ]
     },
     "execution_count": 32,
     "metadata": {},
     "output_type": "execute_result"
    }
   ],
   "source": [
    "df.describe()"
   ]
  },
  {
   "cell_type": "code",
   "execution_count": 33,
   "metadata": {
    "collapsed": false
   },
   "outputs": [
    {
     "data": {
      "text/html": [
       "<div style=\"max-height:1000px;max-width:1500px;overflow:auto;\">\n",
       "<table border=\"1\" class=\"dataframe\">\n",
       "  <thead>\n",
       "    <tr style=\"text-align: right;\">\n",
       "      <th></th>\n",
       "      <th>Bearing 1.1</th>\n",
       "      <th>Bearing 1.2</th>\n",
       "      <th>Bearing 2.1</th>\n",
       "      <th>Bearing 2.2</th>\n",
       "      <th>Bearing 3.1</th>\n",
       "      <th>Bearing 3.2</th>\n",
       "      <th>Bearing 4.1</th>\n",
       "      <th>Bearing 4.2</th>\n",
       "    </tr>\n",
       "  </thead>\n",
       "  <tbody>\n",
       "    <tr>\n",
       "      <th>count</th>\n",
       "      <td> 20480.000000</td>\n",
       "      <td> 20480.000000</td>\n",
       "      <td> 20480.000000</td>\n",
       "      <td> 20480.000000</td>\n",
       "      <td> 20480.000000</td>\n",
       "      <td> 20480.000000</td>\n",
       "      <td> 20480.000000</td>\n",
       "      <td> 20480.000000</td>\n",
       "    </tr>\n",
       "    <tr>\n",
       "      <th>mean</th>\n",
       "      <td>    -0.117942</td>\n",
       "      <td>    -0.117336</td>\n",
       "      <td>    -0.117679</td>\n",
       "      <td>    -0.117687</td>\n",
       "      <td>    -0.115402</td>\n",
       "      <td>    -0.115210</td>\n",
       "      <td>    -0.115127</td>\n",
       "      <td>    -0.115211</td>\n",
       "    </tr>\n",
       "    <tr>\n",
       "      <th>std</th>\n",
       "      <td>     0.098773</td>\n",
       "      <td>     0.089443</td>\n",
       "      <td>     0.090986</td>\n",
       "      <td>     0.075687</td>\n",
       "      <td>     0.115783</td>\n",
       "      <td>     0.119641</td>\n",
       "      <td>     0.070968</td>\n",
       "      <td>     0.076410</td>\n",
       "    </tr>\n",
       "    <tr>\n",
       "      <th>min</th>\n",
       "      <td>    -0.649000</td>\n",
       "      <td>    -0.647000</td>\n",
       "      <td>    -0.547000</td>\n",
       "      <td>    -0.583000</td>\n",
       "      <td>    -0.850000</td>\n",
       "      <td>    -0.637000</td>\n",
       "      <td>    -0.454000</td>\n",
       "      <td>    -0.530000</td>\n",
       "    </tr>\n",
       "    <tr>\n",
       "      <th>25%</th>\n",
       "      <td>    -0.181000</td>\n",
       "      <td>    -0.176000</td>\n",
       "      <td>    -0.178000</td>\n",
       "      <td>    -0.168000</td>\n",
       "      <td>    -0.190000</td>\n",
       "      <td>    -0.193000</td>\n",
       "      <td>    -0.161000</td>\n",
       "      <td>    -0.164000</td>\n",
       "    </tr>\n",
       "    <tr>\n",
       "      <th>50%</th>\n",
       "      <td>    -0.117000</td>\n",
       "      <td>    -0.117000</td>\n",
       "      <td>    -0.117000</td>\n",
       "      <td>    -0.117000</td>\n",
       "      <td>    -0.117000</td>\n",
       "      <td>    -0.115000</td>\n",
       "      <td>    -0.115000</td>\n",
       "      <td>    -0.115000</td>\n",
       "    </tr>\n",
       "    <tr>\n",
       "      <th>75%</th>\n",
       "      <td>    -0.054000</td>\n",
       "      <td>    -0.061000</td>\n",
       "      <td>    -0.056000</td>\n",
       "      <td>    -0.068000</td>\n",
       "      <td>    -0.039000</td>\n",
       "      <td>    -0.037000</td>\n",
       "      <td>    -0.071000</td>\n",
       "      <td>    -0.068000</td>\n",
       "    </tr>\n",
       "    <tr>\n",
       "      <th>max</th>\n",
       "      <td>     0.500000</td>\n",
       "      <td>     0.476000</td>\n",
       "      <td>     0.327000</td>\n",
       "      <td>     0.237000</td>\n",
       "      <td>     0.547000</td>\n",
       "      <td>     0.635000</td>\n",
       "      <td>     0.259000</td>\n",
       "      <td>     0.278000</td>\n",
       "    </tr>\n",
       "  </tbody>\n",
       "</table>\n",
       "</div>"
      ],
      "text/plain": [
       "        Bearing 1.1   Bearing 1.2   Bearing 2.1   Bearing 2.2   Bearing 3.1  \\\n",
       "count  20480.000000  20480.000000  20480.000000  20480.000000  20480.000000   \n",
       "mean      -0.117942     -0.117336     -0.117679     -0.117687     -0.115402   \n",
       "std        0.098773      0.089443      0.090986      0.075687      0.115783   \n",
       "min       -0.649000     -0.647000     -0.547000     -0.583000     -0.850000   \n",
       "25%       -0.181000     -0.176000     -0.178000     -0.168000     -0.190000   \n",
       "50%       -0.117000     -0.117000     -0.117000     -0.117000     -0.117000   \n",
       "75%       -0.054000     -0.061000     -0.056000     -0.068000     -0.039000   \n",
       "max        0.500000      0.476000      0.327000      0.237000      0.547000   \n",
       "\n",
       "        Bearing 3.2   Bearing 4.1   Bearing 4.2  \n",
       "count  20480.000000  20480.000000  20480.000000  \n",
       "mean      -0.115210     -0.115127     -0.115211  \n",
       "std        0.119641      0.070968      0.076410  \n",
       "min       -0.637000     -0.454000     -0.530000  \n",
       "25%       -0.193000     -0.161000     -0.164000  \n",
       "50%       -0.115000     -0.115000     -0.115000  \n",
       "75%       -0.037000     -0.071000     -0.068000  \n",
       "max        0.635000      0.259000      0.278000  "
      ]
     },
     "execution_count": 33,
     "metadata": {},
     "output_type": "execute_result"
    }
   ],
   "source": [
    "df2.describe()"
   ]
  },
  {
   "cell_type": "markdown",
   "metadata": {},
   "source": [
    "From the stats, we can see taht we have exactly the same amount of samples on each channel, i.e. no manipulation needs to be done to clean up the dataset"
   ]
  },
  {
   "cell_type": "markdown",
   "metadata": {},
   "source": [
    "## What's in the data"
   ]
  },
  {
   "cell_type": "markdown",
   "metadata": {},
   "source": [
    "We can start out by counting the instances of each single sample value, on one channel sorted by the maximum occurences"
   ]
  },
  {
   "cell_type": "code",
   "execution_count": 45,
   "metadata": {
    "collapsed": false
   },
   "outputs": [
    {
     "data": {
      "text/plain": [
       "-0.078    300\n",
       "-0.098    273\n",
       "-0.081    271\n",
       "-0.088    271\n",
       "-0.107    259\n",
       "-0.054    257\n",
       "-0.110    256\n",
       "-0.076    252\n",
       "-0.117    249\n",
       "-0.068    249\n",
       "-0.095    249\n",
       "-0.115    248\n",
       "-0.156    248\n",
       "-0.093    246\n",
       "-0.090    244\n",
       "...\n",
       " 0.190    1\n",
       "-0.461    1\n",
       " 0.171    1\n",
       " 0.215    1\n",
       "-0.371    1\n",
       " 0.176    1\n",
       "-0.398    1\n",
       " 0.173    1\n",
       " 0.205    1\n",
       " 0.303    1\n",
       "-0.339    1\n",
       " 0.261    1\n",
       "-0.452    1\n",
       "-0.403    1\n",
       " 0.168    1\n",
       "Length: 280, dtype: int64"
      ]
     },
     "execution_count": 45,
     "metadata": {},
     "output_type": "execute_result"
    }
   ],
   "source": [
    "df['Bearing 1.1'].value_counts() #list the data in colums **f314**"
   ]
  },
  {
   "cell_type": "markdown",
   "metadata": {},
   "source": [
    "Now we can look at the largest ampltiude values obtained, perhaps this can be informative, when comparing smaples over time\n",
    "\n",
    "Start with the data from the **fresh bearing**"
   ]
  },
  {
   "cell_type": "code",
   "execution_count": 48,
   "metadata": {
    "collapsed": false
   },
   "outputs": [
    {
     "data": {
      "text/plain": [
       "15261    0.388\n",
       "4308     0.366\n",
       "15003    0.327\n",
       "6964     0.303\n",
       "9768     0.281\n",
       "9779     0.278\n",
       "12260    0.273\n",
       "12510    0.261\n",
       "7033     0.232\n",
       "15256    0.232\n",
       "Name: Bearing 1.1, dtype: float64"
      ]
     },
     "execution_count": 48,
     "metadata": {},
     "output_type": "execute_result"
    }
   ],
   "source": [
    "df['Bearing 1.1'].nlargest(10) \n"
   ]
  },
  {
   "cell_type": "code",
   "execution_count": 51,
   "metadata": {
    "collapsed": false
   },
   "outputs": [
    {
     "data": {
      "text/plain": [
       "7036    -0.720\n",
       "15253   -0.601\n",
       "15011   -0.547\n",
       "12269   -0.503\n",
       "9771    -0.488\n",
       "18289   -0.483\n",
       "17905   -0.479\n",
       "15258   -0.471\n",
       "15263   -0.464\n",
       "17988   -0.461\n",
       "Name: Bearing 1.1, dtype: float64"
      ]
     },
     "execution_count": 51,
     "metadata": {},
     "output_type": "execute_result"
    }
   ],
   "source": [
    "df['Bearing 1.1'].nsmallest(10) "
   ]
  },
  {
   "cell_type": "markdown",
   "metadata": {},
   "source": [
    "Then use the data from the **damaged bearing**"
   ]
  },
  {
   "cell_type": "code",
   "execution_count": 52,
   "metadata": {
    "collapsed": false
   },
   "outputs": [
    {
     "data": {
      "text/plain": [
       "8726     0.500\n",
       "13899    0.464\n",
       "2961     0.386\n",
       "2951     0.327\n",
       "16665    0.305\n",
       "222      0.303\n",
       "16660    0.298\n",
       "212      0.288\n",
       "2995     0.288\n",
       "16882    0.288\n",
       "Name: Bearing 1.1, dtype: float64"
      ]
     },
     "execution_count": 52,
     "metadata": {},
     "output_type": "execute_result"
    }
   ],
   "source": [
    "df2['Bearing 1.1'].nlargest(10) \n"
   ]
  },
  {
   "cell_type": "code",
   "execution_count": 54,
   "metadata": {
    "collapsed": false
   },
   "outputs": [
    {
     "data": {
      "text/plain": [
       "14964   -0.649\n",
       "5949    -0.615\n",
       "214     -0.598\n",
       "2947    -0.598\n",
       "8724    -0.566\n",
       "236     -0.559\n",
       "16668   -0.549\n",
       "8420    -0.542\n",
       "13892   -0.537\n",
       "11154   -0.522\n",
       "Name: Bearing 1.1, dtype: float64"
      ]
     },
     "execution_count": 54,
     "metadata": {},
     "output_type": "execute_result"
    }
   ],
   "source": [
    "df2['Bearing 1.1'].nsmallest(10) "
   ]
  },
  {
   "cell_type": "markdown",
   "metadata": {},
   "source": [
    "We can see the damaged bearing seems to have more high negative samples values, we need to find a more informal way to display theese"
   ]
  },
  {
   "cell_type": "markdown",
   "metadata": {},
   "source": [
    "### Distribution analysis\n",
    "\n"
   ]
  },
  {
   "cell_type": "markdown",
   "metadata": {},
   "source": [
    "Now that we are familiar with basic data characteristics, let us study distribution of various variables. Let us start with numeric variables – namely ApplicantIncome and LoanAmount\n",
    "\n",
    "Lets start by plotting the histogram of **f6** assuming it is somkind descriptive data, could be income, using the following commands:\n",
    "    df['f6'].hist(bins=50)"
   ]
  },
  {
   "cell_type": "code",
   "execution_count": 56,
   "metadata": {
    "collapsed": false
   },
   "outputs": [
    {
     "data": {
      "text/plain": [
       "(0, 1400)"
      ]
     },
     "execution_count": 56,
     "metadata": {},
     "output_type": "execute_result"
    },
    {
     "data": {
      "image/png": "[encoded data removed]",
      "text/plain": [
       "<matplotlib.figure.Figure at 0x10bcaf390>"
      ]
     },
     "metadata": {},
     "output_type": "display_data"
    }
   ],
   "source": [
    "pd.set_option('display.mpl_style', 'default') # Make the graphs a bit prettier\n",
    "plt.rcParams['figure.figsize'] = (15, 10)\n",
    "\n",
    "plt.subplot(3,1,1)\n",
    "df['Bearing 1.1'].hist(bins=100)\n",
    "plt.title(\"Fresh bearing\")\n",
    "plt.xlim(-0.4,0.4)\n",
    "plt.ylim(0,1400)\n",
    "\n",
    "plt.subplot(3,1,2)\n",
    "df2['Bearing 1.1'].hist(bins=100)\n",
    "plt.title(\"Worn bearing\")\n",
    "plt.xlim(-0.4,0.4)\n",
    "plt.ylim(0,1400)"
   ]
  },
  {
   "cell_type": "markdown",
   "metadata": {},
   "source": [
    "Now lets zoom in in the range **-0.3 .. -0.7**"
   ]
  },
  {
   "cell_type": "code",
   "execution_count": 57,
   "metadata": {
    "collapsed": false
   },
   "outputs": [
    {
     "data": {
      "text/plain": [
       "(0, 200)"
      ]
     },
     "execution_count": 57,
     "metadata": {},
     "output_type": "execute_result"
    },
    {
     "data": {
      "image/png": "[encoded data removed]",
      "text/plain": [
       "<matplotlib.figure.Figure at 0x10b98f550>"
      ]
     },
     "metadata": {},
     "output_type": "display_data"
    }
   ],
   "source": [
    "plt.subplot(3,1,1)\n",
    "df['Bearing 1.1'].hist(bins=100)\n",
    "plt.title(\"Fresh bearing\")\n",
    "plt.xlim(-0.7,-0.3)\n",
    "plt.ylim(0,200)\n",
    "\n",
    "plt.subplot(3,1,2)\n",
    "df2['Bearing 1.1'].hist(bins=100)\n",
    "plt.title(\"Worn bearing\")\n",
    "plt.xlim(-0.7,-0.3)\n",
    "plt.ylim(0,200)"
   ]
  },
  {
   "cell_type": "markdown",
   "metadata": {},
   "source": []
  },
  {
   "cell_type": "markdown",
   "metadata": {},
   "source": [
    "We can look more at the distribution, using a boxplot"
   ]
  },
  {
   "cell_type": "code",
   "execution_count": 88,
   "metadata": {
    "collapsed": false
   },
   "outputs": [
    {
     "data": {
      "image/png": "[encoded data removed]",
      "text/plain": [
       "<matplotlib.figure.Figure at 0x10bc32290>"
      ]
     },
     "metadata": {},
     "output_type": "display_data"
    }
   ],
   "source": [
    "\n",
    "plt.subplot('{0}{1}{2}'.format(2,1,1))\n",
    "plt.boxplot(df['Bearing 1.1'],vert=0)\n",
    "plt.xlim(-0.6,0.6)\n",
    "plt.title(\"Fresh bearing\")\n",
    "\n",
    "plt.subplot('{0}{1}{2}'.format(2,1,2))\n",
    "plt.boxplot(df2['Bearing 1.1'],vert=0)\n",
    "plt.xlim(-0.6,0.6)\n",
    "plt.title(\"Worn bearing\")\n",
    "\n",
    "plt.show()"
   ]
  },
  {
   "cell_type": "code",
   "execution_count": null,
   "metadata": {
    "collapsed": false
   },
   "outputs": [],
   "source": [
    "#df.describe(include='all')\n",
    "df.describe()[['f6','f7']]"
   ]
  }
 ],
 "metadata": {
  "kernelspec": {
   "display_name": "Python 2",
   "language": "python",
   "name": "python2"
  },
  "language_info": {
   "codemirror_mode": {
    "name": "ipython",
    "version": 2
   },
   "file_extension": ".py",
   "mimetype": "text/x-python",
   "name": "python",
   "nbconvert_exporter": "python",
   "pygments_lexer": "ipython2",
   "version": "2.7.10"
  }
 },
 "nbformat": 4,
 "nbformat_minor": 0
}
