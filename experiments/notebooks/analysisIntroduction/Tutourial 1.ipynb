{
 "cells": [
  {
   "cell_type": "markdown",
   "metadata": {},
   "source": [
    "# Jupyter notebook tutourial part 1 "
   ]
  },
  {
   "cell_type": "markdown",
   "metadata": {},
   "source": [
    "This notebook runs through most of the points covered here \n",
    "\n",
    "[https://www.analyticsvidhya.com/blog/2016/01/complete-tutorial-learn-data-science-python-scratch-2/]"
   ]
  },
  {
   "cell_type": "code",
   "execution_count": 14,
   "metadata": {
    "collapsed": false
   },
   "outputs": [
    {
     "data": {
      "text/plain": [
       "44.3"
      ]
     },
     "execution_count": 14,
     "metadata": {},
     "output_type": "execute_result"
    }
   ],
   "source": [
    "sq_list = [1,2,3,5,7,8,11,2,445,44.3,2222]\n",
    "\n",
    "sq_list[-2]"
   ]
  },
  {
   "cell_type": "code",
   "execution_count": 32,
   "metadata": {
    "collapsed": false
   },
   "outputs": [
    {
     "name": "stdout",
     "output_type": "stream",
     "text": [
      "Hello world\n",
      "string length\n",
      "6\n"
     ]
    }
   ],
   "source": [
    "str = 'Hello '\n",
    "print str + 'world'\n",
    "print \"string length\"\n",
    "print len(str)\n"
   ]
  },
  {
   "cell_type": "code",
   "execution_count": 35,
   "metadata": {
    "collapsed": false
   },
   "outputs": [
    {
     "ename": "TypeError",
     "evalue": "'str' object does not support item assignment",
     "output_type": "error",
     "traceback": [
      "\u001b[0;31m---------------------------------------------------------------------------\u001b[0m",
      "\u001b[0;31mTypeError\u001b[0m                                 Traceback (most recent call last)",
      "\u001b[0;32m<ipython-input-35-173cd6b11a79>\u001b[0m in \u001b[0;36m<module>\u001b[0;34m()\u001b[0m\n\u001b[1;32m      1\u001b[0m \u001b[0;31m#try to change item in string\u001b[0m\u001b[0;34m\u001b[0m\u001b[0;34m\u001b[0m\u001b[0m\n\u001b[0;32m----> 2\u001b[0;31m \u001b[0mstr\u001b[0m\u001b[0;34m[\u001b[0m\u001b[0;36m2\u001b[0m\u001b[0;34m]\u001b[0m \u001b[0;34m=\u001b[0m \u001b[0;34m'i'\u001b[0m\u001b[0;34m\u001b[0m\u001b[0m\n\u001b[0m\u001b[1;32m      3\u001b[0m \u001b[0;31m#won't work, string are immutable, after declared\u001b[0m\u001b[0;34m\u001b[0m\u001b[0;34m\u001b[0m\u001b[0m\n",
      "\u001b[0;31mTypeError\u001b[0m: 'str' object does not support item assignment"
     ]
    }
   ],
   "source": [
    "#try to change item in string\n",
    "str[2] = 'i' \n",
    "#won't work, string are immutable, after declared"
   ]
  },
  {
   "cell_type": "markdown",
   "metadata": {},
   "source": [
    "## Tuples "
   ]
  },
  {
   "cell_type": "markdown",
   "metadata": {},
   "source": [
    "Tuples – A tuple is represented by a number of values separated by commas. \n",
    "\n",
    "Tuples are immutable and the output is surrounded by parentheses so that nested tuples are processed correctly. \n",
    "\n",
    "Additionally, even though tuples are immutable, they can hold mutable data if needed"
   ]
  },
  {
   "cell_type": "code",
   "execution_count": 38,
   "metadata": {
    "collapsed": false
   },
   "outputs": [
    {
     "data": {
      "text/plain": [
       "(1, 33, 4, 5, 77, 8, 11, 222)"
      ]
     },
     "execution_count": 38,
     "metadata": {},
     "output_type": "execute_result"
    }
   ],
   "source": [
    "tup_ex = 1,33,4,5,77,8,11,222\n",
    "tup_ex"
   ]
  },
  {
   "cell_type": "code",
   "execution_count": 40,
   "metadata": {
    "collapsed": false
   },
   "outputs": [
    {
     "data": {
      "text/plain": [
       "5"
      ]
     },
     "execution_count": 40,
     "metadata": {},
     "output_type": "execute_result"
    }
   ],
   "source": [
    "tup_ex[3]"
   ]
  },
  {
   "cell_type": "code",
   "execution_count": 42,
   "metadata": {
    "collapsed": false
   },
   "outputs": [
    {
     "ename": "TypeError",
     "evalue": "'tuple' object does not support item assignment",
     "output_type": "error",
     "traceback": [
      "\u001b[0;31m---------------------------------------------------------------------------\u001b[0m",
      "\u001b[0;31mTypeError\u001b[0m                                 Traceback (most recent call last)",
      "\u001b[0;32m<ipython-input-42-fd15fdc90bec>\u001b[0m in \u001b[0;36m<module>\u001b[0;34m()\u001b[0m\n\u001b[0;32m----> 1\u001b[0;31m \u001b[0mtup_ex\u001b[0m\u001b[0;34m[\u001b[0m\u001b[0;36m2\u001b[0m\u001b[0;34m]\u001b[0m \u001b[0;34m=\u001b[0m \u001b[0;36m55\u001b[0m \u001b[0;31m#tuples are also immutable, won't work\u001b[0m\u001b[0;34m\u001b[0m\u001b[0m\n\u001b[0m",
      "\u001b[0;31mTypeError\u001b[0m: 'tuple' object does not support item assignment"
     ]
    }
   ],
   "source": [
    "tup_ex[2] = 55 #tuples are also immutable, won't work"
   ]
  },
  {
   "cell_type": "markdown",
   "metadata": {},
   "source": [
    "## Dictionary "
   ]
  },
  {
   "cell_type": "markdown",
   "metadata": {},
   "source": [
    "Dictionary – Dictionary is an unordered set of key: value pairs, with the requirement that the keys are unique (within one dictionary). \n",
    "\n",
    "A pair of braces creates an empty dictionary: {}"
   ]
  },
  {
   "cell_type": "code",
   "execution_count": 49,
   "metadata": {
    "collapsed": true
   },
   "outputs": [],
   "source": [
    "postnr= {\"Holste\": 7500, \"struer\": 7600}"
   ]
  },
  {
   "cell_type": "code",
   "execution_count": 50,
   "metadata": {
    "collapsed": false
   },
   "outputs": [
    {
     "data": {
      "text/plain": [
       "['struer', 'Holste']"
      ]
     },
     "execution_count": 50,
     "metadata": {},
     "output_type": "execute_result"
    }
   ],
   "source": [
    "postnr.keys()"
   ]
  },
  {
   "cell_type": "code",
   "execution_count": 52,
   "metadata": {
    "collapsed": false
   },
   "outputs": [
    {
     "data": {
      "text/plain": [
       "[('struer', 7600), ('Holste', 7500)]"
      ]
     },
     "execution_count": 52,
     "metadata": {},
     "output_type": "execute_result"
    }
   ],
   "source": [
    "postnr.items()"
   ]
  },
  {
   "cell_type": "markdown",
   "metadata": {},
   "source": [
    "# Iterators"
   ]
  },
  {
   "cell_type": "markdown",
   "metadata": {},
   "source": [
    "Like most languages, Python also has a FOR-loop which is the most widely used method for iteration. It has a simple syntax.\n",
    "\n",
    "Here “Python Iterable” can be a list, tuple or other advanced data structures which we will explore in later sections. Let’s take a look at a simple example, determining the factorial of a number.\n",
    "\n"
   ]
  },
  {
   "cell_type": "code",
   "execution_count": 58,
   "metadata": {
    "collapsed": false
   },
   "outputs": [
    {
     "name": "stdout",
     "output_type": "stream",
     "text": [
      "6\n"
     ]
    }
   ],
   "source": [
    "N=3\n",
    "fact=1\n",
    "for i in range(1,N+1):\n",
    "  fact *= i\n",
    "\n",
    "print fact"
   ]
  },
  {
   "cell_type": "markdown",
   "metadata": {},
   "source": [
    "# Going further and using libaries"
   ]
  },
  {
   "cell_type": "markdown",
   "metadata": {},
   "source": [
    "Now that you are familiar with Python fundamentals, let’s take a step further. What if you have to perform the following tasks:\n",
    "\n",
    " - Multiply 2 matrices\n",
    " - Find the root of a quadratic equation\n",
    " - Plot bar charts and histograms\n",
    " - Make statistical models\n",
    " - Access web-pages"
   ]
  },
  {
   "cell_type": "markdown",
   "metadata": {},
   "source": [
    "## Python Libraries\n",
    "\n"
   ]
  },
  {
   "cell_type": "markdown",
   "metadata": {},
   "source": [
    "Lets take one step ahead in our journey to learn Python by getting acquainted with some useful libraries.\n",
    "\n",
    "The first step is obviously to learn to import them into our environment. \n",
    "\n",
    "There are several ways of doing so in Python:\n",
    "\n",
    "    import math as m\n",
    "    \n",
    "or\n",
    "\n",
    "    from math import *  \n",
    "    \n",
    "In the first manner, we have defined an alias m to library math. We can now use various functions from math library (e.g. factorial) by referencing it using the alias \n",
    "    \n",
    "    m.factorial().\n",
    "\n",
    "In the second manner, you have imported the entire name space in math i.e. you can directly use factorial() without referring to math.\n"
   ]
  },
  {
   "cell_type": "code",
   "execution_count": 63,
   "metadata": {
    "collapsed": false
   },
   "outputs": [
    {
     "data": {
      "text/plain": [
       "8.0"
      ]
     },
     "execution_count": 63,
     "metadata": {},
     "output_type": "execute_result"
    }
   ],
   "source": [
    "import math as m\n",
    "\n",
    "m.sqrt(64)"
   ]
  },
  {
   "cell_type": "markdown",
   "metadata": {},
   "source": [
    "## Introduction to Series and Dataframes"
   ]
  },
  {
   "cell_type": "markdown",
   "metadata": {},
   "source": [
    "Series can be understood as a 1 dimensional labelled / indexed array. You can access individual elements of this series through these labels.\n",
    "\n",
    "A dataframe is similar to Excel workbook – you have column names referring to columns and you have rows, which can be accessed with use of row numbers. The essential difference being that column names and row numbers are known as column and row index, in case of dataframes.\n",
    "\n",
    "Series and dataframes form the core data model for Pandas in Python. The data sets are first read into these dataframes and then various operations (e.g. group by, aggregation etc.) can be applied very easily to its columns.\n",
    "\n",
    "Consider spending 10+ minuttes on this [http://pandas.pydata.org/pandas-docs/stable/10min.html]"
   ]
  },
  {
   "cell_type": "markdown",
   "metadata": {},
   "source": [
    "### The loan dataset, obtained from kaggle.com"
   ]
  },
  {
   "cell_type": "markdown",
   "metadata": {},
   "source": [
    "Create an acount and get the datasets **train.csv** and **test.csv** here [https://www.kaggle.com/c/loan-default-prediction/data?train_v2.csv.zip]"
   ]
  },
  {
   "cell_type": "code",
   "execution_count": 79,
   "metadata": {
    "collapsed": false
   },
   "outputs": [
    {
     "name": "stdout",
     "output_type": "stream",
     "text": [
      "Populating the interactive namespace from numpy and matplotlib\n"
     ]
    }
   ],
   "source": [
    "# keep stuff inside the notebook, for UI\n",
    "%pylab inline\n",
    "%matplotlib inline   \n",
    "\n"
   ]
  },
  {
   "cell_type": "code",
   "execution_count": 70,
   "metadata": {
    "collapsed": false
   },
   "outputs": [
    {
     "name": "stderr",
     "output_type": "stream",
     "text": [
      "/Library/Python/2.7/site-packages/pandas/io/parsers.py:1159: DtypeWarning: Columns (135,204,274,417,462) have mixed types. Specify dtype option on import or set low_memory=False.\n",
      "  data = self._reader.read(nrows)\n"
     ]
    }
   ],
   "source": [
    "import pandas as pd\n",
    "import numpy as np\n",
    "import matplotlib as plt\n",
    "\n",
    "df = pd.read_csv(\"./data/train_v2.csv\") #Reading the dataset in a dataframe using Pandas"
   ]
  },
  {
   "cell_type": "code",
   "execution_count": 81,
   "metadata": {
    "collapsed": false
   },
   "outputs": [
    {
     "data": {
      "text/html": [
       "<div style=\"max-height:1000px;max-width:1500px;overflow:auto;\">\n",
       "<table border=\"1\" class=\"dataframe\">\n",
       "  <thead>\n",
       "    <tr style=\"text-align: right;\">\n",
       "      <th></th>\n",
       "      <th>id</th>\n",
       "      <th>f1</th>\n",
       "      <th>f2</th>\n",
       "      <th>f3</th>\n",
       "      <th>f4</th>\n",
       "      <th>f5</th>\n",
       "      <th>f6</th>\n",
       "      <th>f7</th>\n",
       "      <th>f8</th>\n",
       "      <th>f9</th>\n",
       "      <th>...</th>\n",
       "      <th>f770</th>\n",
       "      <th>f771</th>\n",
       "      <th>f772</th>\n",
       "      <th>f773</th>\n",
       "      <th>f774</th>\n",
       "      <th>f775</th>\n",
       "      <th>f776</th>\n",
       "      <th>f777</th>\n",
       "      <th>f778</th>\n",
       "      <th>loss</th>\n",
       "    </tr>\n",
       "  </thead>\n",
       "  <tbody>\n",
       "    <tr>\n",
       "      <th>0</th>\n",
       "      <td> 1</td>\n",
       "      <td> 126</td>\n",
       "      <td> 10</td>\n",
       "      <td> 0.686842</td>\n",
       "      <td> 1100</td>\n",
       "      <td> 3</td>\n",
       "      <td> 13699</td>\n",
       "      <td> 7201</td>\n",
       "      <td> 4949</td>\n",
       "      <td> 126.75</td>\n",
       "      <td>...</td>\n",
       "      <td>  5</td>\n",
       "      <td> 2.14</td>\n",
       "      <td>-1.54</td>\n",
       "      <td> 1.18</td>\n",
       "      <td> 0.1833</td>\n",
       "      <td> 0.7873</td>\n",
       "      <td> 1</td>\n",
       "      <td> 0</td>\n",
       "      <td> 5</td>\n",
       "      <td> 0</td>\n",
       "    </tr>\n",
       "    <tr>\n",
       "      <th>1</th>\n",
       "      <td> 2</td>\n",
       "      <td> 121</td>\n",
       "      <td> 10</td>\n",
       "      <td> 0.782776</td>\n",
       "      <td> 1100</td>\n",
       "      <td> 3</td>\n",
       "      <td> 84645</td>\n",
       "      <td>  240</td>\n",
       "      <td> 1625</td>\n",
       "      <td> 123.52</td>\n",
       "      <td>...</td>\n",
       "      <td>  6</td>\n",
       "      <td> 0.54</td>\n",
       "      <td>-0.24</td>\n",
       "      <td> 0.13</td>\n",
       "      <td> 0.1926</td>\n",
       "      <td>-0.6787</td>\n",
       "      <td> 1</td>\n",
       "      <td> 0</td>\n",
       "      <td> 5</td>\n",
       "      <td> 0</td>\n",
       "    </tr>\n",
       "    <tr>\n",
       "      <th>2</th>\n",
       "      <td> 3</td>\n",
       "      <td> 126</td>\n",
       "      <td> 10</td>\n",
       "      <td> 0.500080</td>\n",
       "      <td> 1100</td>\n",
       "      <td> 3</td>\n",
       "      <td> 83607</td>\n",
       "      <td> 1800</td>\n",
       "      <td> 1527</td>\n",
       "      <td> 127.76</td>\n",
       "      <td>...</td>\n",
       "      <td> 13</td>\n",
       "      <td> 2.89</td>\n",
       "      <td>-1.73</td>\n",
       "      <td> 1.04</td>\n",
       "      <td> 0.2521</td>\n",
       "      <td> 0.7258</td>\n",
       "      <td> 1</td>\n",
       "      <td> 0</td>\n",
       "      <td> 5</td>\n",
       "      <td> 0</td>\n",
       "    </tr>\n",
       "    <tr>\n",
       "      <th>3</th>\n",
       "      <td> 4</td>\n",
       "      <td> 134</td>\n",
       "      <td> 10</td>\n",
       "      <td> 0.439874</td>\n",
       "      <td> 1100</td>\n",
       "      <td> 3</td>\n",
       "      <td> 82642</td>\n",
       "      <td> 7542</td>\n",
       "      <td> 1730</td>\n",
       "      <td> 132.94</td>\n",
       "      <td>...</td>\n",
       "      <td>  4</td>\n",
       "      <td> 1.29</td>\n",
       "      <td>-0.89</td>\n",
       "      <td> 0.66</td>\n",
       "      <td> 0.2498</td>\n",
       "      <td> 0.7119</td>\n",
       "      <td> 1</td>\n",
       "      <td> 0</td>\n",
       "      <td> 5</td>\n",
       "      <td> 0</td>\n",
       "    </tr>\n",
       "    <tr>\n",
       "      <th>4</th>\n",
       "      <td> 5</td>\n",
       "      <td> 109</td>\n",
       "      <td>  9</td>\n",
       "      <td> 0.502749</td>\n",
       "      <td> 2900</td>\n",
       "      <td> 4</td>\n",
       "      <td> 79124</td>\n",
       "      <td>   89</td>\n",
       "      <td>  491</td>\n",
       "      <td> 122.72</td>\n",
       "      <td>...</td>\n",
       "      <td> 26</td>\n",
       "      <td> 6.11</td>\n",
       "      <td>-3.82</td>\n",
       "      <td> 2.51</td>\n",
       "      <td> 0.2282</td>\n",
       "      <td>-0.5399</td>\n",
       "      <td> 0</td>\n",
       "      <td> 0</td>\n",
       "      <td> 5</td>\n",
       "      <td> 0</td>\n",
       "    </tr>\n",
       "  </tbody>\n",
       "</table>\n",
       "<p>5 rows × 771 columns</p>\n",
       "</div>"
      ],
      "text/plain": [
       "   id   f1  f2        f3    f4  f5     f6    f7    f8      f9  ...   f770  \\\n",
       "0   1  126  10  0.686842  1100   3  13699  7201  4949  126.75  ...      5   \n",
       "1   2  121  10  0.782776  1100   3  84645   240  1625  123.52  ...      6   \n",
       "2   3  126  10  0.500080  1100   3  83607  1800  1527  127.76  ...     13   \n",
       "3   4  134  10  0.439874  1100   3  82642  7542  1730  132.94  ...      4   \n",
       "4   5  109   9  0.502749  2900   4  79124    89   491  122.72  ...     26   \n",
       "\n",
       "   f771  f772  f773    f774    f775  f776  f777  f778  loss  \n",
       "0  2.14 -1.54  1.18  0.1833  0.7873     1     0     5     0  \n",
       "1  0.54 -0.24  0.13  0.1926 -0.6787     1     0     5     0  \n",
       "2  2.89 -1.73  1.04  0.2521  0.7258     1     0     5     0  \n",
       "3  1.29 -0.89  0.66  0.2498  0.7119     1     0     5     0  \n",
       "4  6.11 -3.82  2.51  0.2282 -0.5399     0     0     5     0  \n",
       "\n",
       "[5 rows x 771 columns]"
      ]
     },
     "execution_count": 81,
     "metadata": {},
     "output_type": "execute_result"
    }
   ],
   "source": [
    "# a quick look at the data\n",
    "df.head()"
   ]
  },
  {
   "cell_type": "code",
   "execution_count": 82,
   "metadata": {
    "collapsed": false
   },
   "outputs": [
    {
     "data": {
      "text/html": [
       "<div style=\"max-height:1000px;max-width:1500px;overflow:auto;\">\n",
       "<table border=\"1\" class=\"dataframe\">\n",
       "  <thead>\n",
       "    <tr style=\"text-align: right;\">\n",
       "      <th></th>\n",
       "      <th>id</th>\n",
       "      <th>f1</th>\n",
       "      <th>f2</th>\n",
       "      <th>f3</th>\n",
       "      <th>f4</th>\n",
       "      <th>f5</th>\n",
       "      <th>f6</th>\n",
       "      <th>f7</th>\n",
       "      <th>f8</th>\n",
       "      <th>f9</th>\n",
       "      <th>...</th>\n",
       "      <th>f770</th>\n",
       "      <th>f771</th>\n",
       "      <th>f772</th>\n",
       "      <th>f773</th>\n",
       "      <th>f774</th>\n",
       "      <th>f775</th>\n",
       "      <th>f776</th>\n",
       "      <th>f777</th>\n",
       "      <th>f778</th>\n",
       "      <th>loss</th>\n",
       "    </tr>\n",
       "  </thead>\n",
       "  <tbody>\n",
       "    <tr>\n",
       "      <th>count</th>\n",
       "      <td> 105471.000000</td>\n",
       "      <td> 105471.000000</td>\n",
       "      <td> 105471.000000</td>\n",
       "      <td> 105471.000000</td>\n",
       "      <td> 105471.000000</td>\n",
       "      <td> 105471.000000</td>\n",
       "      <td> 105471.000000</td>\n",
       "      <td> 105289.000000</td>\n",
       "      <td> 105370.000000</td>\n",
       "      <td> 105471.000000</td>\n",
       "      <td>...</td>\n",
       "      <td> 105471.000000</td>\n",
       "      <td> 105471.000000</td>\n",
       "      <td> 105471.000000</td>\n",
       "      <td> 105471.000000</td>\n",
       "      <td> 104407.000000</td>\n",
       "      <td> 103946.000000</td>\n",
       "      <td> 105471.000000</td>\n",
       "      <td> 105471.000000</td>\n",
       "      <td> 105471.000000</td>\n",
       "      <td> 105471.000000</td>\n",
       "    </tr>\n",
       "    <tr>\n",
       "      <th>mean</th>\n",
       "      <td>  52736.000000</td>\n",
       "      <td>    134.603171</td>\n",
       "      <td>      8.246883</td>\n",
       "      <td>      0.499066</td>\n",
       "      <td>   2678.488874</td>\n",
       "      <td>      7.354533</td>\n",
       "      <td>  47993.704317</td>\n",
       "      <td>   2974.336018</td>\n",
       "      <td>   2436.363718</td>\n",
       "      <td>    134.555225</td>\n",
       "      <td>...</td>\n",
       "      <td>     17.422543</td>\n",
       "      <td>      5.800976</td>\n",
       "      <td>     -4.246788</td>\n",
       "      <td>      3.273059</td>\n",
       "      <td>      0.233852</td>\n",
       "      <td>      0.014797</td>\n",
       "      <td>      0.310246</td>\n",
       "      <td>      0.322847</td>\n",
       "      <td>    175.951589</td>\n",
       "      <td>      0.799585</td>\n",
       "    </tr>\n",
       "    <tr>\n",
       "      <th>std</th>\n",
       "      <td>  30446.999458</td>\n",
       "      <td>     14.725467</td>\n",
       "      <td>      1.691535</td>\n",
       "      <td>      0.288752</td>\n",
       "      <td>   1401.010943</td>\n",
       "      <td>      5.151112</td>\n",
       "      <td>  35677.136048</td>\n",
       "      <td>   2546.551085</td>\n",
       "      <td>   2262.950221</td>\n",
       "      <td>     13.824682</td>\n",
       "      <td>...</td>\n",
       "      <td>     18.548936</td>\n",
       "      <td>      6.508555</td>\n",
       "      <td>      4.828265</td>\n",
       "      <td>      3.766746</td>\n",
       "      <td>      0.073578</td>\n",
       "      <td>      1.039439</td>\n",
       "      <td>      0.462597</td>\n",
       "      <td>      0.467567</td>\n",
       "      <td>    298.294043</td>\n",
       "      <td>      4.321120</td>\n",
       "    </tr>\n",
       "    <tr>\n",
       "      <th>min</th>\n",
       "      <td>      1.000000</td>\n",
       "      <td>    103.000000</td>\n",
       "      <td>      1.000000</td>\n",
       "      <td>      0.000006</td>\n",
       "      <td>   1100.000000</td>\n",
       "      <td>      1.000000</td>\n",
       "      <td>      0.000000</td>\n",
       "      <td>      1.000000</td>\n",
       "      <td>      1.000000</td>\n",
       "      <td>    106.820000</td>\n",
       "      <td>...</td>\n",
       "      <td>      2.000000</td>\n",
       "      <td>      0.000000</td>\n",
       "      <td>    -43.160000</td>\n",
       "      <td>      0.000000</td>\n",
       "      <td>      0.000000</td>\n",
       "      <td>    -18.439600</td>\n",
       "      <td>      0.000000</td>\n",
       "      <td>      0.000000</td>\n",
       "      <td>      2.000000</td>\n",
       "      <td>      0.000000</td>\n",
       "    </tr>\n",
       "    <tr>\n",
       "      <th>25%</th>\n",
       "      <td>  26368.500000</td>\n",
       "      <td>    124.000000</td>\n",
       "      <td>      8.000000</td>\n",
       "      <td>      0.248950</td>\n",
       "      <td>   1500.000000</td>\n",
       "      <td>      4.000000</td>\n",
       "      <td>  11255.000000</td>\n",
       "      <td>    629.000000</td>\n",
       "      <td>    746.000000</td>\n",
       "      <td>    124.290000</td>\n",
       "      <td>...</td>\n",
       "      <td>      5.000000</td>\n",
       "      <td>      1.480000</td>\n",
       "      <td>     -5.700000</td>\n",
       "      <td>      0.740000</td>\n",
       "      <td>      0.198400</td>\n",
       "      <td>     -0.704275</td>\n",
       "      <td>      0.000000</td>\n",
       "      <td>      0.000000</td>\n",
       "      <td>     19.000000</td>\n",
       "      <td>      0.000000</td>\n",
       "    </tr>\n",
       "    <tr>\n",
       "      <th>50%</th>\n",
       "      <td>  52736.000000</td>\n",
       "      <td>    129.000000</td>\n",
       "      <td>      9.000000</td>\n",
       "      <td>      0.498267</td>\n",
       "      <td>   2200.000000</td>\n",
       "      <td>      4.000000</td>\n",
       "      <td>  76530.000000</td>\n",
       "      <td>   2292.000000</td>\n",
       "      <td>   1786.000000</td>\n",
       "      <td>    128.460000</td>\n",
       "      <td>...</td>\n",
       "      <td>     11.000000</td>\n",
       "      <td>      3.570000</td>\n",
       "      <td>     -2.600000</td>\n",
       "      <td>      1.990000</td>\n",
       "      <td>      0.251800</td>\n",
       "      <td>      0.375400</td>\n",
       "      <td>      0.000000</td>\n",
       "      <td>      0.000000</td>\n",
       "      <td>     40.000000</td>\n",
       "      <td>      0.000000</td>\n",
       "    </tr>\n",
       "    <tr>\n",
       "      <th>75%</th>\n",
       "      <td>  79103.500000</td>\n",
       "      <td>    148.000000</td>\n",
       "      <td>      9.000000</td>\n",
       "      <td>      0.749494</td>\n",
       "      <td>   3700.000000</td>\n",
       "      <td>     10.000000</td>\n",
       "      <td>  80135.000000</td>\n",
       "      <td>   4679.000000</td>\n",
       "      <td>   3411.000000</td>\n",
       "      <td>    149.080000</td>\n",
       "      <td>...</td>\n",
       "      <td>     23.000000</td>\n",
       "      <td>      7.700000</td>\n",
       "      <td>     -1.010000</td>\n",
       "      <td>      4.440000</td>\n",
       "      <td>      0.283600</td>\n",
       "      <td>      0.737100</td>\n",
       "      <td>      1.000000</td>\n",
       "      <td>      1.000000</td>\n",
       "      <td>    104.000000</td>\n",
       "      <td>      0.000000</td>\n",
       "    </tr>\n",
       "    <tr>\n",
       "      <th>max</th>\n",
       "      <td> 105471.000000</td>\n",
       "      <td>    176.000000</td>\n",
       "      <td>     11.000000</td>\n",
       "      <td>      0.999994</td>\n",
       "      <td>   7900.000000</td>\n",
       "      <td>     17.000000</td>\n",
       "      <td>  88565.000000</td>\n",
       "      <td>   9968.000000</td>\n",
       "      <td>  11541.000000</td>\n",
       "      <td>    172.950000</td>\n",
       "      <td>...</td>\n",
       "      <td>    168.000000</td>\n",
       "      <td>     58.120000</td>\n",
       "      <td>      0.000000</td>\n",
       "      <td>     34.040000</td>\n",
       "      <td>      0.473700</td>\n",
       "      <td>     11.092000</td>\n",
       "      <td>      1.000000</td>\n",
       "      <td>      1.000000</td>\n",
       "      <td>   1212.000000</td>\n",
       "      <td>    100.000000</td>\n",
       "    </tr>\n",
       "  </tbody>\n",
       "</table>\n",
       "<p>8 rows × 751 columns</p>\n",
       "</div>"
      ],
      "text/plain": [
       "                  id             f1             f2             f3  \\\n",
       "count  105471.000000  105471.000000  105471.000000  105471.000000   \n",
       "mean    52736.000000     134.603171       8.246883       0.499066   \n",
       "std     30446.999458      14.725467       1.691535       0.288752   \n",
       "min         1.000000     103.000000       1.000000       0.000006   \n",
       "25%     26368.500000     124.000000       8.000000       0.248950   \n",
       "50%     52736.000000     129.000000       9.000000       0.498267   \n",
       "75%     79103.500000     148.000000       9.000000       0.749494   \n",
       "max    105471.000000     176.000000      11.000000       0.999994   \n",
       "\n",
       "                  f4             f5             f6             f7  \\\n",
       "count  105471.000000  105471.000000  105471.000000  105289.000000   \n",
       "mean     2678.488874       7.354533   47993.704317    2974.336018   \n",
       "std      1401.010943       5.151112   35677.136048    2546.551085   \n",
       "min      1100.000000       1.000000       0.000000       1.000000   \n",
       "25%      1500.000000       4.000000   11255.000000     629.000000   \n",
       "50%      2200.000000       4.000000   76530.000000    2292.000000   \n",
       "75%      3700.000000      10.000000   80135.000000    4679.000000   \n",
       "max      7900.000000      17.000000   88565.000000    9968.000000   \n",
       "\n",
       "                  f8             f9      ...                 f770  \\\n",
       "count  105370.000000  105471.000000      ...        105471.000000   \n",
       "mean     2436.363718     134.555225      ...            17.422543   \n",
       "std      2262.950221      13.824682      ...            18.548936   \n",
       "min         1.000000     106.820000      ...             2.000000   \n",
       "25%       746.000000     124.290000      ...             5.000000   \n",
       "50%      1786.000000     128.460000      ...            11.000000   \n",
       "75%      3411.000000     149.080000      ...            23.000000   \n",
       "max     11541.000000     172.950000      ...           168.000000   \n",
       "\n",
       "                f771           f772           f773           f774  \\\n",
       "count  105471.000000  105471.000000  105471.000000  104407.000000   \n",
       "mean        5.800976      -4.246788       3.273059       0.233852   \n",
       "std         6.508555       4.828265       3.766746       0.073578   \n",
       "min         0.000000     -43.160000       0.000000       0.000000   \n",
       "25%         1.480000      -5.700000       0.740000       0.198400   \n",
       "50%         3.570000      -2.600000       1.990000       0.251800   \n",
       "75%         7.700000      -1.010000       4.440000       0.283600   \n",
       "max        58.120000       0.000000      34.040000       0.473700   \n",
       "\n",
       "                f775           f776           f777           f778  \\\n",
       "count  103946.000000  105471.000000  105471.000000  105471.000000   \n",
       "mean        0.014797       0.310246       0.322847     175.951589   \n",
       "std         1.039439       0.462597       0.467567     298.294043   \n",
       "min       -18.439600       0.000000       0.000000       2.000000   \n",
       "25%        -0.704275       0.000000       0.000000      19.000000   \n",
       "50%         0.375400       0.000000       0.000000      40.000000   \n",
       "75%         0.737100       1.000000       1.000000     104.000000   \n",
       "max        11.092000       1.000000       1.000000    1212.000000   \n",
       "\n",
       "                loss  \n",
       "count  105471.000000  \n",
       "mean        0.799585  \n",
       "std         4.321120  \n",
       "min         0.000000  \n",
       "25%         0.000000  \n",
       "50%         0.000000  \n",
       "75%         0.000000  \n",
       "max       100.000000  \n",
       "\n",
       "[8 rows x 751 columns]"
      ]
     },
     "execution_count": 82,
     "metadata": {},
     "output_type": "execute_result"
    }
   ],
   "source": [
    "df.describe()"
   ]
  },
  {
   "cell_type": "code",
   "execution_count": 89,
   "metadata": {
    "collapsed": false
   },
   "outputs": [
    {
     "data": {
      "text/plain": [
       "0.00    23341\n",
       "0.01    13705\n",
       "0.50     5294\n",
       "0.13     4282\n",
       "0.02     4276\n",
       "0.04     4012\n",
       "0.07     3994\n",
       "0.25     3495\n",
       "0.51     2676\n",
       "0.26     2451\n",
       "0.75     1650\n",
       "0.03     1601\n",
       "0.38     1591\n",
       "0.05     1358\n",
       "0.63     1303\n",
       "...\n",
       "0.71    104\n",
       "0.74    103\n",
       "0.95    100\n",
       "0.37     99\n",
       "0.93     96\n",
       "0.86     94\n",
       "0.62     89\n",
       "0.96     78\n",
       "0.92     67\n",
       "0.99     65\n",
       "0.73     64\n",
       "0.81     63\n",
       "0.84     56\n",
       "0.87     53\n",
       "0.98     45\n",
       "Length: 101, dtype: int64"
      ]
     },
     "execution_count": 89,
     "metadata": {},
     "output_type": "execute_result"
    }
   ],
   "source": [
    "df['f314'].value_counts() #list the data in colums **f314**"
   ]
  },
  {
   "cell_type": "markdown",
   "metadata": {},
   "source": [
    "Read the test dataset into a separate panda"
   ]
  },
  {
   "cell_type": "code",
   "execution_count": 87,
   "metadata": {
    "collapsed": false
   },
   "outputs": [
    {
     "name": "stderr",
     "output_type": "stream",
     "text": [
      "/Library/Python/2.7/site-packages/pandas/io/parsers.py:1159: DtypeWarning: Columns (417,525) have mixed types. Specify dtype option on import or set low_memory=False.\n",
      "  data = self._reader.read(nrows)\n"
     ]
    }
   ],
   "source": [
    "df_test = pd.read_csv(\"./data/test_v2.csv\") #Reading the dataset in a dataframe using Pandas"
   ]
  },
  {
   "cell_type": "code",
   "execution_count": 90,
   "metadata": {
    "collapsed": false
   },
   "outputs": [
    {
     "data": {
      "text/html": [
       "<div style=\"max-height:1000px;max-width:1500px;overflow:auto;\">\n",
       "<table border=\"1\" class=\"dataframe\">\n",
       "  <thead>\n",
       "    <tr style=\"text-align: right;\">\n",
       "      <th></th>\n",
       "      <th>id</th>\n",
       "      <th>f1</th>\n",
       "      <th>f2</th>\n",
       "      <th>f3</th>\n",
       "      <th>f4</th>\n",
       "      <th>f5</th>\n",
       "      <th>f6</th>\n",
       "      <th>f7</th>\n",
       "      <th>f8</th>\n",
       "      <th>f9</th>\n",
       "      <th>...</th>\n",
       "      <th>f769</th>\n",
       "      <th>f770</th>\n",
       "      <th>f771</th>\n",
       "      <th>f772</th>\n",
       "      <th>f773</th>\n",
       "      <th>f774</th>\n",
       "      <th>f775</th>\n",
       "      <th>f776</th>\n",
       "      <th>f777</th>\n",
       "      <th>f778</th>\n",
       "    </tr>\n",
       "  </thead>\n",
       "  <tbody>\n",
       "    <tr>\n",
       "      <th>0</th>\n",
       "      <td> 105472</td>\n",
       "      <td> 147</td>\n",
       "      <td>  6</td>\n",
       "      <td> 0.487058</td>\n",
       "      <td> 1100</td>\n",
       "      <td> 17</td>\n",
       "      <td> 75506</td>\n",
       "      <td>  964</td>\n",
       "      <td> 12686</td>\n",
       "      <td> 152.63</td>\n",
       "      <td>...</td>\n",
       "      <td> -8.71</td>\n",
       "      <td> 19</td>\n",
       "      <td>  3.30</td>\n",
       "      <td>-9.37</td>\n",
       "      <td> 0.50</td>\n",
       "      <td> 0.0539</td>\n",
       "      <td>-1.0733</td>\n",
       "      <td> 0</td>\n",
       "      <td> 1</td>\n",
       "      <td> 1079</td>\n",
       "    </tr>\n",
       "    <tr>\n",
       "      <th>1</th>\n",
       "      <td> 105473</td>\n",
       "      <td> 156</td>\n",
       "      <td>  6</td>\n",
       "      <td> 0.728518</td>\n",
       "      <td> 5400</td>\n",
       "      <td>  3</td>\n",
       "      <td> 79754</td>\n",
       "      <td> 1455</td>\n",
       "      <td>  4803</td>\n",
       "      <td> 153.95</td>\n",
       "      <td>...</td>\n",
       "      <td>-13.26</td>\n",
       "      <td> 24</td>\n",
       "      <td>  9.53</td>\n",
       "      <td>-7.55</td>\n",
       "      <td> 6.22</td>\n",
       "      <td> 0.3030</td>\n",
       "      <td> 0.6087</td>\n",
       "      <td> 0</td>\n",
       "      <td> 1</td>\n",
       "      <td>   36</td>\n",
       "    </tr>\n",
       "    <tr>\n",
       "      <th>2</th>\n",
       "      <td> 105474</td>\n",
       "      <td> 132</td>\n",
       "      <td>  9</td>\n",
       "      <td> 0.898133</td>\n",
       "      <td> 2200</td>\n",
       "      <td> 16</td>\n",
       "      <td>   113</td>\n",
       "      <td> 5735</td>\n",
       "      <td>  2387</td>\n",
       "      <td> 130.61</td>\n",
       "      <td>...</td>\n",
       "      <td> -4.99</td>\n",
       "      <td>  9</td>\n",
       "      <td>  3.25</td>\n",
       "      <td>-2.33</td>\n",
       "      <td> 1.69</td>\n",
       "      <td> 0.2317</td>\n",
       "      <td> 0.4184</td>\n",
       "      <td> 0</td>\n",
       "      <td> 0</td>\n",
       "      <td>  393</td>\n",
       "    </tr>\n",
       "    <tr>\n",
       "      <th>3</th>\n",
       "      <td> 105475</td>\n",
       "      <td> 128</td>\n",
       "      <td>  7</td>\n",
       "      <td> 0.038411</td>\n",
       "      <td> 1300</td>\n",
       "      <td>  4</td>\n",
       "      <td>  3793</td>\n",
       "      <td> 4689</td>\n",
       "      <td>  3469</td>\n",
       "      <td> 120.50</td>\n",
       "      <td>...</td>\n",
       "      <td>-16.83</td>\n",
       "      <td> 11</td>\n",
       "      <td>  0.26</td>\n",
       "      <td>-5.31</td>\n",
       "      <td> 0.78</td>\n",
       "      <td> 0.2826</td>\n",
       "      <td>-0.7711</td>\n",
       "      <td> 0</td>\n",
       "      <td> 0</td>\n",
       "      <td>  394</td>\n",
       "    </tr>\n",
       "    <tr>\n",
       "      <th>4</th>\n",
       "      <td> 105476</td>\n",
       "      <td> 119</td>\n",
       "      <td> 10</td>\n",
       "      <td> 0.443620</td>\n",
       "      <td> 1300</td>\n",
       "      <td> 16</td>\n",
       "      <td> 13026</td>\n",
       "      <td> 2788</td>\n",
       "      <td>  7438</td>\n",
       "      <td> 127.00</td>\n",
       "      <td>...</td>\n",
       "      <td>-20.00</td>\n",
       "      <td> 10</td>\n",
       "      <td> 13.55</td>\n",
       "      <td>-0.61</td>\n",
       "      <td> 0.01</td>\n",
       "      <td> 0.1815</td>\n",
       "      <td>-1.0843</td>\n",
       "      <td> 0</td>\n",
       "      <td> 0</td>\n",
       "      <td>   23</td>\n",
       "    </tr>\n",
       "  </tbody>\n",
       "</table>\n",
       "<p>5 rows × 770 columns</p>\n",
       "</div>"
      ],
      "text/plain": [
       "       id   f1  f2        f3    f4  f5     f6    f7     f8      f9  ...   \\\n",
       "0  105472  147   6  0.487058  1100  17  75506   964  12686  152.63  ...    \n",
       "1  105473  156   6  0.728518  5400   3  79754  1455   4803  153.95  ...    \n",
       "2  105474  132   9  0.898133  2200  16    113  5735   2387  130.61  ...    \n",
       "3  105475  128   7  0.038411  1300   4   3793  4689   3469  120.50  ...    \n",
       "4  105476  119  10  0.443620  1300  16  13026  2788   7438  127.00  ...    \n",
       "\n",
       "    f769  f770   f771  f772  f773    f774    f775  f776  f777  f778  \n",
       "0  -8.71    19   3.30 -9.37  0.50  0.0539 -1.0733     0     1  1079  \n",
       "1 -13.26    24   9.53 -7.55  6.22  0.3030  0.6087     0     1    36  \n",
       "2  -4.99     9   3.25 -2.33  1.69  0.2317  0.4184     0     0   393  \n",
       "3 -16.83    11   0.26 -5.31  0.78  0.2826 -0.7711     0     0   394  \n",
       "4 -20.00    10  13.55 -0.61  0.01  0.1815 -1.0843     0     0    23  \n",
       "\n",
       "[5 rows x 770 columns]"
      ]
     },
     "execution_count": 90,
     "metadata": {},
     "output_type": "execute_result"
    }
   ],
   "source": [
    "df_test.head()"
   ]
  },
  {
   "cell_type": "markdown",
   "metadata": {},
   "source": [
    "### Distribution analysis\n",
    "\n"
   ]
  },
  {
   "cell_type": "markdown",
   "metadata": {},
   "source": [
    "Now that we are familiar with basic data characteristics, let us study distribution of various variables. Let us start with numeric variables – namely ApplicantIncome and LoanAmount\n",
    "\n",
    "Lets start by plotting the histogram of **f6** assuming it is somkind descriptive data, could be income, using the following commands:\n",
    "    df['f6'].hist(bins=50)"
   ]
  },
  {
   "cell_type": "code",
   "execution_count": 92,
   "metadata": {
    "collapsed": false
   },
   "outputs": [
    {
     "data": {
      "text/plain": [
       "<matplotlib.axes.AxesSubplot at 0x10fc1b250>"
      ]
     },
     "execution_count": 92,
     "metadata": {},
     "output_type": "execute_result"
    },
    {
     "data": {
      "image/png": "[encoded data removed]",
      "text/plain": [
       "<matplotlib.figure.Figure at 0x10fc13dd0>"
      ]
     },
     "metadata": {},
     "output_type": "display_data"
    }
   ],
   "source": [
    "df['f6'].hist(bins=50)"
   ]
  },
  {
   "cell_type": "markdown",
   "metadata": {},
   "source": [
    "Nown by using matplotlibs subplot, plot a number of columns, to see the distribution"
   ]
  },
  {
   "cell_type": "code",
   "execution_count": 101,
   "metadata": {
    "collapsed": false
   },
   "outputs": [
    {
     "data": {
      "text/plain": [
       "<matplotlib.text.Text at 0x11b8ac410>"
      ]
     },
     "execution_count": 101,
     "metadata": {},
     "output_type": "execute_result"
    },
    {
     "data": {
      "image/png": "[encoded data removed]",
      "text/plain": [
       "<matplotlib.figure.Figure at 0x11890dd90>"
      ]
     },
     "metadata": {},
     "output_type": "display_data"
    }
   ],
   "source": [
    "pd.set_option('display.mpl_style', 'default') # Make the graphs a bit prettier\n",
    "plt.rcParams['figure.figsize'] = (15, 10)\n",
    "\n",
    "plt.subplot(3,1,1)\n",
    "df['f6'].hist(bins=50)\n",
    "plt.title(\"f6\")\n",
    "plt.subplot(3,1,2)\n",
    "df['f7'].hist(bins=50)\n",
    "plt.title(\"f7\")\n",
    "plt.subplot(3,1,3)\n",
    "df['f8'].hist(bins=50)\n",
    "plt.title(\"f8\")\n"
   ]
  },
  {
   "cell_type": "markdown",
   "metadata": {},
   "source": [
    "Column **f6** reveals plots at each end, we can look more at the distribution, using a boxplot"
   ]
  },
  {
   "cell_type": "code",
   "execution_count": 104,
   "metadata": {
    "collapsed": false
   },
   "outputs": [
    {
     "data": {
      "text/plain": [
       "{'boxes': [<matplotlib.lines.Line2D at 0x11c502f10>],\n",
       " 'caps': [<matplotlib.lines.Line2D at 0x11c502290>,\n",
       "  <matplotlib.lines.Line2D at 0x11c5028d0>],\n",
       " 'fliers': [<matplotlib.lines.Line2D at 0x11c50dbd0>,\n",
       "  <matplotlib.lines.Line2D at 0x11c5195d0>],\n",
       " 'medians': [<matplotlib.lines.Line2D at 0x11c50d590>],\n",
       " 'whiskers': [<matplotlib.lines.Line2D at 0x11c4f4a90>,\n",
       "  <matplotlib.lines.Line2D at 0x11c4f4d10>]}"
      ]
     },
     "execution_count": 104,
     "metadata": {},
     "output_type": "execute_result"
    },
    {
     "data": {
      "image/png": "[encoded data removed]",
      "text/plain": [
       "<matplotlib.figure.Figure at 0x11c259f90>"
      ]
     },
     "metadata": {},
     "output_type": "display_data"
    }
   ],
   "source": [
    "df.boxplot(column='f6')"
   ]
  },
  {
   "cell_type": "code",
   "execution_count": 114,
   "metadata": {
    "collapsed": false
   },
   "outputs": [
    {
     "data": {
      "text/html": [
       "<div style=\"max-height:1000px;max-width:1500px;overflow:auto;\">\n",
       "<table border=\"1\" class=\"dataframe\">\n",
       "  <thead>\n",
       "    <tr style=\"text-align: right;\">\n",
       "      <th></th>\n",
       "      <th>f6</th>\n",
       "      <th>f7</th>\n",
       "    </tr>\n",
       "  </thead>\n",
       "  <tbody>\n",
       "    <tr>\n",
       "      <th>count</th>\n",
       "      <td> 105471.000000</td>\n",
       "      <td> 105289.000000</td>\n",
       "    </tr>\n",
       "    <tr>\n",
       "      <th>mean</th>\n",
       "      <td>  47993.704317</td>\n",
       "      <td>   2974.336018</td>\n",
       "    </tr>\n",
       "    <tr>\n",
       "      <th>std</th>\n",
       "      <td>  35677.136048</td>\n",
       "      <td>   2546.551085</td>\n",
       "    </tr>\n",
       "    <tr>\n",
       "      <th>min</th>\n",
       "      <td>      0.000000</td>\n",
       "      <td>      1.000000</td>\n",
       "    </tr>\n",
       "    <tr>\n",
       "      <th>25%</th>\n",
       "      <td>  11255.000000</td>\n",
       "      <td>    629.000000</td>\n",
       "    </tr>\n",
       "    <tr>\n",
       "      <th>50%</th>\n",
       "      <td>  76530.000000</td>\n",
       "      <td>   2292.000000</td>\n",
       "    </tr>\n",
       "    <tr>\n",
       "      <th>75%</th>\n",
       "      <td>  80135.000000</td>\n",
       "      <td>   4679.000000</td>\n",
       "    </tr>\n",
       "    <tr>\n",
       "      <th>max</th>\n",
       "      <td>  88565.000000</td>\n",
       "      <td>   9968.000000</td>\n",
       "    </tr>\n",
       "  </tbody>\n",
       "</table>\n",
       "</div>"
      ],
      "text/plain": [
       "                  f6             f7\n",
       "count  105471.000000  105289.000000\n",
       "mean    47993.704317    2974.336018\n",
       "std     35677.136048    2546.551085\n",
       "min         0.000000       1.000000\n",
       "25%     11255.000000     629.000000\n",
       "50%     76530.000000    2292.000000\n",
       "75%     80135.000000    4679.000000\n",
       "max     88565.000000    9968.000000"
      ]
     },
     "execution_count": 114,
     "metadata": {},
     "output_type": "execute_result"
    }
   ],
   "source": [
    "#refresh the statistic summary for col **f6**\n",
    "df.describe()[['f6','f7']]"
   ]
  }
 ],
 "metadata": {
  "kernelspec": {
   "display_name": "Python 2",
   "language": "python",
   "name": "python2"
  },
  "language_info": {
   "codemirror_mode": {
    "name": "ipython",
    "version": 2
   },
   "file_extension": ".py",
   "mimetype": "text/x-python",
   "name": "python",
   "nbconvert_exporter": "python",
   "pygments_lexer": "ipython2",
   "version": "2.7.10"
  }
 },
 "nbformat": 4,
 "nbformat_minor": 0
}
